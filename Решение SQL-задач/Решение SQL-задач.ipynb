{
 "cells": [
  {
   "cell_type": "markdown",
   "metadata": {},
   "source": [
    "# Проект по SQL \n",
    "\n",
    "Компания приобрела крупный сервис по чтению книг по подписке. Задача - проанализировать имеющуюся базу данных, содержащую информацию о книгах, издательствах, авторах и пользовательских обзорах для дальнейшего формирования предложений по продукту. \n",
    "\n",
    "В рамках работы планируется изучить структуру имеющейся базы, рассмотреть таблицы и произвести ряд расчетов."
   ]
  },
  {
   "cell_type": "markdown",
   "metadata": {},
   "source": [
    "Загрузим необходимые библиотеки и подключимся к базе данных."
   ]
  },
  {
   "cell_type": "code",
   "execution_count": 1,
   "metadata": {},
   "outputs": [],
   "source": [
    "import pandas as pd\n",
    "from sqlalchemy import text, create_engine"
   ]
  },
  {
   "cell_type": "code",
   "execution_count": 2,
   "metadata": {},
   "outputs": [],
   "source": [
    "db_config = {'user': 'praktikum_student', \n",
    "'pwd': 'Sdf4$2;d-d30pp', \n",
    "'host': 'rc1b-wcoijxj3yxfsf3fs.mdb.yandexcloud.net',\n",
    "'port': 6432, \n",
    "'db': 'data-analyst-final-project-db'} \n",
    "connection_string = 'postgresql://{user}:{pwd}@{host}:{port}/{db}'.format(**db_config)"
   ]
  },
  {
   "cell_type": "code",
   "execution_count": 3,
   "metadata": {},
   "outputs": [],
   "source": [
    "engine = create_engine(connection_string, connect_args={'sslmode':'require'})"
   ]
  },
  {
   "cell_type": "markdown",
   "metadata": {},
   "source": [
    "# Ознакомление с таблицами"
   ]
  },
  {
   "cell_type": "markdown",
   "metadata": {},
   "source": [
    "Изучим первые строки таблиц, составляющих базу."
   ]
  },
  {
   "cell_type": "markdown",
   "metadata": {},
   "source": [
    "## Таблица books"
   ]
  },
  {
   "cell_type": "code",
   "execution_count": 27,
   "metadata": {},
   "outputs": [],
   "source": [
    "query = '''SELECT * \n",
    "FROM books \n",
    "LIMIT 1\n",
    "'''"
   ]
  },
  {
   "cell_type": "code",
   "execution_count": 28,
   "metadata": {},
   "outputs": [
    {
     "data": {
      "text/html": [
       "<div>\n",
       "<style scoped>\n",
       "    .dataframe tbody tr th:only-of-type {\n",
       "        vertical-align: middle;\n",
       "    }\n",
       "\n",
       "    .dataframe tbody tr th {\n",
       "        vertical-align: top;\n",
       "    }\n",
       "\n",
       "    .dataframe thead th {\n",
       "        text-align: right;\n",
       "    }\n",
       "</style>\n",
       "<table border=\"1\" class=\"dataframe\">\n",
       "  <thead>\n",
       "    <tr style=\"text-align: right;\">\n",
       "      <th></th>\n",
       "      <th>book_id</th>\n",
       "      <th>author_id</th>\n",
       "      <th>title</th>\n",
       "      <th>num_pages</th>\n",
       "      <th>publication_date</th>\n",
       "      <th>publisher_id</th>\n",
       "    </tr>\n",
       "  </thead>\n",
       "  <tbody>\n",
       "    <tr>\n",
       "      <th>0</th>\n",
       "      <td>1</td>\n",
       "      <td>546</td>\n",
       "      <td>'Salem's Lot</td>\n",
       "      <td>594</td>\n",
       "      <td>2005-11-01</td>\n",
       "      <td>93</td>\n",
       "    </tr>\n",
       "  </tbody>\n",
       "</table>\n",
       "</div>"
      ],
      "text/plain": [
       "   book_id  author_id         title  num_pages publication_date  publisher_id\n",
       "0        1        546  'Salem's Lot        594       2005-11-01            93"
      ]
     },
     "execution_count": 28,
     "metadata": {},
     "output_type": "execute_result"
    }
   ],
   "source": [
    "con=engine.connect()\n",
    "pd.io.sql.read_sql(sql=text(query), con = con)"
   ]
  },
  {
   "cell_type": "markdown",
   "metadata": {},
   "source": [
    "В таблице **books** хранятся следующие данные:\n",
    "- уникальный идентификатор книги, \n",
    "- уникальный идентификатор автора,\n",
    "- название книги,\n",
    "- количество страниц,\n",
    "- дата публикации,\n",
    "- уникальный идентификатор издателя"
   ]
  },
  {
   "cell_type": "markdown",
   "metadata": {},
   "source": [
    "## Таблица authors"
   ]
  },
  {
   "cell_type": "code",
   "execution_count": 31,
   "metadata": {},
   "outputs": [],
   "source": [
    "query = '''SELECT * \n",
    "FROM authors \n",
    "LIMIT 1\n",
    "'''"
   ]
  },
  {
   "cell_type": "code",
   "execution_count": 32,
   "metadata": {},
   "outputs": [
    {
     "data": {
      "text/html": [
       "<div>\n",
       "<style scoped>\n",
       "    .dataframe tbody tr th:only-of-type {\n",
       "        vertical-align: middle;\n",
       "    }\n",
       "\n",
       "    .dataframe tbody tr th {\n",
       "        vertical-align: top;\n",
       "    }\n",
       "\n",
       "    .dataframe thead th {\n",
       "        text-align: right;\n",
       "    }\n",
       "</style>\n",
       "<table border=\"1\" class=\"dataframe\">\n",
       "  <thead>\n",
       "    <tr style=\"text-align: right;\">\n",
       "      <th></th>\n",
       "      <th>author_id</th>\n",
       "      <th>author</th>\n",
       "    </tr>\n",
       "  </thead>\n",
       "  <tbody>\n",
       "    <tr>\n",
       "      <th>0</th>\n",
       "      <td>1</td>\n",
       "      <td>A.S. Byatt</td>\n",
       "    </tr>\n",
       "  </tbody>\n",
       "</table>\n",
       "</div>"
      ],
      "text/plain": [
       "   author_id      author\n",
       "0          1  A.S. Byatt"
      ]
     },
     "execution_count": 32,
     "metadata": {},
     "output_type": "execute_result"
    }
   ],
   "source": [
    "con=engine.connect()\n",
    "pd.io.sql.read_sql(sql=text(query), con = con)"
   ]
  },
  {
   "cell_type": "markdown",
   "metadata": {},
   "source": [
    "В таблице **authors** хранятся следующие данные:\n",
    "- уникальный идентификатор автора,\n",
    "- имя автора"
   ]
  },
  {
   "cell_type": "markdown",
   "metadata": {},
   "source": [
    "## Таблица publishers"
   ]
  },
  {
   "cell_type": "code",
   "execution_count": 35,
   "metadata": {},
   "outputs": [],
   "source": [
    "query = '''SELECT * \n",
    "FROM publishers \n",
    "LIMIT 1\n",
    "'''"
   ]
  },
  {
   "cell_type": "code",
   "execution_count": 36,
   "metadata": {},
   "outputs": [
    {
     "data": {
      "text/html": [
       "<div>\n",
       "<style scoped>\n",
       "    .dataframe tbody tr th:only-of-type {\n",
       "        vertical-align: middle;\n",
       "    }\n",
       "\n",
       "    .dataframe tbody tr th {\n",
       "        vertical-align: top;\n",
       "    }\n",
       "\n",
       "    .dataframe thead th {\n",
       "        text-align: right;\n",
       "    }\n",
       "</style>\n",
       "<table border=\"1\" class=\"dataframe\">\n",
       "  <thead>\n",
       "    <tr style=\"text-align: right;\">\n",
       "      <th></th>\n",
       "      <th>publisher_id</th>\n",
       "      <th>publisher</th>\n",
       "    </tr>\n",
       "  </thead>\n",
       "  <tbody>\n",
       "    <tr>\n",
       "      <th>0</th>\n",
       "      <td>1</td>\n",
       "      <td>Ace</td>\n",
       "    </tr>\n",
       "  </tbody>\n",
       "</table>\n",
       "</div>"
      ],
      "text/plain": [
       "   publisher_id publisher\n",
       "0             1       Ace"
      ]
     },
     "execution_count": 36,
     "metadata": {},
     "output_type": "execute_result"
    }
   ],
   "source": [
    "con=engine.connect()\n",
    "pd.io.sql.read_sql(sql=text(query), con = con)"
   ]
  },
  {
   "cell_type": "markdown",
   "metadata": {},
   "source": [
    "В таблице **publishers** хранятся следующие данные:\n",
    "- уникальный идентификатор издательства,\n",
    "- название издательства"
   ]
  },
  {
   "cell_type": "markdown",
   "metadata": {},
   "source": [
    "## Таблица ratings"
   ]
  },
  {
   "cell_type": "code",
   "execution_count": 39,
   "metadata": {},
   "outputs": [],
   "source": [
    "query = '''SELECT * \n",
    "FROM ratings \n",
    "LIMIT 1\n",
    "'''"
   ]
  },
  {
   "cell_type": "code",
   "execution_count": 40,
   "metadata": {},
   "outputs": [
    {
     "data": {
      "text/html": [
       "<div>\n",
       "<style scoped>\n",
       "    .dataframe tbody tr th:only-of-type {\n",
       "        vertical-align: middle;\n",
       "    }\n",
       "\n",
       "    .dataframe tbody tr th {\n",
       "        vertical-align: top;\n",
       "    }\n",
       "\n",
       "    .dataframe thead th {\n",
       "        text-align: right;\n",
       "    }\n",
       "</style>\n",
       "<table border=\"1\" class=\"dataframe\">\n",
       "  <thead>\n",
       "    <tr style=\"text-align: right;\">\n",
       "      <th></th>\n",
       "      <th>rating_id</th>\n",
       "      <th>book_id</th>\n",
       "      <th>username</th>\n",
       "      <th>rating</th>\n",
       "    </tr>\n",
       "  </thead>\n",
       "  <tbody>\n",
       "    <tr>\n",
       "      <th>0</th>\n",
       "      <td>1</td>\n",
       "      <td>1</td>\n",
       "      <td>ryanfranco</td>\n",
       "      <td>4</td>\n",
       "    </tr>\n",
       "  </tbody>\n",
       "</table>\n",
       "</div>"
      ],
      "text/plain": [
       "   rating_id  book_id    username  rating\n",
       "0          1        1  ryanfranco       4"
      ]
     },
     "execution_count": 40,
     "metadata": {},
     "output_type": "execute_result"
    }
   ],
   "source": [
    "con=engine.connect()\n",
    "pd.io.sql.read_sql(sql=text(query), con = con)"
   ]
  },
  {
   "cell_type": "markdown",
   "metadata": {},
   "source": [
    "В таблице **ratings** хранятся следующие данные:\n",
    "- уникальный идентификатор оценки,\n",
    "- уникальный идентификатор книги,\n",
    "- имя пользователя\n",
    "- оценка книги"
   ]
  },
  {
   "cell_type": "markdown",
   "metadata": {},
   "source": [
    "## Таблица reviews"
   ]
  },
  {
   "cell_type": "code",
   "execution_count": 43,
   "metadata": {},
   "outputs": [],
   "source": [
    "query = '''SELECT * \n",
    "FROM reviews \n",
    "LIMIT 1\n",
    "'''"
   ]
  },
  {
   "cell_type": "code",
   "execution_count": 44,
   "metadata": {
    "scrolled": false
   },
   "outputs": [
    {
     "data": {
      "text/html": [
       "<div>\n",
       "<style scoped>\n",
       "    .dataframe tbody tr th:only-of-type {\n",
       "        vertical-align: middle;\n",
       "    }\n",
       "\n",
       "    .dataframe tbody tr th {\n",
       "        vertical-align: top;\n",
       "    }\n",
       "\n",
       "    .dataframe thead th {\n",
       "        text-align: right;\n",
       "    }\n",
       "</style>\n",
       "<table border=\"1\" class=\"dataframe\">\n",
       "  <thead>\n",
       "    <tr style=\"text-align: right;\">\n",
       "      <th></th>\n",
       "      <th>review_id</th>\n",
       "      <th>book_id</th>\n",
       "      <th>username</th>\n",
       "      <th>text</th>\n",
       "    </tr>\n",
       "  </thead>\n",
       "  <tbody>\n",
       "    <tr>\n",
       "      <th>0</th>\n",
       "      <td>1</td>\n",
       "      <td>1</td>\n",
       "      <td>brandtandrea</td>\n",
       "      <td>Mention society tell send professor analysis. ...</td>\n",
       "    </tr>\n",
       "  </tbody>\n",
       "</table>\n",
       "</div>"
      ],
      "text/plain": [
       "   review_id  book_id      username  \\\n",
       "0          1        1  brandtandrea   \n",
       "\n",
       "                                                text  \n",
       "0  Mention society tell send professor analysis. ...  "
      ]
     },
     "execution_count": 44,
     "metadata": {},
     "output_type": "execute_result"
    }
   ],
   "source": [
    "con=engine.connect()\n",
    "pd.io.sql.read_sql(sql=text(query), con = con)"
   ]
  },
  {
   "cell_type": "markdown",
   "metadata": {},
   "source": [
    "В таблице **reviews** хранятся следующие данные:\n",
    "- уникальный идентификатор обзора,\n",
    "- уникальный идентификатор книги,\n",
    "- имя пользователя\n",
    "- текст обзора"
   ]
  },
  {
   "cell_type": "markdown",
   "metadata": {},
   "source": [
    "# Задания"
   ]
  },
  {
   "cell_type": "markdown",
   "metadata": {},
   "source": [
    "# Задание 1\n",
    "\n",
    "**Посчитайте, сколько книг вышло после 1 января 2000 года**"
   ]
  },
  {
   "cell_type": "code",
   "execution_count": 14,
   "metadata": {},
   "outputs": [],
   "source": [
    "\n",
    "query = '''SELECT COUNT(DISTINCT book_id) \n",
    "FROM books \n",
    "WHERE CAST(DATE_TRUNC('day', publication_date) AS date) >  '2000-01-01'\n",
    "'''"
   ]
  },
  {
   "cell_type": "code",
   "execution_count": 15,
   "metadata": {},
   "outputs": [
    {
     "data": {
      "text/html": [
       "<div>\n",
       "<style scoped>\n",
       "    .dataframe tbody tr th:only-of-type {\n",
       "        vertical-align: middle;\n",
       "    }\n",
       "\n",
       "    .dataframe tbody tr th {\n",
       "        vertical-align: top;\n",
       "    }\n",
       "\n",
       "    .dataframe thead th {\n",
       "        text-align: right;\n",
       "    }\n",
       "</style>\n",
       "<table border=\"1\" class=\"dataframe\">\n",
       "  <thead>\n",
       "    <tr style=\"text-align: right;\">\n",
       "      <th></th>\n",
       "      <th>count</th>\n",
       "    </tr>\n",
       "  </thead>\n",
       "  <tbody>\n",
       "    <tr>\n",
       "      <th>0</th>\n",
       "      <td>819</td>\n",
       "    </tr>\n",
       "  </tbody>\n",
       "</table>\n",
       "</div>"
      ],
      "text/plain": [
       "   count\n",
       "0    819"
      ]
     },
     "execution_count": 15,
     "metadata": {},
     "output_type": "execute_result"
    }
   ],
   "source": [
    "con=engine.connect()\n",
    "pd.io.sql.read_sql(sql=text(query), con = con)"
   ]
  },
  {
   "cell_type": "markdown",
   "metadata": {},
   "source": [
    "**Вывод:** общее число вышедших после 1 января 2000 года книг составило 819"
   ]
  },
  {
   "cell_type": "markdown",
   "metadata": {},
   "source": [
    "# Задание 2\n",
    "**Для каждой книги посчитайте количество обзоров и среднюю оценку**"
   ]
  },
  {
   "cell_type": "code",
   "execution_count": 16,
   "metadata": {},
   "outputs": [],
   "source": [
    "query = '''SELECT  b.book_id,\n",
    "                   b.title,\n",
    "                   COUNT(DISTINCT rr.review_id) AS reviews,\n",
    "                   ROUND(AVG(r.rating),2) AS average_rating\n",
    "\n",
    "FROM books AS b\n",
    "LEFT OUTER JOIN ratings AS r ON r.book_id = b.book_id\n",
    "LEFT JOIN reviews AS rr ON rr.book_id = r.book_id\n",
    "GROUP BY b.book_id\n",
    "\n",
    "'''"
   ]
  },
  {
   "cell_type": "code",
   "execution_count": 17,
   "metadata": {},
   "outputs": [
    {
     "data": {
      "text/html": [
       "<div>\n",
       "<style scoped>\n",
       "    .dataframe tbody tr th:only-of-type {\n",
       "        vertical-align: middle;\n",
       "    }\n",
       "\n",
       "    .dataframe tbody tr th {\n",
       "        vertical-align: top;\n",
       "    }\n",
       "\n",
       "    .dataframe thead th {\n",
       "        text-align: right;\n",
       "    }\n",
       "</style>\n",
       "<table border=\"1\" class=\"dataframe\">\n",
       "  <thead>\n",
       "    <tr style=\"text-align: right;\">\n",
       "      <th></th>\n",
       "      <th>book_id</th>\n",
       "      <th>title</th>\n",
       "      <th>reviews</th>\n",
       "      <th>average_rating</th>\n",
       "    </tr>\n",
       "  </thead>\n",
       "  <tbody>\n",
       "    <tr>\n",
       "      <th>0</th>\n",
       "      <td>1</td>\n",
       "      <td>'Salem's Lot</td>\n",
       "      <td>2</td>\n",
       "      <td>3.67</td>\n",
       "    </tr>\n",
       "    <tr>\n",
       "      <th>1</th>\n",
       "      <td>2</td>\n",
       "      <td>1 000 Places to See Before You Die</td>\n",
       "      <td>1</td>\n",
       "      <td>2.50</td>\n",
       "    </tr>\n",
       "    <tr>\n",
       "      <th>2</th>\n",
       "      <td>3</td>\n",
       "      <td>13 Little Blue Envelopes (Little Blue Envelope...</td>\n",
       "      <td>3</td>\n",
       "      <td>4.67</td>\n",
       "    </tr>\n",
       "    <tr>\n",
       "      <th>3</th>\n",
       "      <td>4</td>\n",
       "      <td>1491: New Revelations of the Americas Before C...</td>\n",
       "      <td>2</td>\n",
       "      <td>4.50</td>\n",
       "    </tr>\n",
       "    <tr>\n",
       "      <th>4</th>\n",
       "      <td>5</td>\n",
       "      <td>1776</td>\n",
       "      <td>4</td>\n",
       "      <td>4.00</td>\n",
       "    </tr>\n",
       "    <tr>\n",
       "      <th>...</th>\n",
       "      <td>...</td>\n",
       "      <td>...</td>\n",
       "      <td>...</td>\n",
       "      <td>...</td>\n",
       "    </tr>\n",
       "    <tr>\n",
       "      <th>995</th>\n",
       "      <td>996</td>\n",
       "      <td>Wyrd Sisters (Discworld  #6; Witches #2)</td>\n",
       "      <td>3</td>\n",
       "      <td>3.67</td>\n",
       "    </tr>\n",
       "    <tr>\n",
       "      <th>996</th>\n",
       "      <td>997</td>\n",
       "      <td>Xenocide (Ender's Saga  #3)</td>\n",
       "      <td>3</td>\n",
       "      <td>3.40</td>\n",
       "    </tr>\n",
       "    <tr>\n",
       "      <th>997</th>\n",
       "      <td>998</td>\n",
       "      <td>Year of Wonders</td>\n",
       "      <td>4</td>\n",
       "      <td>3.20</td>\n",
       "    </tr>\n",
       "    <tr>\n",
       "      <th>998</th>\n",
       "      <td>999</td>\n",
       "      <td>You Suck (A Love Story  #2)</td>\n",
       "      <td>2</td>\n",
       "      <td>4.50</td>\n",
       "    </tr>\n",
       "    <tr>\n",
       "      <th>999</th>\n",
       "      <td>1000</td>\n",
       "      <td>Zen and the Art of Motorcycle Maintenance: An ...</td>\n",
       "      <td>4</td>\n",
       "      <td>3.83</td>\n",
       "    </tr>\n",
       "  </tbody>\n",
       "</table>\n",
       "<p>1000 rows × 4 columns</p>\n",
       "</div>"
      ],
      "text/plain": [
       "     book_id                                              title  reviews  \\\n",
       "0          1                                       'Salem's Lot        2   \n",
       "1          2                 1 000 Places to See Before You Die        1   \n",
       "2          3  13 Little Blue Envelopes (Little Blue Envelope...        3   \n",
       "3          4  1491: New Revelations of the Americas Before C...        2   \n",
       "4          5                                               1776        4   \n",
       "..       ...                                                ...      ...   \n",
       "995      996           Wyrd Sisters (Discworld  #6; Witches #2)        3   \n",
       "996      997                        Xenocide (Ender's Saga  #3)        3   \n",
       "997      998                                    Year of Wonders        4   \n",
       "998      999                        You Suck (A Love Story  #2)        2   \n",
       "999     1000  Zen and the Art of Motorcycle Maintenance: An ...        4   \n",
       "\n",
       "     average_rating  \n",
       "0              3.67  \n",
       "1              2.50  \n",
       "2              4.67  \n",
       "3              4.50  \n",
       "4              4.00  \n",
       "..              ...  \n",
       "995            3.67  \n",
       "996            3.40  \n",
       "997            3.20  \n",
       "998            4.50  \n",
       "999            3.83  \n",
       "\n",
       "[1000 rows x 4 columns]"
      ]
     },
     "execution_count": 17,
     "metadata": {},
     "output_type": "execute_result"
    }
   ],
   "source": [
    "con=engine.connect()\n",
    "pd.io.sql.read_sql(sql=text(query), con = con)"
   ]
  },
  {
   "cell_type": "markdown",
   "metadata": {},
   "source": [
    "# Задание 3\n",
    "\n",
    "**Определите издательство, которое выпустило наибольшее число книг толще 50 страниц — так вы исключите из анализа брошюры**"
   ]
  },
  {
   "cell_type": "code",
   "execution_count": 18,
   "metadata": {},
   "outputs": [],
   "source": [
    "query = '''WITH books_50 AS (SELECT *\n",
    "FROM books AS b\n",
    "WHERE num_pages > 50)\n",
    "\n",
    "SELECT publisher,\n",
    "       COUNT(book_id) AS books_by_publisher\n",
    "FROM books_50 AS b50\n",
    "LEFT JOIN publishers AS p on b50.publisher_id = p.publisher_id\n",
    "GROUP BY publisher\n",
    "ORDER BY COUNT(book_id) DESC\n",
    "LIMIT 1\n",
    "'''"
   ]
  },
  {
   "cell_type": "code",
   "execution_count": 19,
   "metadata": {},
   "outputs": [
    {
     "data": {
      "text/html": [
       "<div>\n",
       "<style scoped>\n",
       "    .dataframe tbody tr th:only-of-type {\n",
       "        vertical-align: middle;\n",
       "    }\n",
       "\n",
       "    .dataframe tbody tr th {\n",
       "        vertical-align: top;\n",
       "    }\n",
       "\n",
       "    .dataframe thead th {\n",
       "        text-align: right;\n",
       "    }\n",
       "</style>\n",
       "<table border=\"1\" class=\"dataframe\">\n",
       "  <thead>\n",
       "    <tr style=\"text-align: right;\">\n",
       "      <th></th>\n",
       "      <th>publisher</th>\n",
       "      <th>books_by_publisher</th>\n",
       "    </tr>\n",
       "  </thead>\n",
       "  <tbody>\n",
       "    <tr>\n",
       "      <th>0</th>\n",
       "      <td>Penguin Books</td>\n",
       "      <td>42</td>\n",
       "    </tr>\n",
       "  </tbody>\n",
       "</table>\n",
       "</div>"
      ],
      "text/plain": [
       "       publisher  books_by_publisher\n",
       "0  Penguin Books                  42"
      ]
     },
     "execution_count": 19,
     "metadata": {},
     "output_type": "execute_result"
    }
   ],
   "source": [
    "con=engine.connect()\n",
    "pd.io.sql.read_sql(sql=text(query), con = con)"
   ]
  },
  {
   "cell_type": "markdown",
   "metadata": {},
   "source": [
    "**Вывод:** издательством, выпустившим наибольшее число книг толще 50 страниц стало Penguin Books"
   ]
  },
  {
   "cell_type": "markdown",
   "metadata": {},
   "source": [
    "# Задание 4\n",
    "\n",
    "**Определите автора с самой высокой средней оценкой книг — учитывайте только книги с 50 и более оценками;**"
   ]
  },
  {
   "cell_type": "code",
   "execution_count": 20,
   "metadata": {},
   "outputs": [],
   "source": [
    "query = '''WITH ratings_50 AS (SELECT b.book_id,\n",
    "                  b.author_id,\n",
    "                  COUNT(DISTINCT(rating_id)) AS rating_amount \n",
    "FROM books AS b\n",
    "LEFT JOIN ratings AS r ON b.book_id = r.book_id\n",
    "GROUP BY b.book_id\n",
    "HAVING COUNT(DISTINCT(rating_id)) >= 50\n",
    "ORDER BY COUNT(rating_id) DESC)\n",
    "\n",
    "SELECT a.author,\n",
    "       AVG(rr.rating) AS average_rating\n",
    "FROM ratings_50 AS r\n",
    "LEFT JOIN authors AS a ON r.author_id = a.author_id\n",
    "LEFT JOIN ratings AS rr ON r.book_id = rr.book_id\n",
    "GROUP BY a.author\n",
    "ORDER BY AVG(rr.rating) DESC\n",
    "LIMIT 1\n",
    "'''"
   ]
  },
  {
   "cell_type": "code",
   "execution_count": 21,
   "metadata": {},
   "outputs": [
    {
     "data": {
      "text/html": [
       "<div>\n",
       "<style scoped>\n",
       "    .dataframe tbody tr th:only-of-type {\n",
       "        vertical-align: middle;\n",
       "    }\n",
       "\n",
       "    .dataframe tbody tr th {\n",
       "        vertical-align: top;\n",
       "    }\n",
       "\n",
       "    .dataframe thead th {\n",
       "        text-align: right;\n",
       "    }\n",
       "</style>\n",
       "<table border=\"1\" class=\"dataframe\">\n",
       "  <thead>\n",
       "    <tr style=\"text-align: right;\">\n",
       "      <th></th>\n",
       "      <th>author</th>\n",
       "      <th>average_rating</th>\n",
       "    </tr>\n",
       "  </thead>\n",
       "  <tbody>\n",
       "    <tr>\n",
       "      <th>0</th>\n",
       "      <td>J.K. Rowling/Mary GrandPré</td>\n",
       "      <td>4.287097</td>\n",
       "    </tr>\n",
       "  </tbody>\n",
       "</table>\n",
       "</div>"
      ],
      "text/plain": [
       "                       author  average_rating\n",
       "0  J.K. Rowling/Mary GrandPré        4.287097"
      ]
     },
     "execution_count": 21,
     "metadata": {},
     "output_type": "execute_result"
    }
   ],
   "source": [
    "con=engine.connect()\n",
    "pd.io.sql.read_sql(sql=text(query), con = con)"
   ]
  },
  {
   "cell_type": "markdown",
   "metadata": {},
   "source": [
    "**Вывод:** авторами с самой высокой средней оценкой книг, при условии, что книга имеет 50 и более оценок - стали J.K. Rowling и Mary GrandPré"
   ]
  },
  {
   "cell_type": "markdown",
   "metadata": {},
   "source": [
    "# Задание 5\n",
    "\n",
    "**Посчитайте среднее количество обзоров от пользователей, которые поставили больше 48 оценок.**"
   ]
  },
  {
   "cell_type": "code",
   "execution_count": 22,
   "metadata": {},
   "outputs": [],
   "source": [
    "query = '''WITH active_users AS (SELECT username,\n",
    "                  COUNT(DISTINCT rating_id) ratings_total\n",
    "FROM ratings AS r\n",
    "GROUP BY username\n",
    "HAVING  COUNT(DISTINCT rating_id) > 48\n",
    "ORDER BY  ratings_total DESC),\n",
    "\n",
    "active_reviewers AS (SELECT au.username,\n",
    "       COUNT(DISTINCT review_id) reviews_total\n",
    "FROM active_users AS au\n",
    "LEFT JOIN reviews AS r ON au.username = r.username\n",
    "GROUP BY au.username\n",
    "ORDER BY COUNT(DISTINCT review_id) DESC)\n",
    "\n",
    "SELECT AVG(ar.reviews_total)\n",
    "FROM active_reviewers AS ar\n",
    "'''"
   ]
  },
  {
   "cell_type": "code",
   "execution_count": 23,
   "metadata": {},
   "outputs": [
    {
     "data": {
      "text/html": [
       "<div>\n",
       "<style scoped>\n",
       "    .dataframe tbody tr th:only-of-type {\n",
       "        vertical-align: middle;\n",
       "    }\n",
       "\n",
       "    .dataframe tbody tr th {\n",
       "        vertical-align: top;\n",
       "    }\n",
       "\n",
       "    .dataframe thead th {\n",
       "        text-align: right;\n",
       "    }\n",
       "</style>\n",
       "<table border=\"1\" class=\"dataframe\">\n",
       "  <thead>\n",
       "    <tr style=\"text-align: right;\">\n",
       "      <th></th>\n",
       "      <th>avg</th>\n",
       "    </tr>\n",
       "  </thead>\n",
       "  <tbody>\n",
       "    <tr>\n",
       "      <th>0</th>\n",
       "      <td>24.0</td>\n",
       "    </tr>\n",
       "  </tbody>\n",
       "</table>\n",
       "</div>"
      ],
      "text/plain": [
       "    avg\n",
       "0  24.0"
      ]
     },
     "execution_count": 23,
     "metadata": {},
     "output_type": "execute_result"
    }
   ],
   "source": [
    "con=engine.connect()\n",
    "pd.io.sql.read_sql(sql=text(query), con = con)"
   ]
  },
  {
   "cell_type": "markdown",
   "metadata": {},
   "source": [
    "**Вывод:** среднее количество обзоров от пользователей, поставивших более 48 оценок составило 24"
   ]
  },
  {
   "cell_type": "markdown",
   "metadata": {},
   "source": [
    "# Вывод\n",
    "\n",
    "В рамках работы над проектом была изучена база данных подписочного сервиса для чтения. \n",
    "\n",
    "# Ознакомление с данными \n",
    "\n",
    "Первым шагом стал импорт библиотек и подключение к базе данных.\n",
    "\n",
    "Затем было проведено первичное ознакомление с таблицами:\n",
    "\n",
    "1. Таблица **books** состоит из 1000 строк и содержит следующие данные:\n",
    "    - уникальный идентификатор книги,\n",
    "    - уникальный идентификатор автора,\n",
    "    - название книги,\n",
    "    - количество страниц,\n",
    "    - дата публикации,\n",
    "    - уникальный идентификатор издателя\n",
    "    \n",
    "\n",
    "2. Таблица **authors** состоит из 636 строк и хранит следующие данные:\n",
    "    - уникальный идентификатор автора,\n",
    "    - имя автора\n",
    "    \n",
    "    \n",
    "3. Таблица **publishers** имеет 340 строк и содержит следующие данные:\n",
    "    - уникальный идентификатор издательства,\n",
    "    - название издательства\n",
    "    \n",
    "    \n",
    "4. Таблице **ratings** содержит 6456 строк и хранит следующие данные:\n",
    "\n",
    "    - уникальный идентификатор оценки,\n",
    "    - уникальный идентификатор книги,\n",
    "    - имя пользователя\n",
    "    - оценка книги\n",
    "    \n",
    "5. Таблица **reviews** имеет 2793 строки и содержит следующие данные:\n",
    "\n",
    "    - уникальный идентификатор обзора,\n",
    "    - уникальный идентификатор книги,\n",
    "    - имя пользователя\n",
    "    - текст обзора\n",
    "    \n",
    "# Решение задач\n",
    "\n",
    "- В ходе первой задачи был дан ответ на вопрос о количестве книг выпущенных после 1 января 2000 года - их число составило 819 единиц\n",
    "\n",
    "\n",
    "- Результатом второй задачи стало создание таблицы, содержащей:\n",
    "    - уникальный идентификатор книги,\n",
    "    - название книги, \n",
    "    - количество обзоров на книгу,\n",
    "    - средний рейтинг книги\n",
    "    \n",
    "    \n",
    "- В рамках третьей задачи было определено издательство, выпустившее наибольшее число книг толще 50 страниц - им стало **Penguin Books,** выпустившее 42 книги, удовлетворяющих обозначенному выше условию \n",
    "\n",
    "\n",
    "- Четвертая задача состояла в определении автора с самой высокой средней оценкой книг, при условии, что книга имеет 50 и более оценок - ими стали J.K. Rowling и Mary GrandPré\n",
    "\n",
    "\n",
    "- В заключительной задаче был дан ответ на вопрос о среднем количестве обзоров от пользователей, поставивших более 48 оценок - их число составило 24"
   ]
  }
 ],
 "metadata": {
  "ExecuteTimeLog": [
   {
    "duration": 571,
    "start_time": "2024-06-25T20:15:52.819Z"
   },
   {
    "duration": 3,
    "start_time": "2024-06-25T20:16:09.728Z"
   },
   {
    "duration": 5615,
    "start_time": "2024-06-25T20:16:25.791Z"
   },
   {
    "duration": 3,
    "start_time": "2024-06-25T20:16:43.300Z"
   },
   {
    "duration": 61,
    "start_time": "2024-06-25T20:17:08.490Z"
   },
   {
    "duration": 3,
    "start_time": "2024-06-25T20:17:20.097Z"
   },
   {
    "duration": 32,
    "start_time": "2024-06-25T20:17:22.269Z"
   },
   {
    "duration": 3,
    "start_time": "2024-06-25T20:18:08.399Z"
   },
   {
    "duration": 22,
    "start_time": "2024-06-25T20:18:10.241Z"
   },
   {
    "duration": 3,
    "start_time": "2024-06-25T20:20:25.408Z"
   },
   {
    "duration": 13,
    "start_time": "2024-06-25T20:20:26.022Z"
   },
   {
    "duration": 2,
    "start_time": "2024-06-25T20:20:56.777Z"
   },
   {
    "duration": 20,
    "start_time": "2024-06-25T20:20:58.792Z"
   },
   {
    "duration": 2,
    "start_time": "2024-06-25T20:21:09.943Z"
   },
   {
    "duration": 20,
    "start_time": "2024-06-25T20:21:12.823Z"
   },
   {
    "duration": 3,
    "start_time": "2024-06-25T20:22:36.073Z"
   },
   {
    "duration": 20,
    "start_time": "2024-06-25T20:22:36.995Z"
   },
   {
    "duration": 3,
    "start_time": "2024-06-25T20:22:40.790Z"
   },
   {
    "duration": 20,
    "start_time": "2024-06-25T20:22:41.908Z"
   },
   {
    "duration": 2,
    "start_time": "2024-06-25T20:25:16.537Z"
   },
   {
    "duration": 91,
    "start_time": "2024-06-25T20:25:23.909Z"
   },
   {
    "duration": 2,
    "start_time": "2024-06-25T20:25:52.814Z"
   },
   {
    "duration": 22,
    "start_time": "2024-06-25T20:26:15.209Z"
   },
   {
    "duration": 40,
    "start_time": "2024-06-25T20:26:21.660Z"
   },
   {
    "duration": 521,
    "start_time": "2024-06-25T20:26:27.505Z"
   },
   {
    "duration": 3,
    "start_time": "2024-06-25T20:26:28.029Z"
   },
   {
    "duration": 5010,
    "start_time": "2024-06-25T20:26:28.033Z"
   },
   {
    "duration": 4,
    "start_time": "2024-06-25T20:26:33.044Z"
   },
   {
    "duration": 137,
    "start_time": "2024-06-25T20:26:33.050Z"
   },
   {
    "duration": 46,
    "start_time": "2024-06-25T20:26:33.189Z"
   },
   {
    "duration": 3,
    "start_time": "2024-06-25T20:27:15.721Z"
   },
   {
    "duration": 88,
    "start_time": "2024-06-25T20:27:16.853Z"
   },
   {
    "duration": 3,
    "start_time": "2024-06-25T20:27:52.106Z"
   },
   {
    "duration": 21,
    "start_time": "2024-06-25T20:27:54.129Z"
   },
   {
    "duration": 3,
    "start_time": "2024-06-25T20:28:44.103Z"
   },
   {
    "duration": 3,
    "start_time": "2024-06-25T20:29:07.369Z"
   },
   {
    "duration": 69,
    "start_time": "2024-06-25T20:29:09.596Z"
   },
   {
    "duration": 3,
    "start_time": "2024-06-25T20:30:05.410Z"
   },
   {
    "duration": 22,
    "start_time": "2024-06-25T20:30:09.402Z"
   },
   {
    "duration": 3,
    "start_time": "2024-06-25T20:30:33.055Z"
   },
   {
    "duration": 3,
    "start_time": "2024-06-25T20:30:56.915Z"
   },
   {
    "duration": 3,
    "start_time": "2024-06-25T20:31:05.823Z"
   },
   {
    "duration": 68,
    "start_time": "2024-06-25T20:31:07.161Z"
   },
   {
    "duration": 3,
    "start_time": "2024-06-25T20:32:54.980Z"
   },
   {
    "duration": 54,
    "start_time": "2024-06-25T20:32:56.417Z"
   },
   {
    "duration": 4,
    "start_time": "2024-06-25T20:33:25.500Z"
   },
   {
    "duration": 21,
    "start_time": "2024-06-25T20:33:26.014Z"
   },
   {
    "duration": 3,
    "start_time": "2024-06-25T20:34:06.563Z"
   },
   {
    "duration": 61,
    "start_time": "2024-06-25T20:34:07.586Z"
   },
   {
    "duration": 3,
    "start_time": "2024-06-25T20:34:18.030Z"
   },
   {
    "duration": 30,
    "start_time": "2024-06-25T20:34:19.669Z"
   },
   {
    "duration": 3,
    "start_time": "2024-06-25T20:34:28.273Z"
   },
   {
    "duration": 159,
    "start_time": "2024-06-25T20:34:30.218Z"
   },
   {
    "duration": 3,
    "start_time": "2024-06-25T20:34:47.860Z"
   },
   {
    "duration": 26,
    "start_time": "2024-06-25T20:34:50.211Z"
   },
   {
    "duration": 3,
    "start_time": "2024-06-25T20:35:02.269Z"
   },
   {
    "duration": 26,
    "start_time": "2024-06-25T20:35:02.781Z"
   },
   {
    "duration": 2,
    "start_time": "2024-06-25T20:35:30.943Z"
   },
   {
    "duration": 23,
    "start_time": "2024-06-25T20:35:33.706Z"
   },
   {
    "duration": 3,
    "start_time": "2024-06-25T20:36:00.153Z"
   },
   {
    "duration": 25,
    "start_time": "2024-06-25T20:36:02.581Z"
   },
   {
    "duration": 9,
    "start_time": "2024-06-26T15:00:30.103Z"
   },
   {
    "duration": 46,
    "start_time": "2024-06-26T15:00:34.606Z"
   },
   {
    "duration": 507,
    "start_time": "2024-06-26T15:00:44.243Z"
   },
   {
    "duration": 3,
    "start_time": "2024-06-26T15:00:44.752Z"
   },
   {
    "duration": 5201,
    "start_time": "2024-06-26T15:00:44.757Z"
   },
   {
    "duration": 3,
    "start_time": "2024-06-26T15:00:49.960Z"
   },
   {
    "duration": 94,
    "start_time": "2024-06-26T15:00:49.965Z"
   },
   {
    "duration": 3,
    "start_time": "2024-06-26T15:00:50.061Z"
   },
   {
    "duration": 93,
    "start_time": "2024-06-26T15:00:50.066Z"
   },
   {
    "duration": 4,
    "start_time": "2024-06-26T15:00:50.161Z"
   },
   {
    "duration": 124,
    "start_time": "2024-06-26T15:00:50.166Z"
   },
   {
    "duration": 4,
    "start_time": "2024-06-26T15:02:23.255Z"
   },
   {
    "duration": 524,
    "start_time": "2024-06-26T15:02:29.140Z"
   },
   {
    "duration": 3,
    "start_time": "2024-06-26T15:02:29.666Z"
   },
   {
    "duration": 5977,
    "start_time": "2024-06-26T15:02:29.671Z"
   },
   {
    "duration": 3,
    "start_time": "2024-06-26T15:02:35.650Z"
   },
   {
    "duration": 73,
    "start_time": "2024-06-26T15:02:35.655Z"
   },
   {
    "duration": 3,
    "start_time": "2024-06-26T15:02:35.729Z"
   },
   {
    "duration": 45,
    "start_time": "2024-06-26T15:02:35.734Z"
   },
   {
    "duration": 3,
    "start_time": "2024-06-26T15:02:35.781Z"
   },
   {
    "duration": 52,
    "start_time": "2024-06-26T15:02:35.786Z"
   },
   {
    "duration": 3,
    "start_time": "2024-06-26T15:09:37.157Z"
   },
   {
    "duration": 26,
    "start_time": "2024-06-26T15:09:39.025Z"
   },
   {
    "duration": 3,
    "start_time": "2024-06-26T15:10:27.097Z"
   },
   {
    "duration": 3,
    "start_time": "2024-06-26T15:10:34.684Z"
   },
   {
    "duration": 21,
    "start_time": "2024-06-26T15:10:35.285Z"
   },
   {
    "duration": 2,
    "start_time": "2024-06-26T15:10:55.664Z"
   },
   {
    "duration": 21,
    "start_time": "2024-06-26T15:10:57.097Z"
   },
   {
    "duration": 3,
    "start_time": "2024-06-26T15:13:05.304Z"
   },
   {
    "duration": 97,
    "start_time": "2024-06-26T15:13:06.859Z"
   },
   {
    "duration": 3,
    "start_time": "2024-06-26T15:13:15.029Z"
   },
   {
    "duration": 15,
    "start_time": "2024-06-26T15:13:16.463Z"
   },
   {
    "duration": 3,
    "start_time": "2024-06-26T15:13:46.671Z"
   },
   {
    "duration": 51,
    "start_time": "2024-06-26T15:13:48.515Z"
   },
   {
    "duration": 3,
    "start_time": "2024-06-26T15:14:43.539Z"
   },
   {
    "duration": 23,
    "start_time": "2024-06-26T15:14:44.835Z"
   },
   {
    "duration": 2,
    "start_time": "2024-06-26T15:15:09.207Z"
   },
   {
    "duration": 14,
    "start_time": "2024-06-26T15:15:11.358Z"
   },
   {
    "duration": 2,
    "start_time": "2024-06-26T15:15:33.168Z"
   },
   {
    "duration": 14,
    "start_time": "2024-06-26T15:15:36.958Z"
   },
   {
    "duration": 3,
    "start_time": "2024-06-26T15:16:13.263Z"
   },
   {
    "duration": 15,
    "start_time": "2024-06-26T15:16:15.379Z"
   },
   {
    "duration": 2,
    "start_time": "2024-06-26T15:16:25.079Z"
   },
   {
    "duration": 21,
    "start_time": "2024-06-26T15:16:26.416Z"
   },
   {
    "duration": 2,
    "start_time": "2024-06-26T15:17:05.947Z"
   },
   {
    "duration": 21,
    "start_time": "2024-06-26T15:17:08.506Z"
   },
   {
    "duration": 3,
    "start_time": "2024-06-26T15:17:28.679Z"
   },
   {
    "duration": 6,
    "start_time": "2024-06-26T15:17:57.622Z"
   },
   {
    "duration": 4,
    "start_time": "2024-06-26T15:18:07.077Z"
   },
   {
    "duration": 51,
    "start_time": "2024-06-26T15:18:08.407Z"
   },
   {
    "duration": 3,
    "start_time": "2024-06-26T15:18:11.992Z"
   },
   {
    "duration": 15,
    "start_time": "2024-06-26T15:18:14.758Z"
   },
   {
    "duration": 3,
    "start_time": "2024-06-26T15:18:19.980Z"
   },
   {
    "duration": 12,
    "start_time": "2024-06-26T15:18:21.923Z"
   },
   {
    "duration": 3,
    "start_time": "2024-06-26T15:26:45.122Z"
   },
   {
    "duration": 22,
    "start_time": "2024-06-26T15:26:50.242Z"
   },
   {
    "duration": 2,
    "start_time": "2024-06-26T15:27:33.966Z"
   },
   {
    "duration": 21,
    "start_time": "2024-06-26T15:27:36.373Z"
   },
   {
    "duration": 2,
    "start_time": "2024-06-26T15:28:13.813Z"
   },
   {
    "duration": 38,
    "start_time": "2024-06-26T15:28:15.234Z"
   },
   {
    "duration": 2,
    "start_time": "2024-06-26T15:28:50.976Z"
   },
   {
    "duration": 3,
    "start_time": "2024-06-26T15:29:43.401Z"
   },
   {
    "duration": 23,
    "start_time": "2024-06-26T15:29:47.190Z"
   },
   {
    "duration": 3,
    "start_time": "2024-06-26T15:29:57.945Z"
   },
   {
    "duration": 21,
    "start_time": "2024-06-26T15:29:59.891Z"
   },
   {
    "duration": 3,
    "start_time": "2024-06-26T15:30:06.749Z"
   },
   {
    "duration": 19,
    "start_time": "2024-06-26T15:30:09.103Z"
   },
   {
    "duration": 3,
    "start_time": "2024-06-26T15:31:01.021Z"
   },
   {
    "duration": 23,
    "start_time": "2024-06-26T15:31:03.182Z"
   },
   {
    "duration": 3,
    "start_time": "2024-06-26T15:31:15.662Z"
   },
   {
    "duration": 21,
    "start_time": "2024-06-26T15:31:16.591Z"
   },
   {
    "duration": 2,
    "start_time": "2024-06-26T15:31:33.789Z"
   },
   {
    "duration": 47,
    "start_time": "2024-06-26T15:31:35.105Z"
   },
   {
    "duration": 3,
    "start_time": "2024-06-26T15:32:21.407Z"
   },
   {
    "duration": 80,
    "start_time": "2024-06-26T15:32:24.071Z"
   },
   {
    "duration": 3,
    "start_time": "2024-06-26T15:52:29.975Z"
   },
   {
    "duration": 22,
    "start_time": "2024-06-26T15:52:31.830Z"
   },
   {
    "duration": 3,
    "start_time": "2024-06-26T15:53:02.206Z"
   },
   {
    "duration": 53,
    "start_time": "2024-06-26T15:53:04.760Z"
   },
   {
    "duration": 2,
    "start_time": "2024-06-26T15:53:32.512Z"
   },
   {
    "duration": 38,
    "start_time": "2024-06-26T15:53:34.173Z"
   },
   {
    "duration": 3,
    "start_time": "2024-06-26T15:54:50.334Z"
   },
   {
    "duration": 21,
    "start_time": "2024-06-26T15:54:52.698Z"
   },
   {
    "duration": 3,
    "start_time": "2024-06-26T15:54:59.354Z"
   },
   {
    "duration": 19,
    "start_time": "2024-06-26T15:55:00.778Z"
   },
   {
    "duration": 3,
    "start_time": "2024-06-26T15:55:14.502Z"
   },
   {
    "duration": 15,
    "start_time": "2024-06-26T15:55:16.344Z"
   },
   {
    "duration": 3,
    "start_time": "2024-06-26T15:55:46.259Z"
   },
   {
    "duration": 66,
    "start_time": "2024-06-26T15:55:48.907Z"
   },
   {
    "duration": 3,
    "start_time": "2024-06-26T15:56:03.757Z"
   },
   {
    "duration": 15,
    "start_time": "2024-06-26T15:56:07.444Z"
   },
   {
    "duration": 3,
    "start_time": "2024-06-26T15:56:11.847Z"
   },
   {
    "duration": 16,
    "start_time": "2024-06-26T15:56:13.483Z"
   },
   {
    "duration": 3,
    "start_time": "2024-06-26T15:56:59.462Z"
   },
   {
    "duration": 20,
    "start_time": "2024-06-26T15:57:00.998Z"
   },
   {
    "duration": 3,
    "start_time": "2024-06-26T15:57:11.134Z"
   },
   {
    "duration": 17,
    "start_time": "2024-06-26T15:57:12.674Z"
   },
   {
    "duration": 3,
    "start_time": "2024-06-26T15:57:20.017Z"
   },
   {
    "duration": 18,
    "start_time": "2024-06-26T15:57:21.375Z"
   },
   {
    "duration": 3,
    "start_time": "2024-06-26T15:57:58.160Z"
   },
   {
    "duration": 2,
    "start_time": "2024-06-26T15:58:03.156Z"
   },
   {
    "duration": 6,
    "start_time": "2024-06-26T15:58:08.071Z"
   },
   {
    "duration": 21,
    "start_time": "2024-06-26T15:58:09.403Z"
   },
   {
    "duration": 2,
    "start_time": "2024-06-26T15:58:27.015Z"
   },
   {
    "duration": 21,
    "start_time": "2024-06-26T15:58:28.959Z"
   },
   {
    "duration": 3,
    "start_time": "2024-06-26T15:58:41.474Z"
   },
   {
    "duration": 21,
    "start_time": "2024-06-26T15:58:42.996Z"
   },
   {
    "duration": 2,
    "start_time": "2024-06-26T15:58:51.812Z"
   },
   {
    "duration": 17,
    "start_time": "2024-06-26T15:58:52.849Z"
   },
   {
    "duration": 2,
    "start_time": "2024-06-26T15:59:01.833Z"
   },
   {
    "duration": 20,
    "start_time": "2024-06-26T15:59:03.266Z"
   },
   {
    "duration": 3,
    "start_time": "2024-06-26T15:59:15.756Z"
   },
   {
    "duration": 15,
    "start_time": "2024-06-26T15:59:17.071Z"
   },
   {
    "duration": 2,
    "start_time": "2024-06-26T15:59:23.132Z"
   },
   {
    "duration": 15,
    "start_time": "2024-06-26T15:59:24.982Z"
   },
   {
    "duration": 3,
    "start_time": "2024-06-26T16:00:56.243Z"
   },
   {
    "duration": 22,
    "start_time": "2024-06-26T16:00:57.759Z"
   },
   {
    "duration": 3,
    "start_time": "2024-06-26T16:01:06.658Z"
   },
   {
    "duration": 3,
    "start_time": "2024-06-26T16:01:09.271Z"
   },
   {
    "duration": 16,
    "start_time": "2024-06-26T16:01:10.408Z"
   },
   {
    "duration": 4,
    "start_time": "2024-06-26T17:30:54.806Z"
   },
   {
    "duration": 4,
    "start_time": "2024-06-26T17:30:59.985Z"
   },
   {
    "duration": 3,
    "start_time": "2024-06-26T17:31:03.884Z"
   },
   {
    "duration": 27,
    "start_time": "2024-06-26T17:31:05.039Z"
   },
   {
    "duration": 2,
    "start_time": "2024-06-26T17:31:17.381Z"
   },
   {
    "duration": 30,
    "start_time": "2024-06-26T17:31:18.983Z"
   },
   {
    "duration": 2,
    "start_time": "2024-06-26T17:31:57.678Z"
   },
   {
    "duration": 22,
    "start_time": "2024-06-26T17:31:58.848Z"
   },
   {
    "duration": 3,
    "start_time": "2024-06-26T17:32:16.467Z"
   },
   {
    "duration": 262,
    "start_time": "2024-06-26T17:32:17.438Z"
   },
   {
    "duration": 3,
    "start_time": "2024-06-26T17:33:34.532Z"
   },
   {
    "duration": 50,
    "start_time": "2024-06-26T17:33:36.983Z"
   },
   {
    "duration": 3,
    "start_time": "2024-06-26T17:34:10.421Z"
   },
   {
    "duration": 195,
    "start_time": "2024-06-26T17:34:12.457Z"
   },
   {
    "duration": 3,
    "start_time": "2024-06-26T17:35:35.792Z"
   },
   {
    "duration": 3,
    "start_time": "2024-06-26T17:36:27.816Z"
   },
   {
    "duration": 22,
    "start_time": "2024-06-26T17:36:29.925Z"
   },
   {
    "duration": 3,
    "start_time": "2024-06-26T17:36:48.174Z"
   },
   {
    "duration": 20,
    "start_time": "2024-06-26T17:36:49.753Z"
   },
   {
    "duration": 4,
    "start_time": "2024-06-26T17:38:27.599Z"
   },
   {
    "duration": 80,
    "start_time": "2024-06-26T17:38:29.554Z"
   },
   {
    "duration": 3,
    "start_time": "2024-06-26T17:38:56.598Z"
   },
   {
    "duration": 20,
    "start_time": "2024-06-26T17:38:57.831Z"
   },
   {
    "duration": 2,
    "start_time": "2024-06-26T17:39:10.350Z"
   },
   {
    "duration": 34,
    "start_time": "2024-06-26T17:39:12.018Z"
   },
   {
    "duration": 2,
    "start_time": "2024-06-26T17:40:12.836Z"
   },
   {
    "duration": 22,
    "start_time": "2024-06-26T17:40:16.156Z"
   },
   {
    "duration": 3,
    "start_time": "2024-06-26T17:40:26.833Z"
   },
   {
    "duration": 3,
    "start_time": "2024-06-26T17:40:29.274Z"
   },
   {
    "duration": 21,
    "start_time": "2024-06-26T17:40:30.140Z"
   },
   {
    "duration": 3,
    "start_time": "2024-06-26T17:40:43.101Z"
   },
   {
    "duration": 21,
    "start_time": "2024-06-26T17:40:44.344Z"
   },
   {
    "duration": 3,
    "start_time": "2024-06-26T17:44:34.611Z"
   },
   {
    "duration": 3,
    "start_time": "2024-06-26T17:44:35.838Z"
   },
   {
    "duration": 3,
    "start_time": "2024-06-26T17:44:47.732Z"
   },
   {
    "duration": 20,
    "start_time": "2024-06-26T17:44:48.928Z"
   },
   {
    "duration": 2,
    "start_time": "2024-06-26T17:45:00.434Z"
   },
   {
    "duration": 3,
    "start_time": "2024-06-26T17:45:10.885Z"
   },
   {
    "duration": 3,
    "start_time": "2024-06-26T17:45:29.052Z"
   },
   {
    "duration": 20,
    "start_time": "2024-06-26T17:45:30.699Z"
   },
   {
    "duration": 3,
    "start_time": "2024-06-26T17:45:47.334Z"
   },
   {
    "duration": 45,
    "start_time": "2024-06-26T17:45:48.393Z"
   },
   {
    "duration": 2,
    "start_time": "2024-06-26T17:46:30.589Z"
   },
   {
    "duration": 22,
    "start_time": "2024-06-26T17:46:31.814Z"
   },
   {
    "duration": 3,
    "start_time": "2024-06-26T17:46:52.077Z"
   },
   {
    "duration": 28,
    "start_time": "2024-06-26T17:46:53.725Z"
   },
   {
    "duration": 3,
    "start_time": "2024-06-26T17:47:42.935Z"
   },
   {
    "duration": 21,
    "start_time": "2024-06-26T17:47:44.250Z"
   },
   {
    "duration": 2,
    "start_time": "2024-06-26T17:47:50.882Z"
   },
   {
    "duration": 3,
    "start_time": "2024-06-26T17:47:53.082Z"
   },
   {
    "duration": 34,
    "start_time": "2024-06-26T17:47:54.372Z"
   },
   {
    "duration": 3,
    "start_time": "2024-06-26T17:48:32.356Z"
   },
   {
    "duration": 34,
    "start_time": "2024-06-26T17:48:33.184Z"
   },
   {
    "duration": 3,
    "start_time": "2024-06-26T17:48:57.982Z"
   },
   {
    "duration": 21,
    "start_time": "2024-06-26T17:48:58.851Z"
   },
   {
    "duration": 3,
    "start_time": "2024-06-26T17:49:03.007Z"
   },
   {
    "duration": 258,
    "start_time": "2024-06-26T17:49:03.666Z"
   },
   {
    "duration": 3,
    "start_time": "2024-06-26T17:49:34.764Z"
   },
   {
    "duration": 3,
    "start_time": "2024-06-26T17:49:40.333Z"
   },
   {
    "duration": 36,
    "start_time": "2024-06-26T17:49:41.300Z"
   },
   {
    "duration": 3,
    "start_time": "2024-06-26T17:50:03.759Z"
   },
   {
    "duration": 34,
    "start_time": "2024-06-26T17:50:05.528Z"
   },
   {
    "duration": 3,
    "start_time": "2024-06-26T18:09:57.183Z"
   },
   {
    "duration": 216,
    "start_time": "2024-06-26T18:09:57.825Z"
   },
   {
    "duration": 2,
    "start_time": "2024-06-26T18:11:48.332Z"
   },
   {
    "duration": 35,
    "start_time": "2024-06-26T18:11:49.091Z"
   },
   {
    "duration": 3,
    "start_time": "2024-06-26T18:11:58.411Z"
   },
   {
    "duration": 42,
    "start_time": "2024-06-26T18:12:00.087Z"
   },
   {
    "duration": 3,
    "start_time": "2024-06-26T18:12:08.528Z"
   },
   {
    "duration": 304,
    "start_time": "2024-06-26T18:12:09.707Z"
   },
   {
    "duration": 3,
    "start_time": "2024-06-26T18:12:30.721Z"
   },
   {
    "duration": 51,
    "start_time": "2024-06-26T18:12:32.869Z"
   },
   {
    "duration": 2,
    "start_time": "2024-06-26T18:12:48.325Z"
   },
   {
    "duration": 267,
    "start_time": "2024-06-26T18:12:49.809Z"
   },
   {
    "duration": 3,
    "start_time": "2024-06-26T18:13:35.678Z"
   },
   {
    "duration": 35,
    "start_time": "2024-06-26T18:13:37.789Z"
   },
   {
    "duration": 2,
    "start_time": "2024-06-26T18:13:53.927Z"
   },
   {
    "duration": 265,
    "start_time": "2024-06-26T18:13:54.929Z"
   },
   {
    "duration": 3,
    "start_time": "2024-06-26T18:14:22.493Z"
   },
   {
    "duration": 35,
    "start_time": "2024-06-26T18:14:23.076Z"
   },
   {
    "duration": 3,
    "start_time": "2024-06-26T18:14:49.301Z"
   },
   {
    "duration": 3,
    "start_time": "2024-06-26T18:14:50.948Z"
   },
   {
    "duration": 3,
    "start_time": "2024-06-26T18:15:47.198Z"
   },
   {
    "duration": 25,
    "start_time": "2024-06-26T18:15:48.720Z"
   },
   {
    "duration": 3,
    "start_time": "2024-06-26T18:16:20.477Z"
   },
   {
    "duration": 21,
    "start_time": "2024-06-26T18:16:22.346Z"
   },
   {
    "duration": 3,
    "start_time": "2024-06-26T18:18:22.068Z"
   },
   {
    "duration": 20,
    "start_time": "2024-06-26T18:18:23.467Z"
   },
   {
    "duration": 3,
    "start_time": "2024-06-26T18:18:38.873Z"
   },
   {
    "duration": 22,
    "start_time": "2024-06-26T18:18:40.134Z"
   },
   {
    "duration": 3,
    "start_time": "2024-06-26T18:20:08.367Z"
   },
   {
    "duration": 24,
    "start_time": "2024-06-26T18:20:10.768Z"
   },
   {
    "duration": 3,
    "start_time": "2024-06-26T18:20:18.625Z"
   },
   {
    "duration": 38,
    "start_time": "2024-06-26T18:20:20.275Z"
   },
   {
    "duration": 3,
    "start_time": "2024-06-26T18:20:49.453Z"
   },
   {
    "duration": 21,
    "start_time": "2024-06-26T18:20:51.046Z"
   },
   {
    "duration": 3,
    "start_time": "2024-06-26T18:21:02.449Z"
   },
   {
    "duration": 18,
    "start_time": "2024-06-26T18:21:03.764Z"
   },
   {
    "duration": 3,
    "start_time": "2024-06-26T18:21:20.065Z"
   },
   {
    "duration": 21,
    "start_time": "2024-06-26T18:21:21.939Z"
   },
   {
    "duration": 3,
    "start_time": "2024-06-26T18:21:28.500Z"
   },
   {
    "duration": 21,
    "start_time": "2024-06-26T18:21:30.667Z"
   },
   {
    "duration": 2,
    "start_time": "2024-06-26T18:21:45.778Z"
   },
   {
    "duration": 24,
    "start_time": "2024-06-26T18:21:47.616Z"
   },
   {
    "duration": 3,
    "start_time": "2024-06-26T18:22:04.242Z"
   },
   {
    "duration": 20,
    "start_time": "2024-06-26T18:22:06.932Z"
   },
   {
    "duration": 3,
    "start_time": "2024-06-26T18:22:25.678Z"
   },
   {
    "duration": 20,
    "start_time": "2024-06-26T18:22:26.780Z"
   },
   {
    "duration": 3,
    "start_time": "2024-06-26T18:22:33.897Z"
   },
   {
    "duration": 38,
    "start_time": "2024-06-26T18:22:34.671Z"
   },
   {
    "duration": 3,
    "start_time": "2024-06-26T18:23:10.804Z"
   },
   {
    "duration": 21,
    "start_time": "2024-06-26T18:23:12.798Z"
   },
   {
    "duration": 3,
    "start_time": "2024-06-26T18:23:53.740Z"
   },
   {
    "duration": 27,
    "start_time": "2024-06-26T18:23:55.617Z"
   },
   {
    "duration": 3,
    "start_time": "2024-06-26T18:24:16.000Z"
   },
   {
    "duration": 24,
    "start_time": "2024-06-26T18:24:17.919Z"
   },
   {
    "duration": 2,
    "start_time": "2024-06-26T18:24:21.308Z"
   },
   {
    "duration": 20,
    "start_time": "2024-06-26T18:24:22.839Z"
   },
   {
    "duration": 2,
    "start_time": "2024-06-26T18:24:33.956Z"
   },
   {
    "duration": 58,
    "start_time": "2024-06-26T18:24:35.476Z"
   },
   {
    "duration": 3,
    "start_time": "2024-06-26T18:24:40.133Z"
   },
   {
    "duration": 91,
    "start_time": "2024-06-26T18:24:41.705Z"
   },
   {
    "duration": 3,
    "start_time": "2024-06-26T18:25:07.109Z"
   },
   {
    "duration": 21,
    "start_time": "2024-06-26T18:25:08.407Z"
   },
   {
    "duration": 3,
    "start_time": "2024-06-26T18:26:26.065Z"
   },
   {
    "duration": 37,
    "start_time": "2024-06-26T18:26:27.727Z"
   },
   {
    "duration": 3,
    "start_time": "2024-06-26T18:26:55.385Z"
   },
   {
    "duration": 18,
    "start_time": "2024-06-26T18:26:57.001Z"
   },
   {
    "duration": 3,
    "start_time": "2024-06-26T18:27:13.832Z"
   },
   {
    "duration": 38,
    "start_time": "2024-06-26T18:27:15.512Z"
   },
   {
    "duration": 2,
    "start_time": "2024-06-26T18:27:25.631Z"
   },
   {
    "duration": 35,
    "start_time": "2024-06-26T18:27:27.428Z"
   },
   {
    "duration": 2,
    "start_time": "2024-06-26T18:28:10.886Z"
   },
   {
    "duration": 21,
    "start_time": "2024-06-26T18:28:12.339Z"
   },
   {
    "duration": 3,
    "start_time": "2024-06-26T18:28:38.840Z"
   },
   {
    "duration": 22,
    "start_time": "2024-06-26T18:28:40.166Z"
   },
   {
    "duration": 55,
    "start_time": "2024-06-26T18:48:04.783Z"
   },
   {
    "duration": 76,
    "start_time": "2024-06-26T18:48:07.395Z"
   },
   {
    "duration": 3,
    "start_time": "2024-06-26T18:48:27.229Z"
   },
   {
    "duration": 23,
    "start_time": "2024-06-26T18:48:29.006Z"
   },
   {
    "duration": 3,
    "start_time": "2024-06-26T18:48:41.327Z"
   },
   {
    "duration": 20,
    "start_time": "2024-06-26T18:48:42.733Z"
   },
   {
    "duration": 2,
    "start_time": "2024-06-26T18:49:13.597Z"
   },
   {
    "duration": 14,
    "start_time": "2024-06-26T18:49:14.459Z"
   },
   {
    "duration": 3,
    "start_time": "2024-06-26T18:49:45.662Z"
   },
   {
    "duration": 44,
    "start_time": "2024-06-26T18:49:47.267Z"
   },
   {
    "duration": 3,
    "start_time": "2024-06-26T18:51:50.121Z"
   },
   {
    "duration": 24,
    "start_time": "2024-06-26T18:51:51.122Z"
   },
   {
    "duration": 2,
    "start_time": "2024-06-26T18:52:02.486Z"
   },
   {
    "duration": 16,
    "start_time": "2024-06-26T18:52:04.584Z"
   },
   {
    "duration": 3,
    "start_time": "2024-06-26T18:52:11.397Z"
   },
   {
    "duration": 27,
    "start_time": "2024-06-26T18:52:12.483Z"
   },
   {
    "duration": 3,
    "start_time": "2024-06-26T18:52:14.969Z"
   },
   {
    "duration": 29,
    "start_time": "2024-06-26T18:52:16.163Z"
   },
   {
    "duration": 2,
    "start_time": "2024-06-26T18:53:07.114Z"
   },
   {
    "duration": 3,
    "start_time": "2024-06-26T18:53:08.328Z"
   },
   {
    "duration": 17,
    "start_time": "2024-06-26T18:53:09.881Z"
   },
   {
    "duration": 3,
    "start_time": "2024-06-26T18:53:19.842Z"
   },
   {
    "duration": 19,
    "start_time": "2024-06-26T18:53:21.232Z"
   },
   {
    "duration": 3,
    "start_time": "2024-06-26T18:53:46.403Z"
   },
   {
    "duration": 23,
    "start_time": "2024-06-26T18:53:48.663Z"
   },
   {
    "duration": 3,
    "start_time": "2024-06-26T18:54:06.483Z"
   },
   {
    "duration": 15,
    "start_time": "2024-06-26T18:54:08.627Z"
   },
   {
    "duration": 3,
    "start_time": "2024-06-26T18:54:56.254Z"
   },
   {
    "duration": 17,
    "start_time": "2024-06-26T18:54:58.757Z"
   },
   {
    "duration": 2,
    "start_time": "2024-06-26T18:55:47.449Z"
   },
   {
    "duration": 29,
    "start_time": "2024-06-26T18:55:49.313Z"
   },
   {
    "duration": 3,
    "start_time": "2024-06-26T18:56:16.735Z"
   },
   {
    "duration": 20,
    "start_time": "2024-06-26T18:56:17.482Z"
   },
   {
    "duration": 2,
    "start_time": "2024-06-26T18:56:24.950Z"
   },
   {
    "duration": 29,
    "start_time": "2024-06-26T18:56:26.185Z"
   },
   {
    "duration": 2,
    "start_time": "2024-06-26T18:57:18.401Z"
   },
   {
    "duration": 22,
    "start_time": "2024-06-26T18:57:20.835Z"
   },
   {
    "duration": 3,
    "start_time": "2024-06-26T18:57:33.294Z"
   },
   {
    "duration": 4,
    "start_time": "2024-06-26T18:57:46.653Z"
   },
   {
    "duration": 29,
    "start_time": "2024-06-26T18:57:48.236Z"
   },
   {
    "duration": 3,
    "start_time": "2024-06-26T18:58:11.227Z"
   },
   {
    "duration": 18,
    "start_time": "2024-06-26T18:58:12.836Z"
   },
   {
    "duration": 2,
    "start_time": "2024-06-26T18:58:37.372Z"
   },
   {
    "duration": 22,
    "start_time": "2024-06-26T18:58:38.973Z"
   },
   {
    "duration": 3,
    "start_time": "2024-06-26T18:58:46.932Z"
   },
   {
    "duration": 22,
    "start_time": "2024-06-26T18:58:48.111Z"
   },
   {
    "duration": 3,
    "start_time": "2024-06-26T18:58:51.307Z"
   },
   {
    "duration": 18,
    "start_time": "2024-06-26T18:58:54.045Z"
   },
   {
    "duration": 3,
    "start_time": "2024-06-26T18:59:51.939Z"
   },
   {
    "duration": 18,
    "start_time": "2024-06-26T18:59:53.178Z"
   },
   {
    "duration": 3,
    "start_time": "2024-06-26T19:00:01.851Z"
   },
   {
    "duration": 20,
    "start_time": "2024-06-26T19:00:03.105Z"
   },
   {
    "duration": 2,
    "start_time": "2024-06-26T19:00:29.124Z"
   },
   {
    "duration": 16,
    "start_time": "2024-06-26T19:00:30.602Z"
   },
   {
    "duration": 3,
    "start_time": "2024-06-26T19:00:44.359Z"
   },
   {
    "duration": 17,
    "start_time": "2024-06-26T19:00:45.696Z"
   },
   {
    "duration": 4,
    "start_time": "2024-06-26T19:01:09.106Z"
   },
   {
    "duration": 17,
    "start_time": "2024-06-26T19:01:09.732Z"
   },
   {
    "duration": 2,
    "start_time": "2024-06-26T19:02:55.951Z"
   },
   {
    "duration": 84,
    "start_time": "2024-06-26T19:02:59.094Z"
   },
   {
    "duration": 2,
    "start_time": "2024-06-26T19:03:47.752Z"
   },
   {
    "duration": 17,
    "start_time": "2024-06-26T19:03:48.934Z"
   },
   {
    "duration": 4,
    "start_time": "2024-06-26T19:04:06.354Z"
   },
   {
    "duration": 3,
    "start_time": "2024-06-26T19:04:16.270Z"
   },
   {
    "duration": 21,
    "start_time": "2024-06-26T19:04:18.296Z"
   },
   {
    "duration": 2,
    "start_time": "2024-06-26T19:04:26.471Z"
   },
   {
    "duration": 15,
    "start_time": "2024-06-26T19:04:27.195Z"
   },
   {
    "duration": 3,
    "start_time": "2024-06-26T19:04:53.160Z"
   },
   {
    "duration": 21,
    "start_time": "2024-06-26T19:04:53.831Z"
   },
   {
    "duration": 2,
    "start_time": "2024-06-26T19:04:58.359Z"
   },
   {
    "duration": 19,
    "start_time": "2024-06-26T19:04:59.527Z"
   },
   {
    "duration": 3,
    "start_time": "2024-06-26T19:05:11.405Z"
   },
   {
    "duration": 15,
    "start_time": "2024-06-26T19:05:12.535Z"
   },
   {
    "duration": 3,
    "start_time": "2024-06-26T19:06:04.811Z"
   },
   {
    "duration": 16,
    "start_time": "2024-06-26T19:06:06.530Z"
   },
   {
    "duration": 3,
    "start_time": "2024-06-26T19:06:38.863Z"
   },
   {
    "duration": 28,
    "start_time": "2024-06-26T19:06:40.077Z"
   },
   {
    "duration": 4,
    "start_time": "2024-06-26T19:08:22.923Z"
   },
   {
    "duration": 17,
    "start_time": "2024-06-26T19:08:24.832Z"
   },
   {
    "duration": 3,
    "start_time": "2024-06-26T19:08:48.193Z"
   },
   {
    "duration": 16,
    "start_time": "2024-06-26T19:08:50.835Z"
   },
   {
    "duration": 4,
    "start_time": "2024-06-26T19:09:32.716Z"
   },
   {
    "duration": 3,
    "start_time": "2024-06-26T19:09:53.718Z"
   },
   {
    "duration": 22,
    "start_time": "2024-06-26T19:09:54.902Z"
   },
   {
    "duration": 3,
    "start_time": "2024-06-26T19:10:21.707Z"
   },
   {
    "duration": 21,
    "start_time": "2024-06-26T19:10:23.258Z"
   },
   {
    "duration": 79,
    "start_time": "2024-06-26T19:10:32.344Z"
   },
   {
    "duration": 3,
    "start_time": "2024-06-26T19:10:44.839Z"
   },
   {
    "duration": 16,
    "start_time": "2024-06-26T19:10:46.322Z"
   },
   {
    "duration": 3,
    "start_time": "2024-06-26T19:11:28.820Z"
   },
   {
    "duration": 17,
    "start_time": "2024-06-26T19:11:30.144Z"
   },
   {
    "duration": 3,
    "start_time": "2024-06-26T20:04:47.489Z"
   },
   {
    "duration": 19,
    "start_time": "2024-06-26T20:04:48.268Z"
   },
   {
    "duration": 3,
    "start_time": "2024-06-26T20:04:54.439Z"
   },
   {
    "duration": 14,
    "start_time": "2024-06-26T20:04:55.135Z"
   },
   {
    "duration": 65,
    "start_time": "2024-06-26T20:37:34.742Z"
   },
   {
    "duration": 55,
    "start_time": "2024-06-26T20:37:59.925Z"
   },
   {
    "duration": 2,
    "start_time": "2024-06-26T20:38:19.185Z"
   },
   {
    "duration": 14,
    "start_time": "2024-06-26T20:38:22.632Z"
   },
   {
    "duration": 3,
    "start_time": "2024-06-26T20:40:24.334Z"
   },
   {
    "duration": 4,
    "start_time": "2024-06-26T20:40:33.311Z"
   },
   {
    "duration": 11,
    "start_time": "2024-06-26T20:40:36.715Z"
   },
   {
    "duration": 2,
    "start_time": "2024-06-26T20:41:28.955Z"
   },
   {
    "duration": 3,
    "start_time": "2024-06-26T20:42:59.415Z"
   },
   {
    "duration": 11,
    "start_time": "2024-06-26T20:43:00.853Z"
   },
   {
    "duration": 3,
    "start_time": "2024-06-26T20:43:50.196Z"
   },
   {
    "duration": 3,
    "start_time": "2024-06-26T20:44:03.568Z"
   },
   {
    "duration": 13,
    "start_time": "2024-06-26T20:44:05.042Z"
   },
   {
    "duration": 3,
    "start_time": "2024-06-26T20:45:53.749Z"
   },
   {
    "duration": 12,
    "start_time": "2024-06-26T20:45:55.037Z"
   },
   {
    "duration": 61,
    "start_time": "2024-06-26T20:46:16.455Z"
   },
   {
    "duration": 56,
    "start_time": "2024-06-26T20:46:19.629Z"
   },
   {
    "duration": 2,
    "start_time": "2024-06-26T20:47:24.253Z"
   },
   {
    "duration": 11,
    "start_time": "2024-06-26T20:47:25.572Z"
   },
   {
    "duration": 64,
    "start_time": "2024-06-26T20:47:56.610Z"
   },
   {
    "duration": 10,
    "start_time": "2024-06-27T06:54:00.133Z"
   },
   {
    "duration": 49,
    "start_time": "2024-06-27T06:54:01.873Z"
   },
   {
    "duration": 606,
    "start_time": "2024-06-27T06:54:09.169Z"
   },
   {
    "duration": 3,
    "start_time": "2024-06-27T06:54:09.777Z"
   },
   {
    "duration": 4951,
    "start_time": "2024-06-27T06:54:09.782Z"
   },
   {
    "duration": 3,
    "start_time": "2024-06-27T06:54:14.735Z"
   },
   {
    "duration": 60,
    "start_time": "2024-06-27T06:54:14.741Z"
   },
   {
    "duration": 2,
    "start_time": "2024-06-27T06:54:14.803Z"
   },
   {
    "duration": 86,
    "start_time": "2024-06-27T06:54:14.807Z"
   },
   {
    "duration": 3,
    "start_time": "2024-06-27T06:54:14.895Z"
   },
   {
    "duration": 16,
    "start_time": "2024-06-27T06:54:14.900Z"
   },
   {
    "duration": 3,
    "start_time": "2024-06-27T06:54:14.918Z"
   },
   {
    "duration": 13,
    "start_time": "2024-06-27T06:54:14.922Z"
   },
   {
    "duration": 3,
    "start_time": "2024-06-27T06:54:14.936Z"
   },
   {
    "duration": 15,
    "start_time": "2024-06-27T06:54:14.940Z"
   },
   {
    "duration": 2,
    "start_time": "2024-06-27T06:54:14.958Z"
   },
   {
    "duration": 30,
    "start_time": "2024-06-27T06:54:14.962Z"
   },
   {
    "duration": 72,
    "start_time": "2024-06-27T06:54:14.994Z"
   },
   {
    "duration": 60,
    "start_time": "2024-06-27T06:54:15.067Z"
   },
   {
    "duration": 2,
    "start_time": "2024-06-27T06:54:15.129Z"
   },
   {
    "duration": 46,
    "start_time": "2024-06-27T06:54:15.133Z"
   },
   {
    "duration": 19,
    "start_time": "2024-06-27T06:54:15.181Z"
   },
   {
    "duration": 36,
    "start_time": "2024-06-27T06:54:15.202Z"
   },
   {
    "duration": 37,
    "start_time": "2024-06-27T06:54:15.240Z"
   },
   {
    "duration": 51,
    "start_time": "2024-06-27T06:54:15.279Z"
   },
   {
    "duration": 55,
    "start_time": "2024-06-27T06:55:34.304Z"
   },
   {
    "duration": 2,
    "start_time": "2024-06-27T06:56:02.808Z"
   },
   {
    "duration": 21,
    "start_time": "2024-06-27T06:56:04.344Z"
   },
   {
    "duration": 2,
    "start_time": "2024-06-27T06:56:08.030Z"
   },
   {
    "duration": 11,
    "start_time": "2024-06-27T06:56:09.669Z"
   },
   {
    "duration": 3,
    "start_time": "2024-06-27T06:59:29.760Z"
   },
   {
    "duration": 16,
    "start_time": "2024-06-27T06:59:30.272Z"
   },
   {
    "duration": 2,
    "start_time": "2024-06-27T06:59:32.935Z"
   },
   {
    "duration": 12,
    "start_time": "2024-06-27T06:59:34.367Z"
   },
   {
    "duration": 3,
    "start_time": "2024-06-27T07:00:54.644Z"
   },
   {
    "duration": 13,
    "start_time": "2024-06-27T07:00:55.858Z"
   },
   {
    "duration": 2,
    "start_time": "2024-06-27T07:00:58.439Z"
   },
   {
    "duration": 11,
    "start_time": "2024-06-27T07:00:59.872Z"
   },
   {
    "duration": 3,
    "start_time": "2024-06-27T07:02:08.172Z"
   },
   {
    "duration": 29,
    "start_time": "2024-06-27T07:02:09.096Z"
   },
   {
    "duration": 3,
    "start_time": "2024-06-27T07:02:48.328Z"
   },
   {
    "duration": 11,
    "start_time": "2024-06-27T07:02:49.851Z"
   },
   {
    "duration": 3,
    "start_time": "2024-06-27T07:03:46.082Z"
   },
   {
    "duration": 29,
    "start_time": "2024-06-27T07:03:47.328Z"
   },
   {
    "duration": 3,
    "start_time": "2024-06-27T07:04:26.619Z"
   },
   {
    "duration": 11,
    "start_time": "2024-06-27T07:04:27.336Z"
   },
   {
    "duration": 66,
    "start_time": "2024-06-27T07:12:40.194Z"
   }
  ],
  "kernelspec": {
   "display_name": "Python 3 (ipykernel)",
   "language": "python",
   "name": "python3"
  },
  "language_info": {
   "codemirror_mode": {
    "name": "ipython",
    "version": 3
   },
   "file_extension": ".py",
   "mimetype": "text/x-python",
   "name": "python",
   "nbconvert_exporter": "python",
   "pygments_lexer": "ipython3",
   "version": "3.11.5"
  },
  "toc": {
   "base_numbering": 1,
   "nav_menu": {},
   "number_sections": true,
   "sideBar": true,
   "skip_h1_title": true,
   "title_cell": "Table of Contents",
   "title_sidebar": "Contents",
   "toc_cell": false,
   "toc_position": {},
   "toc_section_display": true,
   "toc_window_display": false
  }
 },
 "nbformat": 4,
 "nbformat_minor": 2
}
