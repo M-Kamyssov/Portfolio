{
 "cells": [
  {
   "cell_type": "markdown",
   "metadata": {},
   "source": [
    "# Проект: Исследование A/A/B-эксперимента"
   ]
  },
  {
   "cell_type": "markdown",
   "metadata": {},
   "source": [
    "Стартап по продаже продуктов питания поставил задачу изучить поведение пользователей мобильного приложения.\n",
    "\n",
    "Задачами проекта станут изучение воронки продаж, определение проблемных мест, а также анализ эксперимента дизайнеров компании по смене шрифта мобильного приложения. \n",
    "\n",
    "В ходе проекта будет проведена подготовка и очистка данных. \n",
    "\n",
    "Затем будет проведен исследовательский анализ данных, построена и проанализирована воронка событий.\n",
    "\n",
    "Заключительным шагом проекта станет анализ проведенного эксперимента и оценка его результатов. "
   ]
  },
  {
   "cell_type": "markdown",
   "metadata": {},
   "source": [
    "## Подготовка данных"
   ]
  },
  {
   "cell_type": "markdown",
   "metadata": {},
   "source": [
    "### Импорт библиотек и ознакомление с данными"
   ]
  },
  {
   "cell_type": "markdown",
   "metadata": {},
   "source": [
    "Импортируем необходимые библиотеки"
   ]
  },
  {
   "cell_type": "code",
   "execution_count": 1,
   "metadata": {},
   "outputs": [],
   "source": [
    "import pandas as pd\n",
    "import math as mth\n",
    "from datetime import datetime\n",
    "from scipy import stats as st\n",
    "import plotly.express as px\n",
    "import warnings\n",
    "warnings.filterwarnings(\"ignore\")"
   ]
  },
  {
   "cell_type": "markdown",
   "metadata": {},
   "source": [
    "Создадим и изучим датафрейм"
   ]
  },
  {
   "cell_type": "code",
   "execution_count": 2,
   "metadata": {},
   "outputs": [],
   "source": [
    "data = pd.read_csv('C:\\\\Users\\\\user\\\\Downloads\\\\Портфолио\\\\logs_exp.csv', sep= '\\t')"
   ]
  },
  {
   "cell_type": "code",
   "execution_count": 3,
   "metadata": {},
   "outputs": [
    {
     "data": {
      "text/html": [
       "<div>\n",
       "<style scoped>\n",
       "    .dataframe tbody tr th:only-of-type {\n",
       "        vertical-align: middle;\n",
       "    }\n",
       "\n",
       "    .dataframe tbody tr th {\n",
       "        vertical-align: top;\n",
       "    }\n",
       "\n",
       "    .dataframe thead th {\n",
       "        text-align: right;\n",
       "    }\n",
       "</style>\n",
       "<table border=\"1\" class=\"dataframe\">\n",
       "  <thead>\n",
       "    <tr style=\"text-align: right;\">\n",
       "      <th></th>\n",
       "      <th>EventName</th>\n",
       "      <th>DeviceIDHash</th>\n",
       "      <th>EventTimestamp</th>\n",
       "      <th>ExpId</th>\n",
       "    </tr>\n",
       "  </thead>\n",
       "  <tbody>\n",
       "    <tr>\n",
       "      <th>0</th>\n",
       "      <td>MainScreenAppear</td>\n",
       "      <td>4575588528974610257</td>\n",
       "      <td>1564029816</td>\n",
       "      <td>246</td>\n",
       "    </tr>\n",
       "    <tr>\n",
       "      <th>1</th>\n",
       "      <td>MainScreenAppear</td>\n",
       "      <td>7416695313311560658</td>\n",
       "      <td>1564053102</td>\n",
       "      <td>246</td>\n",
       "    </tr>\n",
       "    <tr>\n",
       "      <th>2</th>\n",
       "      <td>PaymentScreenSuccessful</td>\n",
       "      <td>3518123091307005509</td>\n",
       "      <td>1564054127</td>\n",
       "      <td>248</td>\n",
       "    </tr>\n",
       "    <tr>\n",
       "      <th>3</th>\n",
       "      <td>CartScreenAppear</td>\n",
       "      <td>3518123091307005509</td>\n",
       "      <td>1564054127</td>\n",
       "      <td>248</td>\n",
       "    </tr>\n",
       "    <tr>\n",
       "      <th>4</th>\n",
       "      <td>PaymentScreenSuccessful</td>\n",
       "      <td>6217807653094995999</td>\n",
       "      <td>1564055322</td>\n",
       "      <td>248</td>\n",
       "    </tr>\n",
       "  </tbody>\n",
       "</table>\n",
       "</div>"
      ],
      "text/plain": [
       "                 EventName         DeviceIDHash  EventTimestamp  ExpId\n",
       "0         MainScreenAppear  4575588528974610257      1564029816    246\n",
       "1         MainScreenAppear  7416695313311560658      1564053102    246\n",
       "2  PaymentScreenSuccessful  3518123091307005509      1564054127    248\n",
       "3         CartScreenAppear  3518123091307005509      1564054127    248\n",
       "4  PaymentScreenSuccessful  6217807653094995999      1564055322    248"
      ]
     },
     "execution_count": 3,
     "metadata": {},
     "output_type": "execute_result"
    }
   ],
   "source": [
    "data.head()"
   ]
  },
  {
   "cell_type": "markdown",
   "metadata": {},
   "source": [
    "Из документации известно, что: \n",
    "\n",
    "в столбце EventName содержатся названия событий,\n",
    "\n",
    "в столбце DeviceIDHash содержатся уникальные идентификаторы пользователей, \n",
    "\n",
    "в столбце EventTimestamp содержится время события,\n",
    "\n",
    "в столбце ExpId содержатся номера экспериментов 246 и 247 — контрольные группы, а 248 — экспериментальная,\n"
   ]
  },
  {
   "cell_type": "code",
   "execution_count": 4,
   "metadata": {},
   "outputs": [
    {
     "name": "stdout",
     "output_type": "stream",
     "text": [
      "<class 'pandas.core.frame.DataFrame'>\n",
      "RangeIndex: 244126 entries, 0 to 244125\n",
      "Data columns (total 4 columns):\n",
      " #   Column          Non-Null Count   Dtype \n",
      "---  ------          --------------   ----- \n",
      " 0   EventName       244126 non-null  object\n",
      " 1   DeviceIDHash    244126 non-null  int64 \n",
      " 2   EventTimestamp  244126 non-null  int64 \n",
      " 3   ExpId           244126 non-null  int64 \n",
      "dtypes: int64(3), object(1)\n",
      "memory usage: 7.5+ MB\n"
     ]
    }
   ],
   "source": [
    "data.info()"
   ]
  },
  {
   "cell_type": "markdown",
   "metadata": {},
   "source": [
    "Столбец с временем события имеет некорректный формат, необходимо это исправить."
   ]
  },
  {
   "cell_type": "code",
   "execution_count": 5,
   "metadata": {},
   "outputs": [],
   "source": [
    "data['datetime'] = pd.to_datetime(data['EventTimestamp'], unit='s')"
   ]
  },
  {
   "cell_type": "code",
   "execution_count": 6,
   "metadata": {},
   "outputs": [
    {
     "data": {
      "text/html": [
       "<div>\n",
       "<style scoped>\n",
       "    .dataframe tbody tr th:only-of-type {\n",
       "        vertical-align: middle;\n",
       "    }\n",
       "\n",
       "    .dataframe tbody tr th {\n",
       "        vertical-align: top;\n",
       "    }\n",
       "\n",
       "    .dataframe thead th {\n",
       "        text-align: right;\n",
       "    }\n",
       "</style>\n",
       "<table border=\"1\" class=\"dataframe\">\n",
       "  <thead>\n",
       "    <tr style=\"text-align: right;\">\n",
       "      <th></th>\n",
       "      <th>EventName</th>\n",
       "      <th>DeviceIDHash</th>\n",
       "      <th>EventTimestamp</th>\n",
       "      <th>ExpId</th>\n",
       "      <th>datetime</th>\n",
       "    </tr>\n",
       "  </thead>\n",
       "  <tbody>\n",
       "    <tr>\n",
       "      <th>0</th>\n",
       "      <td>MainScreenAppear</td>\n",
       "      <td>4575588528974610257</td>\n",
       "      <td>1564029816</td>\n",
       "      <td>246</td>\n",
       "      <td>2019-07-25 04:43:36</td>\n",
       "    </tr>\n",
       "    <tr>\n",
       "      <th>1</th>\n",
       "      <td>MainScreenAppear</td>\n",
       "      <td>7416695313311560658</td>\n",
       "      <td>1564053102</td>\n",
       "      <td>246</td>\n",
       "      <td>2019-07-25 11:11:42</td>\n",
       "    </tr>\n",
       "    <tr>\n",
       "      <th>2</th>\n",
       "      <td>PaymentScreenSuccessful</td>\n",
       "      <td>3518123091307005509</td>\n",
       "      <td>1564054127</td>\n",
       "      <td>248</td>\n",
       "      <td>2019-07-25 11:28:47</td>\n",
       "    </tr>\n",
       "    <tr>\n",
       "      <th>3</th>\n",
       "      <td>CartScreenAppear</td>\n",
       "      <td>3518123091307005509</td>\n",
       "      <td>1564054127</td>\n",
       "      <td>248</td>\n",
       "      <td>2019-07-25 11:28:47</td>\n",
       "    </tr>\n",
       "    <tr>\n",
       "      <th>4</th>\n",
       "      <td>PaymentScreenSuccessful</td>\n",
       "      <td>6217807653094995999</td>\n",
       "      <td>1564055322</td>\n",
       "      <td>248</td>\n",
       "      <td>2019-07-25 11:48:42</td>\n",
       "    </tr>\n",
       "  </tbody>\n",
       "</table>\n",
       "</div>"
      ],
      "text/plain": [
       "                 EventName         DeviceIDHash  EventTimestamp  ExpId  \\\n",
       "0         MainScreenAppear  4575588528974610257      1564029816    246   \n",
       "1         MainScreenAppear  7416695313311560658      1564053102    246   \n",
       "2  PaymentScreenSuccessful  3518123091307005509      1564054127    248   \n",
       "3         CartScreenAppear  3518123091307005509      1564054127    248   \n",
       "4  PaymentScreenSuccessful  6217807653094995999      1564055322    248   \n",
       "\n",
       "             datetime  \n",
       "0 2019-07-25 04:43:36  \n",
       "1 2019-07-25 11:11:42  \n",
       "2 2019-07-25 11:28:47  \n",
       "3 2019-07-25 11:28:47  \n",
       "4 2019-07-25 11:48:42  "
      ]
     },
     "execution_count": 6,
     "metadata": {},
     "output_type": "execute_result"
    }
   ],
   "source": [
    "data.head()"
   ]
  },
  {
   "cell_type": "markdown",
   "metadata": {},
   "source": [
    "Добавим столбец с датой"
   ]
  },
  {
   "cell_type": "code",
   "execution_count": 61,
   "metadata": {},
   "outputs": [
    {
     "data": {
      "text/html": [
       "<div>\n",
       "<style scoped>\n",
       "    .dataframe tbody tr th:only-of-type {\n",
       "        vertical-align: middle;\n",
       "    }\n",
       "\n",
       "    .dataframe tbody tr th {\n",
       "        vertical-align: top;\n",
       "    }\n",
       "\n",
       "    .dataframe thead th {\n",
       "        text-align: right;\n",
       "    }\n",
       "</style>\n",
       "<table border=\"1\" class=\"dataframe\">\n",
       "  <thead>\n",
       "    <tr style=\"text-align: right;\">\n",
       "      <th></th>\n",
       "      <th>event_name</th>\n",
       "      <th>user_id</th>\n",
       "      <th>timestamp</th>\n",
       "      <th>group</th>\n",
       "      <th>datetime</th>\n",
       "      <th>date</th>\n",
       "    </tr>\n",
       "  </thead>\n",
       "  <tbody>\n",
       "    <tr>\n",
       "      <th>0</th>\n",
       "      <td>MainScreenAppear</td>\n",
       "      <td>4575588528974610257</td>\n",
       "      <td>1564029816</td>\n",
       "      <td>246</td>\n",
       "      <td>2019-07-25 04:43:36</td>\n",
       "      <td>2019-07-25</td>\n",
       "    </tr>\n",
       "    <tr>\n",
       "      <th>1</th>\n",
       "      <td>MainScreenAppear</td>\n",
       "      <td>7416695313311560658</td>\n",
       "      <td>1564053102</td>\n",
       "      <td>246</td>\n",
       "      <td>2019-07-25 11:11:42</td>\n",
       "      <td>2019-07-25</td>\n",
       "    </tr>\n",
       "    <tr>\n",
       "      <th>2</th>\n",
       "      <td>PaymentScreenSuccessful</td>\n",
       "      <td>3518123091307005509</td>\n",
       "      <td>1564054127</td>\n",
       "      <td>248</td>\n",
       "      <td>2019-07-25 11:28:47</td>\n",
       "      <td>2019-07-25</td>\n",
       "    </tr>\n",
       "    <tr>\n",
       "      <th>3</th>\n",
       "      <td>CartScreenAppear</td>\n",
       "      <td>3518123091307005509</td>\n",
       "      <td>1564054127</td>\n",
       "      <td>248</td>\n",
       "      <td>2019-07-25 11:28:47</td>\n",
       "      <td>2019-07-25</td>\n",
       "    </tr>\n",
       "    <tr>\n",
       "      <th>4</th>\n",
       "      <td>PaymentScreenSuccessful</td>\n",
       "      <td>6217807653094995999</td>\n",
       "      <td>1564055322</td>\n",
       "      <td>248</td>\n",
       "      <td>2019-07-25 11:48:42</td>\n",
       "      <td>2019-07-25</td>\n",
       "    </tr>\n",
       "  </tbody>\n",
       "</table>\n",
       "</div>"
      ],
      "text/plain": [
       "                event_name              user_id   timestamp  group  \\\n",
       "0         MainScreenAppear  4575588528974610257  1564029816    246   \n",
       "1         MainScreenAppear  7416695313311560658  1564053102    246   \n",
       "2  PaymentScreenSuccessful  3518123091307005509  1564054127    248   \n",
       "3         CartScreenAppear  3518123091307005509  1564054127    248   \n",
       "4  PaymentScreenSuccessful  6217807653094995999  1564055322    248   \n",
       "\n",
       "             datetime        date  \n",
       "0 2019-07-25 04:43:36  2019-07-25  \n",
       "1 2019-07-25 11:11:42  2019-07-25  \n",
       "2 2019-07-25 11:28:47  2019-07-25  \n",
       "3 2019-07-25 11:28:47  2019-07-25  \n",
       "4 2019-07-25 11:48:42  2019-07-25  "
      ]
     },
     "execution_count": 61,
     "metadata": {},
     "output_type": "execute_result"
    }
   ],
   "source": [
    "data['date'] = data['datetime'].dt.date\n",
    "data.head()"
   ]
  },
  {
   "cell_type": "markdown",
   "metadata": {},
   "source": [
    "Переименуем столбцы для удобства работы"
   ]
  },
  {
   "cell_type": "code",
   "execution_count": 8,
   "metadata": {},
   "outputs": [
    {
     "data": {
      "text/html": [
       "<div>\n",
       "<style scoped>\n",
       "    .dataframe tbody tr th:only-of-type {\n",
       "        vertical-align: middle;\n",
       "    }\n",
       "\n",
       "    .dataframe tbody tr th {\n",
       "        vertical-align: top;\n",
       "    }\n",
       "\n",
       "    .dataframe thead th {\n",
       "        text-align: right;\n",
       "    }\n",
       "</style>\n",
       "<table border=\"1\" class=\"dataframe\">\n",
       "  <thead>\n",
       "    <tr style=\"text-align: right;\">\n",
       "      <th></th>\n",
       "      <th>event_name</th>\n",
       "      <th>user_id</th>\n",
       "      <th>timestamp</th>\n",
       "      <th>group</th>\n",
       "      <th>datetime</th>\n",
       "      <th>date</th>\n",
       "    </tr>\n",
       "  </thead>\n",
       "  <tbody>\n",
       "    <tr>\n",
       "      <th>0</th>\n",
       "      <td>MainScreenAppear</td>\n",
       "      <td>4575588528974610257</td>\n",
       "      <td>1564029816</td>\n",
       "      <td>246</td>\n",
       "      <td>2019-07-25 04:43:36</td>\n",
       "      <td>2019-07-25</td>\n",
       "    </tr>\n",
       "    <tr>\n",
       "      <th>1</th>\n",
       "      <td>MainScreenAppear</td>\n",
       "      <td>7416695313311560658</td>\n",
       "      <td>1564053102</td>\n",
       "      <td>246</td>\n",
       "      <td>2019-07-25 11:11:42</td>\n",
       "      <td>2019-07-25</td>\n",
       "    </tr>\n",
       "    <tr>\n",
       "      <th>2</th>\n",
       "      <td>PaymentScreenSuccessful</td>\n",
       "      <td>3518123091307005509</td>\n",
       "      <td>1564054127</td>\n",
       "      <td>248</td>\n",
       "      <td>2019-07-25 11:28:47</td>\n",
       "      <td>2019-07-25</td>\n",
       "    </tr>\n",
       "    <tr>\n",
       "      <th>3</th>\n",
       "      <td>CartScreenAppear</td>\n",
       "      <td>3518123091307005509</td>\n",
       "      <td>1564054127</td>\n",
       "      <td>248</td>\n",
       "      <td>2019-07-25 11:28:47</td>\n",
       "      <td>2019-07-25</td>\n",
       "    </tr>\n",
       "    <tr>\n",
       "      <th>4</th>\n",
       "      <td>PaymentScreenSuccessful</td>\n",
       "      <td>6217807653094995999</td>\n",
       "      <td>1564055322</td>\n",
       "      <td>248</td>\n",
       "      <td>2019-07-25 11:48:42</td>\n",
       "      <td>2019-07-25</td>\n",
       "    </tr>\n",
       "  </tbody>\n",
       "</table>\n",
       "</div>"
      ],
      "text/plain": [
       "                event_name              user_id   timestamp  group  \\\n",
       "0         MainScreenAppear  4575588528974610257  1564029816    246   \n",
       "1         MainScreenAppear  7416695313311560658  1564053102    246   \n",
       "2  PaymentScreenSuccessful  3518123091307005509  1564054127    248   \n",
       "3         CartScreenAppear  3518123091307005509  1564054127    248   \n",
       "4  PaymentScreenSuccessful  6217807653094995999  1564055322    248   \n",
       "\n",
       "             datetime        date  \n",
       "0 2019-07-25 04:43:36  2019-07-25  \n",
       "1 2019-07-25 11:11:42  2019-07-25  \n",
       "2 2019-07-25 11:28:47  2019-07-25  \n",
       "3 2019-07-25 11:28:47  2019-07-25  \n",
       "4 2019-07-25 11:48:42  2019-07-25  "
      ]
     },
     "execution_count": 8,
     "metadata": {},
     "output_type": "execute_result"
    }
   ],
   "source": [
    "data.columns = ['event_name', 'user_id', 'timestamp', 'group', 'datetime', 'date']\n",
    "data.head()"
   ]
  },
  {
   "cell_type": "markdown",
   "metadata": {},
   "source": [
    "### Поиск пропусков и дубликатов"
   ]
  },
  {
   "cell_type": "markdown",
   "metadata": {},
   "source": [
    "Изучим данные на предмет пропусков"
   ]
  },
  {
   "cell_type": "code",
   "execution_count": 9,
   "metadata": {},
   "outputs": [
    {
     "data": {
      "text/plain": [
       "event_name    0\n",
       "user_id       0\n",
       "timestamp     0\n",
       "group         0\n",
       "datetime      0\n",
       "date          0\n",
       "dtype: int64"
      ]
     },
     "execution_count": 9,
     "metadata": {},
     "output_type": "execute_result"
    }
   ],
   "source": [
    "data.isna().sum()"
   ]
  },
  {
   "cell_type": "markdown",
   "metadata": {},
   "source": [
    "Изучим данные на предмет явных дубликатов и избавимся от них"
   ]
  },
  {
   "cell_type": "code",
   "execution_count": 10,
   "metadata": {},
   "outputs": [
    {
     "data": {
      "text/plain": [
       "413"
      ]
     },
     "execution_count": 10,
     "metadata": {},
     "output_type": "execute_result"
    }
   ],
   "source": [
    "data.duplicated().sum()"
   ]
  },
  {
   "cell_type": "code",
   "execution_count": 11,
   "metadata": {},
   "outputs": [],
   "source": [
    "data = data.drop_duplicates()"
   ]
  },
  {
   "cell_type": "code",
   "execution_count": 12,
   "metadata": {},
   "outputs": [
    {
     "data": {
      "text/plain": [
       "0"
      ]
     },
     "execution_count": 12,
     "metadata": {},
     "output_type": "execute_result"
    }
   ],
   "source": [
    "data.duplicated().sum()"
   ]
  },
  {
   "cell_type": "markdown",
   "metadata": {},
   "source": [
    "Рассмотрим уникальные значения столбцов, где вероятно обнаружение неявных дубликатов"
   ]
  },
  {
   "cell_type": "code",
   "execution_count": 13,
   "metadata": {},
   "outputs": [
    {
     "data": {
      "text/plain": [
       "array(['MainScreenAppear', 'PaymentScreenSuccessful', 'CartScreenAppear',\n",
       "       'OffersScreenAppear', 'Tutorial'], dtype=object)"
      ]
     },
     "execution_count": 13,
     "metadata": {},
     "output_type": "execute_result"
    }
   ],
   "source": [
    "data['event_name'].unique()"
   ]
  },
  {
   "cell_type": "code",
   "execution_count": 14,
   "metadata": {},
   "outputs": [
    {
     "data": {
      "text/plain": [
       "array([246, 248, 247], dtype=int64)"
      ]
     },
     "execution_count": 14,
     "metadata": {},
     "output_type": "execute_result"
    }
   ],
   "source": [
    "data['group'].unique()"
   ]
  },
  {
   "cell_type": "markdown",
   "metadata": {},
   "source": [
    "### Промежуточный вывод: \n",
    "\n",
    "В рамках первого этапа было проведено первичное ознакомление с данными.\n",
    "\n",
    "Формат столбца со временем события был изменен на корректный. \n",
    "\n",
    "Был добавлен столбец с датой события.\n",
    "\n",
    "Пропусков не было обнаружено.\n",
    "\n",
    "Были найдены и удалены явные дубликаты, неявные не были обнаружены. "
   ]
  },
  {
   "cell_type": "markdown",
   "metadata": {},
   "source": [
    "## Изучение данных"
   ]
  },
  {
   "cell_type": "markdown",
   "metadata": {},
   "source": [
    "### Общее ознакомление, подсчет событий, пользователей, определение границ исследуемого периода"
   ]
  },
  {
   "cell_type": "code",
   "execution_count": 62,
   "metadata": {},
   "outputs": [
    {
     "name": "stdout",
     "output_type": "stream",
     "text": [
      "<class 'pandas.core.frame.DataFrame'>\n",
      "Index: 243713 entries, 0 to 244125\n",
      "Data columns (total 6 columns):\n",
      " #   Column      Non-Null Count   Dtype         \n",
      "---  ------      --------------   -----         \n",
      " 0   event_name  243713 non-null  object        \n",
      " 1   user_id     243713 non-null  int64         \n",
      " 2   timestamp   243713 non-null  int64         \n",
      " 3   group       243713 non-null  int64         \n",
      " 4   datetime    243713 non-null  datetime64[ns]\n",
      " 5   date        243713 non-null  object        \n",
      "dtypes: datetime64[ns](1), int64(3), object(2)\n",
      "memory usage: 13.0+ MB\n"
     ]
    }
   ],
   "source": [
    "data.info()"
   ]
  },
  {
   "cell_type": "markdown",
   "metadata": {},
   "source": [
    "Подсчитаем общее количество событий"
   ]
  },
  {
   "cell_type": "code",
   "execution_count": 63,
   "metadata": {},
   "outputs": [
    {
     "data": {
      "text/plain": [
       "243713"
      ]
     },
     "execution_count": 63,
     "metadata": {},
     "output_type": "execute_result"
    }
   ],
   "source": [
    "data['event_name'].count()"
   ]
  },
  {
   "cell_type": "markdown",
   "metadata": {},
   "source": [
    "Подсчитаем количество событий в разбивке по названию события"
   ]
  },
  {
   "cell_type": "code",
   "execution_count": 17,
   "metadata": {},
   "outputs": [
    {
     "data": {
      "text/plain": [
       "event_name\n",
       "MainScreenAppear           119101\n",
       "OffersScreenAppear          46808\n",
       "CartScreenAppear            42668\n",
       "PaymentScreenSuccessful     34118\n",
       "Tutorial                     1018\n",
       "Name: event_name, dtype: int64"
      ]
     },
     "execution_count": 17,
     "metadata": {},
     "output_type": "execute_result"
    }
   ],
   "source": [
    "data.groupby('event_name')['event_name'].count().sort_values(ascending=False)"
   ]
  },
  {
   "cell_type": "markdown",
   "metadata": {},
   "source": [
    "Подсчитаем количество уникальных пользователей"
   ]
  },
  {
   "cell_type": "code",
   "execution_count": 18,
   "metadata": {},
   "outputs": [
    {
     "data": {
      "text/plain": [
       "7551"
      ]
     },
     "execution_count": 18,
     "metadata": {},
     "output_type": "execute_result"
    }
   ],
   "source": [
    "data['user_id'].nunique()"
   ]
  },
  {
   "cell_type": "markdown",
   "metadata": {},
   "source": [
    "Подсчитаем среднее количество событий на пользователя"
   ]
  },
  {
   "cell_type": "code",
   "execution_count": 19,
   "metadata": {},
   "outputs": [
    {
     "data": {
      "text/plain": [
       "event_name    32.28\n",
       "dtype: float64"
      ]
     },
     "execution_count": 19,
     "metadata": {},
     "output_type": "execute_result"
    }
   ],
   "source": [
    "round(data.groupby('user_id').agg({'event_name':'count'}).mean(), 2)"
   ]
  },
  {
   "cell_type": "markdown",
   "metadata": {},
   "source": [
    "Определим границы исследуемого периода, найдем максимальную и минимульную даты"
   ]
  },
  {
   "cell_type": "code",
   "execution_count": 20,
   "metadata": {},
   "outputs": [
    {
     "data": {
      "text/plain": [
       "datetime.date(2019, 8, 7)"
      ]
     },
     "execution_count": 20,
     "metadata": {},
     "output_type": "execute_result"
    }
   ],
   "source": [
    "data['date'].max()"
   ]
  },
  {
   "cell_type": "code",
   "execution_count": 21,
   "metadata": {},
   "outputs": [
    {
     "data": {
      "text/plain": [
       "datetime.date(2019, 7, 25)"
      ]
     },
     "execution_count": 21,
     "metadata": {},
     "output_type": "execute_result"
    }
   ],
   "source": [
    "data['date'].min()"
   ]
  },
  {
   "cell_type": "markdown",
   "metadata": {},
   "source": [
    "### Проверка полноты данных"
   ]
  },
  {
   "cell_type": "markdown",
   "metadata": {},
   "source": [
    "Создадим таблицу и график с количеством событий в разбивке по группам и датам"
   ]
  },
  {
   "cell_type": "code",
   "execution_count": 22,
   "metadata": {},
   "outputs": [
    {
     "data": {
      "text/html": [
       "<div>\n",
       "<style scoped>\n",
       "    .dataframe tbody tr th:only-of-type {\n",
       "        vertical-align: middle;\n",
       "    }\n",
       "\n",
       "    .dataframe tbody tr th {\n",
       "        vertical-align: top;\n",
       "    }\n",
       "\n",
       "    .dataframe thead th {\n",
       "        text-align: right;\n",
       "    }\n",
       "</style>\n",
       "<table border=\"1\" class=\"dataframe\">\n",
       "  <thead>\n",
       "    <tr style=\"text-align: right;\">\n",
       "      <th>group</th>\n",
       "      <th>246</th>\n",
       "      <th>247</th>\n",
       "      <th>248</th>\n",
       "    </tr>\n",
       "    <tr>\n",
       "      <th>date</th>\n",
       "      <th></th>\n",
       "      <th></th>\n",
       "      <th></th>\n",
       "    </tr>\n",
       "  </thead>\n",
       "  <tbody>\n",
       "    <tr>\n",
       "      <th>2019-07-25</th>\n",
       "      <td>4</td>\n",
       "      <td>1</td>\n",
       "      <td>4</td>\n",
       "    </tr>\n",
       "    <tr>\n",
       "      <th>2019-07-26</th>\n",
       "      <td>14</td>\n",
       "      <td>8</td>\n",
       "      <td>9</td>\n",
       "    </tr>\n",
       "    <tr>\n",
       "      <th>2019-07-27</th>\n",
       "      <td>24</td>\n",
       "      <td>23</td>\n",
       "      <td>8</td>\n",
       "    </tr>\n",
       "    <tr>\n",
       "      <th>2019-07-28</th>\n",
       "      <td>33</td>\n",
       "      <td>36</td>\n",
       "      <td>36</td>\n",
       "    </tr>\n",
       "    <tr>\n",
       "      <th>2019-07-29</th>\n",
       "      <td>55</td>\n",
       "      <td>58</td>\n",
       "      <td>71</td>\n",
       "    </tr>\n",
       "    <tr>\n",
       "      <th>2019-07-30</th>\n",
       "      <td>129</td>\n",
       "      <td>138</td>\n",
       "      <td>145</td>\n",
       "    </tr>\n",
       "    <tr>\n",
       "      <th>2019-07-31</th>\n",
       "      <td>620</td>\n",
       "      <td>664</td>\n",
       "      <td>746</td>\n",
       "    </tr>\n",
       "    <tr>\n",
       "      <th>2019-08-01</th>\n",
       "      <td>11561</td>\n",
       "      <td>12306</td>\n",
       "      <td>12274</td>\n",
       "    </tr>\n",
       "    <tr>\n",
       "      <th>2019-08-02</th>\n",
       "      <td>10946</td>\n",
       "      <td>10990</td>\n",
       "      <td>13618</td>\n",
       "    </tr>\n",
       "    <tr>\n",
       "      <th>2019-08-03</th>\n",
       "      <td>10575</td>\n",
       "      <td>11024</td>\n",
       "      <td>11683</td>\n",
       "    </tr>\n",
       "    <tr>\n",
       "      <th>2019-08-04</th>\n",
       "      <td>11514</td>\n",
       "      <td>9942</td>\n",
       "      <td>11512</td>\n",
       "    </tr>\n",
       "    <tr>\n",
       "      <th>2019-08-05</th>\n",
       "      <td>12368</td>\n",
       "      <td>10949</td>\n",
       "      <td>12741</td>\n",
       "    </tr>\n",
       "    <tr>\n",
       "      <th>2019-08-06</th>\n",
       "      <td>11726</td>\n",
       "      <td>11720</td>\n",
       "      <td>12342</td>\n",
       "    </tr>\n",
       "    <tr>\n",
       "      <th>2019-08-07</th>\n",
       "      <td>10612</td>\n",
       "      <td>10091</td>\n",
       "      <td>10393</td>\n",
       "    </tr>\n",
       "  </tbody>\n",
       "</table>\n",
       "</div>"
      ],
      "text/plain": [
       "group         246    247    248\n",
       "date                           \n",
       "2019-07-25      4      1      4\n",
       "2019-07-26     14      8      9\n",
       "2019-07-27     24     23      8\n",
       "2019-07-28     33     36     36\n",
       "2019-07-29     55     58     71\n",
       "2019-07-30    129    138    145\n",
       "2019-07-31    620    664    746\n",
       "2019-08-01  11561  12306  12274\n",
       "2019-08-02  10946  10990  13618\n",
       "2019-08-03  10575  11024  11683\n",
       "2019-08-04  11514   9942  11512\n",
       "2019-08-05  12368  10949  12741\n",
       "2019-08-06  11726  11720  12342\n",
       "2019-08-07  10612  10091  10393"
      ]
     },
     "execution_count": 22,
     "metadata": {},
     "output_type": "execute_result"
    }
   ],
   "source": [
    "events_by_date = data.pivot_table(index='date', columns='group', values='event_name', aggfunc='count')\n",
    "events_by_date"
   ]
  },
  {
   "cell_type": "code",
   "execution_count": 23,
   "metadata": {},
   "outputs": [
    {
     "data": {
      "text/plain": [
       "<Axes: xlabel='date'>"
      ]
     },
     "execution_count": 23,
     "metadata": {},
     "output_type": "execute_result"
    },
    {
     "data": {
      "image/png": "[encoded data removed]",
      "text/plain": [
       "<Figure size 1500x500 with 1 Axes>"
      ]
     },
     "metadata": {},
     "output_type": "display_data"
    }
   ],
   "source": [
    "events_by_date.plot(kind='bar', figsize=(15,5))"
   ]
  },
  {
   "cell_type": "markdown",
   "metadata": {},
   "source": [
    "### Отсечение неполных данных, оценка потерь"
   ]
  },
  {
   "cell_type": "markdown",
   "metadata": {},
   "source": [
    "Из таблицы и графика видно, что данные до 2019-08-01 неполные, для дальнейшего анализа имеет смысл их отсечь"
   ]
  },
  {
   "cell_type": "code",
   "execution_count": 24,
   "metadata": {},
   "outputs": [
    {
     "data": {
      "text/html": [
       "<div>\n",
       "<style scoped>\n",
       "    .dataframe tbody tr th:only-of-type {\n",
       "        vertical-align: middle;\n",
       "    }\n",
       "\n",
       "    .dataframe tbody tr th {\n",
       "        vertical-align: top;\n",
       "    }\n",
       "\n",
       "    .dataframe thead th {\n",
       "        text-align: right;\n",
       "    }\n",
       "</style>\n",
       "<table border=\"1\" class=\"dataframe\">\n",
       "  <thead>\n",
       "    <tr style=\"text-align: right;\">\n",
       "      <th></th>\n",
       "      <th>event_name</th>\n",
       "      <th>user_id</th>\n",
       "      <th>timestamp</th>\n",
       "      <th>group</th>\n",
       "      <th>datetime</th>\n",
       "      <th>date</th>\n",
       "    </tr>\n",
       "  </thead>\n",
       "  <tbody>\n",
       "    <tr>\n",
       "      <th>2828</th>\n",
       "      <td>Tutorial</td>\n",
       "      <td>3737462046622621720</td>\n",
       "      <td>1564618048</td>\n",
       "      <td>246</td>\n",
       "      <td>2019-08-01 00:07:28</td>\n",
       "      <td>2019-08-01</td>\n",
       "    </tr>\n",
       "    <tr>\n",
       "      <th>2829</th>\n",
       "      <td>MainScreenAppear</td>\n",
       "      <td>3737462046622621720</td>\n",
       "      <td>1564618080</td>\n",
       "      <td>246</td>\n",
       "      <td>2019-08-01 00:08:00</td>\n",
       "      <td>2019-08-01</td>\n",
       "    </tr>\n",
       "    <tr>\n",
       "      <th>2830</th>\n",
       "      <td>MainScreenAppear</td>\n",
       "      <td>3737462046622621720</td>\n",
       "      <td>1564618135</td>\n",
       "      <td>246</td>\n",
       "      <td>2019-08-01 00:08:55</td>\n",
       "      <td>2019-08-01</td>\n",
       "    </tr>\n",
       "    <tr>\n",
       "      <th>2831</th>\n",
       "      <td>OffersScreenAppear</td>\n",
       "      <td>3737462046622621720</td>\n",
       "      <td>1564618138</td>\n",
       "      <td>246</td>\n",
       "      <td>2019-08-01 00:08:58</td>\n",
       "      <td>2019-08-01</td>\n",
       "    </tr>\n",
       "    <tr>\n",
       "      <th>2832</th>\n",
       "      <td>MainScreenAppear</td>\n",
       "      <td>1433840883824088890</td>\n",
       "      <td>1564618139</td>\n",
       "      <td>247</td>\n",
       "      <td>2019-08-01 00:08:59</td>\n",
       "      <td>2019-08-01</td>\n",
       "    </tr>\n",
       "  </tbody>\n",
       "</table>\n",
       "</div>"
      ],
      "text/plain": [
       "              event_name              user_id   timestamp  group  \\\n",
       "2828            Tutorial  3737462046622621720  1564618048    246   \n",
       "2829    MainScreenAppear  3737462046622621720  1564618080    246   \n",
       "2830    MainScreenAppear  3737462046622621720  1564618135    246   \n",
       "2831  OffersScreenAppear  3737462046622621720  1564618138    246   \n",
       "2832    MainScreenAppear  1433840883824088890  1564618139    247   \n",
       "\n",
       "                datetime        date  \n",
       "2828 2019-08-01 00:07:28  2019-08-01  \n",
       "2829 2019-08-01 00:08:00  2019-08-01  \n",
       "2830 2019-08-01 00:08:55  2019-08-01  \n",
       "2831 2019-08-01 00:08:58  2019-08-01  \n",
       "2832 2019-08-01 00:08:59  2019-08-01  "
      ]
     },
     "execution_count": 24,
     "metadata": {},
     "output_type": "execute_result"
    }
   ],
   "source": [
    "data_filtered = data[data['datetime'] >= '2019-08-01 00:00:00']\n",
    "data_filtered.head()"
   ]
  },
  {
   "cell_type": "markdown",
   "metadata": {},
   "source": [
    "Удостоверимся, что в внесении изменений "
   ]
  },
  {
   "cell_type": "code",
   "execution_count": 25,
   "metadata": {},
   "outputs": [
    {
     "data": {
      "text/plain": [
       "<Axes: xlabel='date'>"
      ]
     },
     "execution_count": 25,
     "metadata": {},
     "output_type": "execute_result"
    },
    {
     "data": {
      "image/png": "[encoded data removed]",
      "text/plain": [
       "<Figure size 1500x500 with 1 Axes>"
      ]
     },
     "metadata": {},
     "output_type": "display_data"
    }
   ],
   "source": [
    "filtered_events_by_date = data_filtered.pivot_table(index='date', columns='group', values='event_name', aggfunc='count')\n",
    "\n",
    "filtered_events_by_date.plot(kind='bar', figsize=(15,5))"
   ]
  },
  {
   "cell_type": "code",
   "execution_count": 26,
   "metadata": {},
   "outputs": [
    {
     "name": "stdout",
     "output_type": "stream",
     "text": [
      "<class 'pandas.core.frame.DataFrame'>\n",
      "Index: 240887 entries, 2828 to 244125\n",
      "Data columns (total 6 columns):\n",
      " #   Column      Non-Null Count   Dtype         \n",
      "---  ------      --------------   -----         \n",
      " 0   event_name  240887 non-null  object        \n",
      " 1   user_id     240887 non-null  int64         \n",
      " 2   timestamp   240887 non-null  int64         \n",
      " 3   group       240887 non-null  int64         \n",
      " 4   datetime    240887 non-null  datetime64[ns]\n",
      " 5   date        240887 non-null  object        \n",
      "dtypes: datetime64[ns](1), int64(3), object(2)\n",
      "memory usage: 12.9+ MB\n"
     ]
    }
   ],
   "source": [
    "data_filtered.info()"
   ]
  },
  {
   "cell_type": "markdown",
   "metadata": {},
   "source": [
    "Снова подсчитаем количество событий в разбивке по названию события"
   ]
  },
  {
   "cell_type": "code",
   "execution_count": 27,
   "metadata": {},
   "outputs": [
    {
     "data": {
      "text/plain": [
       "event_name\n",
       "MainScreenAppear           117328\n",
       "OffersScreenAppear          46333\n",
       "CartScreenAppear            42303\n",
       "PaymentScreenSuccessful     33918\n",
       "Tutorial                     1005\n",
       "Name: event_name, dtype: int64"
      ]
     },
     "execution_count": 27,
     "metadata": {},
     "output_type": "execute_result"
    }
   ],
   "source": [
    "data_filtered.groupby('event_name')['event_name'].count().sort_values(ascending=False)"
   ]
  },
  {
   "cell_type": "markdown",
   "metadata": {},
   "source": [
    "Оценим масштаб потерь"
   ]
  },
  {
   "cell_type": "code",
   "execution_count": 28,
   "metadata": {},
   "outputs": [
    {
     "data": {
      "text/plain": [
       "'Общее число потерь составило 2826 строк - 1.16%'"
      ]
     },
     "execution_count": 28,
     "metadata": {},
     "output_type": "execute_result"
    }
   ],
   "source": [
    "old_events = data['event_name'].count()\n",
    "new_events = data_filtered['event_name'].count()\n",
    "events_loss = round(((old_events - new_events) * 100 / old_events), 2)\n",
    "f'Общее число потерь составило {old_events - new_events} строк - {events_loss}%'"
   ]
  },
  {
   "cell_type": "code",
   "execution_count": 29,
   "metadata": {},
   "outputs": [
    {
     "data": {
      "text/plain": [
       "'Общее число потерь пользователей составило 17 строк - 0.23%'"
      ]
     },
     "execution_count": 29,
     "metadata": {},
     "output_type": "execute_result"
    }
   ],
   "source": [
    "old_users = data['user_id'].nunique()\n",
    "new_users = data_filtered['user_id'].nunique()\n",
    "users_loss = round(((old_users - new_users) * 100 / old_users), 2)\n",
    "f'Общее число потерь пользователей составило {old_users - new_users} строк - {users_loss}%'"
   ]
  },
  {
   "cell_type": "markdown",
   "metadata": {},
   "source": [
    "Потери в рамках допустимой нормы"
   ]
  },
  {
   "cell_type": "markdown",
   "metadata": {},
   "source": [
    "Проверим наличие пользователей во всех группах "
   ]
  },
  {
   "cell_type": "code",
   "execution_count": 30,
   "metadata": {},
   "outputs": [
    {
     "data": {
      "text/plain": [
       "group\n",
       "246    2484\n",
       "247    2513\n",
       "248    2537\n",
       "Name: user_id, dtype: int64"
      ]
     },
     "execution_count": 30,
     "metadata": {},
     "output_type": "execute_result"
    }
   ],
   "source": [
    "data_filtered.groupby('group')['user_id'].nunique()"
   ]
  },
  {
   "cell_type": "markdown",
   "metadata": {},
   "source": [
    "### Промежуточный вывод:\n",
    "\n",
    "На этом этапе исследования было:\n",
    "\n",
    "подсчитано общее число событий - 240887, \n",
    "\n",
    "подсчитано число событий в разбивке по названию:\n",
    "        \n",
    "        MainScreenAppear - 117328\n",
    "        \n",
    "        OffersScreenAppear - 46333\n",
    "        \n",
    "        CartScreenAppear - 42303\n",
    "        \n",
    "        PaymentScreenSuccessful - 33918\n",
    "        \n",
    "        Tutorial - 1005\n",
    "\n",
    "подсчитано общее число уникальных пользователей - 7551, \n",
    "\n",
    "подсчитано среднее количество событий на пользователя - 32.28,\n",
    "\n",
    "определены временные границы исследования  2019-07-25 - 2019-08-07.\n",
    "\n",
    "проведена проверка полноты данных, лишние данные были отсечены, потери составили 1.16% от общего числа строк - в пределах нормы"
   ]
  },
  {
   "cell_type": "markdown",
   "metadata": {},
   "source": [
    "##  Изучение воронки событий"
   ]
  },
  {
   "cell_type": "markdown",
   "metadata": {},
   "source": [
    "Подсчитаем количество событий с разбивкой по названию "
   ]
  },
  {
   "cell_type": "code",
   "execution_count": 31,
   "metadata": {},
   "outputs": [
    {
     "data": {
      "text/plain": [
       "event_name\n",
       "MainScreenAppear           117328\n",
       "OffersScreenAppear          46333\n",
       "CartScreenAppear            42303\n",
       "PaymentScreenSuccessful     33918\n",
       "Tutorial                     1005\n",
       "Name: count, dtype: int64"
      ]
     },
     "execution_count": 31,
     "metadata": {},
     "output_type": "execute_result"
    }
   ],
   "source": [
    "events = data_filtered['event_name'].value_counts()\n",
    "events"
   ]
  },
  {
   "cell_type": "markdown",
   "metadata": {},
   "source": [
    "Bизуализируем результат для наглядности"
   ]
  },
  {
   "cell_type": "code",
   "execution_count": 32,
   "metadata": {},
   "outputs": [
    {
     "data": {
      "text/plain": [
       "<Axes: xlabel='event_name'>"
      ]
     },
     "execution_count": 32,
     "metadata": {},
     "output_type": "execute_result"
    },
    {
     "data": {
      "image/png": "[encoded data removed]",
      "text/plain": [
       "<Figure size 1500x500 with 1 Axes>"
      ]
     },
     "metadata": {},
     "output_type": "display_data"
    }
   ],
   "source": [
    "events.plot(kind='bar', figsize=(15,5))"
   ]
  },
  {
   "cell_type": "markdown",
   "metadata": {},
   "source": [
    "Cоздадим воронку с указанием числа уникальных пользователей, совершавших событие и указанием доли от общего числа пользователей"
   ]
  },
  {
   "cell_type": "code",
   "execution_count": 33,
   "metadata": {},
   "outputs": [
    {
     "data": {
      "text/plain": [
       "'Общее число пользователей: 7534'"
      ]
     },
     "metadata": {},
     "output_type": "display_data"
    },
    {
     "data": {
      "text/html": [
       "<div>\n",
       "<style scoped>\n",
       "    .dataframe tbody tr th:only-of-type {\n",
       "        vertical-align: middle;\n",
       "    }\n",
       "\n",
       "    .dataframe tbody tr th {\n",
       "        vertical-align: top;\n",
       "    }\n",
       "\n",
       "    .dataframe thead th {\n",
       "        text-align: right;\n",
       "    }\n",
       "</style>\n",
       "<table border=\"1\" class=\"dataframe\">\n",
       "  <thead>\n",
       "    <tr style=\"text-align: right;\">\n",
       "      <th></th>\n",
       "      <th>users_per_event</th>\n",
       "      <th>percentage</th>\n",
       "    </tr>\n",
       "    <tr>\n",
       "      <th>event_name</th>\n",
       "      <th></th>\n",
       "      <th></th>\n",
       "    </tr>\n",
       "  </thead>\n",
       "  <tbody>\n",
       "    <tr>\n",
       "      <th>MainScreenAppear</th>\n",
       "      <td>7419</td>\n",
       "      <td>0.98</td>\n",
       "    </tr>\n",
       "    <tr>\n",
       "      <th>OffersScreenAppear</th>\n",
       "      <td>4593</td>\n",
       "      <td>0.61</td>\n",
       "    </tr>\n",
       "    <tr>\n",
       "      <th>CartScreenAppear</th>\n",
       "      <td>3734</td>\n",
       "      <td>0.50</td>\n",
       "    </tr>\n",
       "    <tr>\n",
       "      <th>PaymentScreenSuccessful</th>\n",
       "      <td>3539</td>\n",
       "      <td>0.47</td>\n",
       "    </tr>\n",
       "    <tr>\n",
       "      <th>Tutorial</th>\n",
       "      <td>840</td>\n",
       "      <td>0.11</td>\n",
       "    </tr>\n",
       "  </tbody>\n",
       "</table>\n",
       "</div>"
      ],
      "text/plain": [
       "                         users_per_event  percentage\n",
       "event_name                                          \n",
       "MainScreenAppear                    7419        0.98\n",
       "OffersScreenAppear                  4593        0.61\n",
       "CartScreenAppear                    3734        0.50\n",
       "PaymentScreenSuccessful             3539        0.47\n",
       "Tutorial                             840        0.11"
      ]
     },
     "execution_count": 33,
     "metadata": {},
     "output_type": "execute_result"
    }
   ],
   "source": [
    "display(f'Общее число пользователей: {new_users}')\n",
    "funnel = data_filtered.pivot_table(index='event_name', values='user_id', \n",
    "                                   aggfunc='nunique').sort_values(by='user_id', ascending=False)\n",
    "funnel['user_ratio'] = round(funnel['user_id'] / data_filtered['user_id'].nunique(), 2)\n",
    "funnel.columns = ['users_per_event', 'percentage']\n",
    "funnel"
   ]
  },
  {
   "cell_type": "markdown",
   "metadata": {},
   "source": [
    "Предположительно воронка выглядит так:\n",
    "\n",
    "MainScreenAppear - отображение главного экрана\n",
    "\n",
    "OffersScreenAppear - отображение экрана с предложениями\n",
    "\n",
    "CartScreenAppear - отображение экрана корзины\n",
    "\n",
    "PaymentScreenSuccessful - отображение экрана успешной оплаты\n",
    "\n",
    "Tutorial - экран руководства пользователя \n",
    "\n",
    "Первые четыре этапа, вероятно, расположены последовательно и отражают путь пользователя от главной страницы до покупки, однако не вполне ясно, на каком этапе пользователю предлагается ознакомиться с руководством пользователя. Вероятно, это происходит до осуществления покупки. Также имеются некоторые сомнения относительно необходимости этого этапа для анализа. Далее она не будет приниматься в расчет при проведении анализа"
   ]
  },
  {
   "cell_type": "markdown",
   "metadata": {},
   "source": [
    "Удалим строки с названием события \"Tutorial\""
   ]
  },
  {
   "cell_type": "code",
   "execution_count": 34,
   "metadata": {},
   "outputs": [
    {
     "data": {
      "text/html": [
       "<div>\n",
       "<style scoped>\n",
       "    .dataframe tbody tr th:only-of-type {\n",
       "        vertical-align: middle;\n",
       "    }\n",
       "\n",
       "    .dataframe tbody tr th {\n",
       "        vertical-align: top;\n",
       "    }\n",
       "\n",
       "    .dataframe thead th {\n",
       "        text-align: right;\n",
       "    }\n",
       "</style>\n",
       "<table border=\"1\" class=\"dataframe\">\n",
       "  <thead>\n",
       "    <tr style=\"text-align: right;\">\n",
       "      <th></th>\n",
       "      <th>event_name</th>\n",
       "      <th>user_id</th>\n",
       "      <th>timestamp</th>\n",
       "      <th>group</th>\n",
       "      <th>datetime</th>\n",
       "      <th>date</th>\n",
       "    </tr>\n",
       "  </thead>\n",
       "  <tbody>\n",
       "    <tr>\n",
       "      <th>2829</th>\n",
       "      <td>MainScreenAppear</td>\n",
       "      <td>3737462046622621720</td>\n",
       "      <td>1564618080</td>\n",
       "      <td>246</td>\n",
       "      <td>2019-08-01 00:08:00</td>\n",
       "      <td>2019-08-01</td>\n",
       "    </tr>\n",
       "    <tr>\n",
       "      <th>2830</th>\n",
       "      <td>MainScreenAppear</td>\n",
       "      <td>3737462046622621720</td>\n",
       "      <td>1564618135</td>\n",
       "      <td>246</td>\n",
       "      <td>2019-08-01 00:08:55</td>\n",
       "      <td>2019-08-01</td>\n",
       "    </tr>\n",
       "    <tr>\n",
       "      <th>2831</th>\n",
       "      <td>OffersScreenAppear</td>\n",
       "      <td>3737462046622621720</td>\n",
       "      <td>1564618138</td>\n",
       "      <td>246</td>\n",
       "      <td>2019-08-01 00:08:58</td>\n",
       "      <td>2019-08-01</td>\n",
       "    </tr>\n",
       "    <tr>\n",
       "      <th>2832</th>\n",
       "      <td>MainScreenAppear</td>\n",
       "      <td>1433840883824088890</td>\n",
       "      <td>1564618139</td>\n",
       "      <td>247</td>\n",
       "      <td>2019-08-01 00:08:59</td>\n",
       "      <td>2019-08-01</td>\n",
       "    </tr>\n",
       "    <tr>\n",
       "      <th>2833</th>\n",
       "      <td>MainScreenAppear</td>\n",
       "      <td>4899590676214355127</td>\n",
       "      <td>1564618215</td>\n",
       "      <td>247</td>\n",
       "      <td>2019-08-01 00:10:15</td>\n",
       "      <td>2019-08-01</td>\n",
       "    </tr>\n",
       "  </tbody>\n",
       "</table>\n",
       "</div>"
      ],
      "text/plain": [
       "              event_name              user_id   timestamp  group  \\\n",
       "2829    MainScreenAppear  3737462046622621720  1564618080    246   \n",
       "2830    MainScreenAppear  3737462046622621720  1564618135    246   \n",
       "2831  OffersScreenAppear  3737462046622621720  1564618138    246   \n",
       "2832    MainScreenAppear  1433840883824088890  1564618139    247   \n",
       "2833    MainScreenAppear  4899590676214355127  1564618215    247   \n",
       "\n",
       "                datetime        date  \n",
       "2829 2019-08-01 00:08:00  2019-08-01  \n",
       "2830 2019-08-01 00:08:55  2019-08-01  \n",
       "2831 2019-08-01 00:08:58  2019-08-01  \n",
       "2832 2019-08-01 00:08:59  2019-08-01  \n",
       "2833 2019-08-01 00:10:15  2019-08-01  "
      ]
     },
     "execution_count": 34,
     "metadata": {},
     "output_type": "execute_result"
    }
   ],
   "source": [
    "data_filtered = data_filtered.query('event_name != \"Tutorial\"')\n",
    "data_filtered.head()"
   ]
  },
  {
   "cell_type": "markdown",
   "metadata": {},
   "source": [
    "Количество потерь 1005 строк - так, суммарный объем потерь от общего объема данных составил 1,5%, все еще в пределах допустимого"
   ]
  },
  {
   "cell_type": "markdown",
   "metadata": {},
   "source": [
    "Обновим воронку"
   ]
  },
  {
   "cell_type": "code",
   "execution_count": 35,
   "metadata": {},
   "outputs": [
    {
     "data": {
      "text/html": [
       "<div>\n",
       "<style scoped>\n",
       "    .dataframe tbody tr th:only-of-type {\n",
       "        vertical-align: middle;\n",
       "    }\n",
       "\n",
       "    .dataframe tbody tr th {\n",
       "        vertical-align: top;\n",
       "    }\n",
       "\n",
       "    .dataframe thead th {\n",
       "        text-align: right;\n",
       "    }\n",
       "</style>\n",
       "<table border=\"1\" class=\"dataframe\">\n",
       "  <thead>\n",
       "    <tr style=\"text-align: right;\">\n",
       "      <th></th>\n",
       "      <th>users_per_event</th>\n",
       "      <th>percentage</th>\n",
       "    </tr>\n",
       "    <tr>\n",
       "      <th>event_name</th>\n",
       "      <th></th>\n",
       "      <th></th>\n",
       "    </tr>\n",
       "  </thead>\n",
       "  <tbody>\n",
       "    <tr>\n",
       "      <th>MainScreenAppear</th>\n",
       "      <td>7419</td>\n",
       "      <td>0.99</td>\n",
       "    </tr>\n",
       "    <tr>\n",
       "      <th>OffersScreenAppear</th>\n",
       "      <td>4593</td>\n",
       "      <td>0.61</td>\n",
       "    </tr>\n",
       "    <tr>\n",
       "      <th>CartScreenAppear</th>\n",
       "      <td>3734</td>\n",
       "      <td>0.50</td>\n",
       "    </tr>\n",
       "    <tr>\n",
       "      <th>PaymentScreenSuccessful</th>\n",
       "      <td>3539</td>\n",
       "      <td>0.47</td>\n",
       "    </tr>\n",
       "  </tbody>\n",
       "</table>\n",
       "</div>"
      ],
      "text/plain": [
       "                         users_per_event  percentage\n",
       "event_name                                          \n",
       "MainScreenAppear                    7419        0.99\n",
       "OffersScreenAppear                  4593        0.61\n",
       "CartScreenAppear                    3734        0.50\n",
       "PaymentScreenSuccessful             3539        0.47"
      ]
     },
     "execution_count": 35,
     "metadata": {},
     "output_type": "execute_result"
    }
   ],
   "source": [
    "funnel_upd = data_filtered.pivot_table(index='event_name', values='user_id', \n",
    "                                   aggfunc='nunique').sort_values(by='user_id', ascending=False)\n",
    "funnel_upd['user_ratio'] = round(funnel_upd['user_id'] / data_filtered['user_id'].nunique(), 2)\n",
    "funnel_upd.columns = ['users_per_event', 'percentage']\n",
    "funnel_upd"
   ]
  },
  {
   "cell_type": "markdown",
   "metadata": {},
   "source": [
    "Дополним воронку конверсией по шагам событие \"MainScreenAppear\" возьмем за единицу"
   ]
  },
  {
   "cell_type": "code",
   "execution_count": 36,
   "metadata": {},
   "outputs": [
    {
     "data": {
      "text/plain": [
       "'Общее число пользователей: 7534'"
      ]
     },
     "metadata": {},
     "output_type": "display_data"
    },
    {
     "data": {
      "text/html": [
       "<div>\n",
       "<style scoped>\n",
       "    .dataframe tbody tr th:only-of-type {\n",
       "        vertical-align: middle;\n",
       "    }\n",
       "\n",
       "    .dataframe tbody tr th {\n",
       "        vertical-align: top;\n",
       "    }\n",
       "\n",
       "    .dataframe thead th {\n",
       "        text-align: right;\n",
       "    }\n",
       "</style>\n",
       "<table border=\"1\" class=\"dataframe\">\n",
       "  <thead>\n",
       "    <tr style=\"text-align: right;\">\n",
       "      <th></th>\n",
       "      <th>event_name</th>\n",
       "      <th>users_per_event</th>\n",
       "      <th>percentage</th>\n",
       "      <th>percentage_by_event</th>\n",
       "    </tr>\n",
       "  </thead>\n",
       "  <tbody>\n",
       "    <tr>\n",
       "      <th>0</th>\n",
       "      <td>MainScreenAppear</td>\n",
       "      <td>7419</td>\n",
       "      <td>0.99</td>\n",
       "      <td>1.00</td>\n",
       "    </tr>\n",
       "    <tr>\n",
       "      <th>1</th>\n",
       "      <td>OffersScreenAppear</td>\n",
       "      <td>4593</td>\n",
       "      <td>0.61</td>\n",
       "      <td>0.62</td>\n",
       "    </tr>\n",
       "    <tr>\n",
       "      <th>2</th>\n",
       "      <td>CartScreenAppear</td>\n",
       "      <td>3734</td>\n",
       "      <td>0.50</td>\n",
       "      <td>0.81</td>\n",
       "    </tr>\n",
       "    <tr>\n",
       "      <th>3</th>\n",
       "      <td>PaymentScreenSuccessful</td>\n",
       "      <td>3539</td>\n",
       "      <td>0.47</td>\n",
       "      <td>0.95</td>\n",
       "    </tr>\n",
       "  </tbody>\n",
       "</table>\n",
       "</div>"
      ],
      "text/plain": [
       "                event_name  users_per_event  percentage  percentage_by_event\n",
       "0         MainScreenAppear             7419        0.99                 1.00\n",
       "1       OffersScreenAppear             4593        0.61                 0.62\n",
       "2         CartScreenAppear             3734        0.50                 0.81\n",
       "3  PaymentScreenSuccessful             3539        0.47                 0.95"
      ]
     },
     "execution_count": 36,
     "metadata": {},
     "output_type": "execute_result"
    }
   ],
   "source": [
    "display(f'Общее число пользователей: {new_users}')\n",
    "funnel_upd['percentage_by_event'] = round(funnel['users_per_event'].sort_values() / funnel['users_per_event'].sort_values().shift(-1), 2)\n",
    "funnel_upd = funnel_upd.fillna(1)\n",
    "funnel_upd = funnel_upd.reset_index()\n",
    "funnel_upd "
   ]
  },
  {
   "cell_type": "markdown",
   "metadata": {},
   "source": [
    "Из имеющихся данных видно, что большая часть пользователей, отсеивается при переходе с главного экрана на экран с предложениями. Визуализируем воронку."
   ]
  },
  {
   "cell_type": "code",
   "execution_count": 67,
   "metadata": {},
   "outputs": [
    {
     "data": {
      "application/vnd.plotly.v1+json": {
       "config": {
        "plotlyServerURL": "https://plot.ly"
       },
       "data": [
        {
         "hovertemplate": "users_per_event=%{x}<br>event_name=%{y}<extra></extra>",
         "legendgroup": "",
         "marker": {
          "color": "#636efa"
         },
         "name": "",
         "orientation": "h",
         "showlegend": false,
         "type": "funnel",
         "x": [
          7419,
          4593,
          3734,
          3539
         ],
         "xaxis": "x",
         "y": [
          "MainScreenAppear",
          "OffersScreenAppear",
          "CartScreenAppear",
          "PaymentScreenSuccessful"
         ],
         "yaxis": "y"
        }
       ],
       "layout": {
        "legend": {
         "tracegroupgap": 0
        },
        "margin": {
         "t": 60
        },
        "template": {
         "data": {
          "bar": [
           {
            "error_x": {
             "color": "#2a3f5f"
            },
            "error_y": {
             "color": "#2a3f5f"
            },
            "marker": {
             "line": {
              "color": "#E5ECF6",
              "width": 0.5
             },
             "pattern": {
              "fillmode": "overlay",
              "size": 10,
              "solidity": 0.2
             }
            },
            "type": "bar"
           }
          ],
          "barpolar": [
           {
            "marker": {
             "line": {
              "color": "#E5ECF6",
              "width": 0.5
             },
             "pattern": {
              "fillmode": "overlay",
              "size": 10,
              "solidity": 0.2
             }
            },
            "type": "barpolar"
           }
          ],
          "carpet": [
           {
            "aaxis": {
             "endlinecolor": "#2a3f5f",
             "gridcolor": "white",
             "linecolor": "white",
             "minorgridcolor": "white",
             "startlinecolor": "#2a3f5f"
            },
            "baxis": {
             "endlinecolor": "#2a3f5f",
             "gridcolor": "white",
             "linecolor": "white",
             "minorgridcolor": "white",
             "startlinecolor": "#2a3f5f"
            },
            "type": "carpet"
           }
          ],
          "choropleth": [
           {
            "colorbar": {
             "outlinewidth": 0,
             "ticks": ""
            },
            "type": "choropleth"
           }
          ],
          "contour": [
           {
            "colorbar": {
             "outlinewidth": 0,
             "ticks": ""
            },
            "colorscale": [
             [
              0,
              "#0d0887"
             ],
             [
              0.1111111111111111,
              "#46039f"
             ],
             [
              0.2222222222222222,
              "#7201a8"
             ],
             [
              0.3333333333333333,
              "#9c179e"
             ],
             [
              0.4444444444444444,
              "#bd3786"
             ],
             [
              0.5555555555555556,
              "#d8576b"
             ],
             [
              0.6666666666666666,
              "#ed7953"
             ],
             [
              0.7777777777777778,
              "#fb9f3a"
             ],
             [
              0.8888888888888888,
              "#fdca26"
             ],
             [
              1,
              "#f0f921"
             ]
            ],
            "type": "contour"
           }
          ],
          "contourcarpet": [
           {
            "colorbar": {
             "outlinewidth": 0,
             "ticks": ""
            },
            "type": "contourcarpet"
           }
          ],
          "heatmap": [
           {
            "colorbar": {
             "outlinewidth": 0,
             "ticks": ""
            },
            "colorscale": [
             [
              0,
              "#0d0887"
             ],
             [
              0.1111111111111111,
              "#46039f"
             ],
             [
              0.2222222222222222,
              "#7201a8"
             ],
             [
              0.3333333333333333,
              "#9c179e"
             ],
             [
              0.4444444444444444,
              "#bd3786"
             ],
             [
              0.5555555555555556,
              "#d8576b"
             ],
             [
              0.6666666666666666,
              "#ed7953"
             ],
             [
              0.7777777777777778,
              "#fb9f3a"
             ],
             [
              0.8888888888888888,
              "#fdca26"
             ],
             [
              1,
              "#f0f921"
             ]
            ],
            "type": "heatmap"
           }
          ],
          "heatmapgl": [
           {
            "colorbar": {
             "outlinewidth": 0,
             "ticks": ""
            },
            "colorscale": [
             [
              0,
              "#0d0887"
             ],
             [
              0.1111111111111111,
              "#46039f"
             ],
             [
              0.2222222222222222,
              "#7201a8"
             ],
             [
              0.3333333333333333,
              "#9c179e"
             ],
             [
              0.4444444444444444,
              "#bd3786"
             ],
             [
              0.5555555555555556,
              "#d8576b"
             ],
             [
              0.6666666666666666,
              "#ed7953"
             ],
             [
              0.7777777777777778,
              "#fb9f3a"
             ],
             [
              0.8888888888888888,
              "#fdca26"
             ],
             [
              1,
              "#f0f921"
             ]
            ],
            "type": "heatmapgl"
           }
          ],
          "histogram": [
           {
            "marker": {
             "pattern": {
              "fillmode": "overlay",
              "size": 10,
              "solidity": 0.2
             }
            },
            "type": "histogram"
           }
          ],
          "histogram2d": [
           {
            "colorbar": {
             "outlinewidth": 0,
             "ticks": ""
            },
            "colorscale": [
             [
              0,
              "#0d0887"
             ],
             [
              0.1111111111111111,
              "#46039f"
             ],
             [
              0.2222222222222222,
              "#7201a8"
             ],
             [
              0.3333333333333333,
              "#9c179e"
             ],
             [
              0.4444444444444444,
              "#bd3786"
             ],
             [
              0.5555555555555556,
              "#d8576b"
             ],
             [
              0.6666666666666666,
              "#ed7953"
             ],
             [
              0.7777777777777778,
              "#fb9f3a"
             ],
             [
              0.8888888888888888,
              "#fdca26"
             ],
             [
              1,
              "#f0f921"
             ]
            ],
            "type": "histogram2d"
           }
          ],
          "histogram2dcontour": [
           {
            "colorbar": {
             "outlinewidth": 0,
             "ticks": ""
            },
            "colorscale": [
             [
              0,
              "#0d0887"
             ],
             [
              0.1111111111111111,
              "#46039f"
             ],
             [
              0.2222222222222222,
              "#7201a8"
             ],
             [
              0.3333333333333333,
              "#9c179e"
             ],
             [
              0.4444444444444444,
              "#bd3786"
             ],
             [
              0.5555555555555556,
              "#d8576b"
             ],
             [
              0.6666666666666666,
              "#ed7953"
             ],
             [
              0.7777777777777778,
              "#fb9f3a"
             ],
             [
              0.8888888888888888,
              "#fdca26"
             ],
             [
              1,
              "#f0f921"
             ]
            ],
            "type": "histogram2dcontour"
           }
          ],
          "mesh3d": [
           {
            "colorbar": {
             "outlinewidth": 0,
             "ticks": ""
            },
            "type": "mesh3d"
           }
          ],
          "parcoords": [
           {
            "line": {
             "colorbar": {
              "outlinewidth": 0,
              "ticks": ""
             }
            },
            "type": "parcoords"
           }
          ],
          "pie": [
           {
            "automargin": true,
            "type": "pie"
           }
          ],
          "scatter": [
           {
            "fillpattern": {
             "fillmode": "overlay",
             "size": 10,
             "solidity": 0.2
            },
            "type": "scatter"
           }
          ],
          "scatter3d": [
           {
            "line": {
             "colorbar": {
              "outlinewidth": 0,
              "ticks": ""
             }
            },
            "marker": {
             "colorbar": {
              "outlinewidth": 0,
              "ticks": ""
             }
            },
            "type": "scatter3d"
           }
          ],
          "scattercarpet": [
           {
            "marker": {
             "colorbar": {
              "outlinewidth": 0,
              "ticks": ""
             }
            },
            "type": "scattercarpet"
           }
          ],
          "scattergeo": [
           {
            "marker": {
             "colorbar": {
              "outlinewidth": 0,
              "ticks": ""
             }
            },
            "type": "scattergeo"
           }
          ],
          "scattergl": [
           {
            "marker": {
             "colorbar": {
              "outlinewidth": 0,
              "ticks": ""
             }
            },
            "type": "scattergl"
           }
          ],
          "scattermapbox": [
           {
            "marker": {
             "colorbar": {
              "outlinewidth": 0,
              "ticks": ""
             }
            },
            "type": "scattermapbox"
           }
          ],
          "scatterpolar": [
           {
            "marker": {
             "colorbar": {
              "outlinewidth": 0,
              "ticks": ""
             }
            },
            "type": "scatterpolar"
           }
          ],
          "scatterpolargl": [
           {
            "marker": {
             "colorbar": {
              "outlinewidth": 0,
              "ticks": ""
             }
            },
            "type": "scatterpolargl"
           }
          ],
          "scatterternary": [
           {
            "marker": {
             "colorbar": {
              "outlinewidth": 0,
              "ticks": ""
             }
            },
            "type": "scatterternary"
           }
          ],
          "surface": [
           {
            "colorbar": {
             "outlinewidth": 0,
             "ticks": ""
            },
            "colorscale": [
             [
              0,
              "#0d0887"
             ],
             [
              0.1111111111111111,
              "#46039f"
             ],
             [
              0.2222222222222222,
              "#7201a8"
             ],
             [
              0.3333333333333333,
              "#9c179e"
             ],
             [
              0.4444444444444444,
              "#bd3786"
             ],
             [
              0.5555555555555556,
              "#d8576b"
             ],
             [
              0.6666666666666666,
              "#ed7953"
             ],
             [
              0.7777777777777778,
              "#fb9f3a"
             ],
             [
              0.8888888888888888,
              "#fdca26"
             ],
             [
              1,
              "#f0f921"
             ]
            ],
            "type": "surface"
           }
          ],
          "table": [
           {
            "cells": {
             "fill": {
              "color": "#EBF0F8"
             },
             "line": {
              "color": "white"
             }
            },
            "header": {
             "fill": {
              "color": "#C8D4E3"
             },
             "line": {
              "color": "white"
             }
            },
            "type": "table"
           }
          ]
         },
         "layout": {
          "annotationdefaults": {
           "arrowcolor": "#2a3f5f",
           "arrowhead": 0,
           "arrowwidth": 1
          },
          "autotypenumbers": "strict",
          "coloraxis": {
           "colorbar": {
            "outlinewidth": 0,
            "ticks": ""
           }
          },
          "colorscale": {
           "diverging": [
            [
             0,
             "#8e0152"
            ],
            [
             0.1,
             "#c51b7d"
            ],
            [
             0.2,
             "#de77ae"
            ],
            [
             0.3,
             "#f1b6da"
            ],
            [
             0.4,
             "#fde0ef"
            ],
            [
             0.5,
             "#f7f7f7"
            ],
            [
             0.6,
             "#e6f5d0"
            ],
            [
             0.7,
             "#b8e186"
            ],
            [
             0.8,
             "#7fbc41"
            ],
            [
             0.9,
             "#4d9221"
            ],
            [
             1,
             "#276419"
            ]
           ],
           "sequential": [
            [
             0,
             "#0d0887"
            ],
            [
             0.1111111111111111,
             "#46039f"
            ],
            [
             0.2222222222222222,
             "#7201a8"
            ],
            [
             0.3333333333333333,
             "#9c179e"
            ],
            [
             0.4444444444444444,
             "#bd3786"
            ],
            [
             0.5555555555555556,
             "#d8576b"
            ],
            [
             0.6666666666666666,
             "#ed7953"
            ],
            [
             0.7777777777777778,
             "#fb9f3a"
            ],
            [
             0.8888888888888888,
             "#fdca26"
            ],
            [
             1,
             "#f0f921"
            ]
           ],
           "sequentialminus": [
            [
             0,
             "#0d0887"
            ],
            [
             0.1111111111111111,
             "#46039f"
            ],
            [
             0.2222222222222222,
             "#7201a8"
            ],
            [
             0.3333333333333333,
             "#9c179e"
            ],
            [
             0.4444444444444444,
             "#bd3786"
            ],
            [
             0.5555555555555556,
             "#d8576b"
            ],
            [
             0.6666666666666666,
             "#ed7953"
            ],
            [
             0.7777777777777778,
             "#fb9f3a"
            ],
            [
             0.8888888888888888,
             "#fdca26"
            ],
            [
             1,
             "#f0f921"
            ]
           ]
          },
          "colorway": [
           "#636efa",
           "#EF553B",
           "#00cc96",
           "#ab63fa",
           "#FFA15A",
           "#19d3f3",
           "#FF6692",
           "#B6E880",
           "#FF97FF",
           "#FECB52"
          ],
          "font": {
           "color": "#2a3f5f"
          },
          "geo": {
           "bgcolor": "white",
           "lakecolor": "white",
           "landcolor": "#E5ECF6",
           "showlakes": true,
           "showland": true,
           "subunitcolor": "white"
          },
          "hoverlabel": {
           "align": "left"
          },
          "hovermode": "closest",
          "mapbox": {
           "style": "light"
          },
          "paper_bgcolor": "white",
          "plot_bgcolor": "#E5ECF6",
          "polar": {
           "angularaxis": {
            "gridcolor": "white",
            "linecolor": "white",
            "ticks": ""
           },
           "bgcolor": "#E5ECF6",
           "radialaxis": {
            "gridcolor": "white",
            "linecolor": "white",
            "ticks": ""
           }
          },
          "scene": {
           "xaxis": {
            "backgroundcolor": "#E5ECF6",
            "gridcolor": "white",
            "gridwidth": 2,
            "linecolor": "white",
            "showbackground": true,
            "ticks": "",
            "zerolinecolor": "white"
           },
           "yaxis": {
            "backgroundcolor": "#E5ECF6",
            "gridcolor": "white",
            "gridwidth": 2,
            "linecolor": "white",
            "showbackground": true,
            "ticks": "",
            "zerolinecolor": "white"
           },
           "zaxis": {
            "backgroundcolor": "#E5ECF6",
            "gridcolor": "white",
            "gridwidth": 2,
            "linecolor": "white",
            "showbackground": true,
            "ticks": "",
            "zerolinecolor": "white"
           }
          },
          "shapedefaults": {
           "line": {
            "color": "#2a3f5f"
           }
          },
          "ternary": {
           "aaxis": {
            "gridcolor": "white",
            "linecolor": "white",
            "ticks": ""
           },
           "baxis": {
            "gridcolor": "white",
            "linecolor": "white",
            "ticks": ""
           },
           "bgcolor": "#E5ECF6",
           "caxis": {
            "gridcolor": "white",
            "linecolor": "white",
            "ticks": ""
           }
          },
          "title": {
           "x": 0.05
          },
          "xaxis": {
           "automargin": true,
           "gridcolor": "white",
           "linecolor": "white",
           "ticks": "",
           "title": {
            "standoff": 15
           },
           "zerolinecolor": "white",
           "zerolinewidth": 2
          },
          "yaxis": {
           "automargin": true,
           "gridcolor": "white",
           "linecolor": "white",
           "ticks": "",
           "title": {
            "standoff": 15
           },
           "zerolinecolor": "white",
           "zerolinewidth": 2
          }
         }
        },
        "xaxis": {
         "anchor": "y",
         "domain": [
          0,
          1
         ],
         "title": {
          "text": "users_per_event"
         }
        },
        "yaxis": {
         "anchor": "x",
         "domain": [
          0,
          1
         ],
         "title": {
          "text": "event_name"
         }
        }
       }
      },
      "text/html": [
       "<div>                            <div id=\"5ad6858c-eed8-4a44-93ff-99675e279caa\" class=\"plotly-graph-div\" style=\"height:525px; width:100%;\"></div>            <script type=\"text/javascript\">                require([\"plotly\"], function(Plotly) {                    window.PLOTLYENV=window.PLOTLYENV || {};                                    if (document.getElementById(\"5ad6858c-eed8-4a44-93ff-99675e279caa\")) {                    Plotly.newPlot(                        \"5ad6858c-eed8-4a44-93ff-99675e279caa\",                        [{\"hovertemplate\":\"users_per_event=%{x}<br>event_name=%{y}<extra></extra>\",\"legendgroup\":\"\",\"marker\":{\"color\":\"#636efa\"},\"name\":\"\",\"orientation\":\"h\",\"showlegend\":false,\"x\":[7419,4593,3734,3539],\"xaxis\":\"x\",\"y\":[\"MainScreenAppear\",\"OffersScreenAppear\",\"CartScreenAppear\",\"PaymentScreenSuccessful\"],\"yaxis\":\"y\",\"type\":\"funnel\"}],                        {\"template\":{\"data\":{\"histogram2dcontour\":[{\"type\":\"histogram2dcontour\",\"colorbar\":{\"outlinewidth\":0,\"ticks\":\"\"},\"colorscale\":[[0.0,\"#0d0887\"],[0.1111111111111111,\"#46039f\"],[0.2222222222222222,\"#7201a8\"],[0.3333333333333333,\"#9c179e\"],[0.4444444444444444,\"#bd3786\"],[0.5555555555555556,\"#d8576b\"],[0.6666666666666666,\"#ed7953\"],[0.7777777777777778,\"#fb9f3a\"],[0.8888888888888888,\"#fdca26\"],[1.0,\"#f0f921\"]]}],\"choropleth\":[{\"type\":\"choropleth\",\"colorbar\":{\"outlinewidth\":0,\"ticks\":\"\"}}],\"histogram2d\":[{\"type\":\"histogram2d\",\"colorbar\":{\"outlinewidth\":0,\"ticks\":\"\"},\"colorscale\":[[0.0,\"#0d0887\"],[0.1111111111111111,\"#46039f\"],[0.2222222222222222,\"#7201a8\"],[0.3333333333333333,\"#9c179e\"],[0.4444444444444444,\"#bd3786\"],[0.5555555555555556,\"#d8576b\"],[0.6666666666666666,\"#ed7953\"],[0.7777777777777778,\"#fb9f3a\"],[0.8888888888888888,\"#fdca26\"],[1.0,\"#f0f921\"]]}],\"heatmap\":[{\"type\":\"heatmap\",\"colorbar\":{\"outlinewidth\":0,\"ticks\":\"\"},\"colorscale\":[[0.0,\"#0d0887\"],[0.1111111111111111,\"#46039f\"],[0.2222222222222222,\"#7201a8\"],[0.3333333333333333,\"#9c179e\"],[0.4444444444444444,\"#bd3786\"],[0.5555555555555556,\"#d8576b\"],[0.6666666666666666,\"#ed7953\"],[0.7777777777777778,\"#fb9f3a\"],[0.8888888888888888,\"#fdca26\"],[1.0,\"#f0f921\"]]}],\"heatmapgl\":[{\"type\":\"heatmapgl\",\"colorbar\":{\"outlinewidth\":0,\"ticks\":\"\"},\"colorscale\":[[0.0,\"#0d0887\"],[0.1111111111111111,\"#46039f\"],[0.2222222222222222,\"#7201a8\"],[0.3333333333333333,\"#9c179e\"],[0.4444444444444444,\"#bd3786\"],[0.5555555555555556,\"#d8576b\"],[0.6666666666666666,\"#ed7953\"],[0.7777777777777778,\"#fb9f3a\"],[0.8888888888888888,\"#fdca26\"],[1.0,\"#f0f921\"]]}],\"contourcarpet\":[{\"type\":\"contourcarpet\",\"colorbar\":{\"outlinewidth\":0,\"ticks\":\"\"}}],\"contour\":[{\"type\":\"contour\",\"colorbar\":{\"outlinewidth\":0,\"ticks\":\"\"},\"colorscale\":[[0.0,\"#0d0887\"],[0.1111111111111111,\"#46039f\"],[0.2222222222222222,\"#7201a8\"],[0.3333333333333333,\"#9c179e\"],[0.4444444444444444,\"#bd3786\"],[0.5555555555555556,\"#d8576b\"],[0.6666666666666666,\"#ed7953\"],[0.7777777777777778,\"#fb9f3a\"],[0.8888888888888888,\"#fdca26\"],[1.0,\"#f0f921\"]]}],\"surface\":[{\"type\":\"surface\",\"colorbar\":{\"outlinewidth\":0,\"ticks\":\"\"},\"colorscale\":[[0.0,\"#0d0887\"],[0.1111111111111111,\"#46039f\"],[0.2222222222222222,\"#7201a8\"],[0.3333333333333333,\"#9c179e\"],[0.4444444444444444,\"#bd3786\"],[0.5555555555555556,\"#d8576b\"],[0.6666666666666666,\"#ed7953\"],[0.7777777777777778,\"#fb9f3a\"],[0.8888888888888888,\"#fdca26\"],[1.0,\"#f0f921\"]]}],\"mesh3d\":[{\"type\":\"mesh3d\",\"colorbar\":{\"outlinewidth\":0,\"ticks\":\"\"}}],\"scatter\":[{\"fillpattern\":{\"fillmode\":\"overlay\",\"size\":10,\"solidity\":0.2},\"type\":\"scatter\"}],\"parcoords\":[{\"type\":\"parcoords\",\"line\":{\"colorbar\":{\"outlinewidth\":0,\"ticks\":\"\"}}}],\"scatterpolargl\":[{\"type\":\"scatterpolargl\",\"marker\":{\"colorbar\":{\"outlinewidth\":0,\"ticks\":\"\"}}}],\"bar\":[{\"error_x\":{\"color\":\"#2a3f5f\"},\"error_y\":{\"color\":\"#2a3f5f\"},\"marker\":{\"line\":{\"color\":\"#E5ECF6\",\"width\":0.5},\"pattern\":{\"fillmode\":\"overlay\",\"size\":10,\"solidity\":0.2}},\"type\":\"bar\"}],\"scattergeo\":[{\"type\":\"scattergeo\",\"marker\":{\"colorbar\":{\"outlinewidth\":0,\"ticks\":\"\"}}}],\"scatterpolar\":[{\"type\":\"scatterpolar\",\"marker\":{\"colorbar\":{\"outlinewidth\":0,\"ticks\":\"\"}}}],\"histogram\":[{\"marker\":{\"pattern\":{\"fillmode\":\"overlay\",\"size\":10,\"solidity\":0.2}},\"type\":\"histogram\"}],\"scattergl\":[{\"type\":\"scattergl\",\"marker\":{\"colorbar\":{\"outlinewidth\":0,\"ticks\":\"\"}}}],\"scatter3d\":[{\"type\":\"scatter3d\",\"line\":{\"colorbar\":{\"outlinewidth\":0,\"ticks\":\"\"}},\"marker\":{\"colorbar\":{\"outlinewidth\":0,\"ticks\":\"\"}}}],\"scattermapbox\":[{\"type\":\"scattermapbox\",\"marker\":{\"colorbar\":{\"outlinewidth\":0,\"ticks\":\"\"}}}],\"scatterternary\":[{\"type\":\"scatterternary\",\"marker\":{\"colorbar\":{\"outlinewidth\":0,\"ticks\":\"\"}}}],\"scattercarpet\":[{\"type\":\"scattercarpet\",\"marker\":{\"colorbar\":{\"outlinewidth\":0,\"ticks\":\"\"}}}],\"carpet\":[{\"aaxis\":{\"endlinecolor\":\"#2a3f5f\",\"gridcolor\":\"white\",\"linecolor\":\"white\",\"minorgridcolor\":\"white\",\"startlinecolor\":\"#2a3f5f\"},\"baxis\":{\"endlinecolor\":\"#2a3f5f\",\"gridcolor\":\"white\",\"linecolor\":\"white\",\"minorgridcolor\":\"white\",\"startlinecolor\":\"#2a3f5f\"},\"type\":\"carpet\"}],\"table\":[{\"cells\":{\"fill\":{\"color\":\"#EBF0F8\"},\"line\":{\"color\":\"white\"}},\"header\":{\"fill\":{\"color\":\"#C8D4E3\"},\"line\":{\"color\":\"white\"}},\"type\":\"table\"}],\"barpolar\":[{\"marker\":{\"line\":{\"color\":\"#E5ECF6\",\"width\":0.5},\"pattern\":{\"fillmode\":\"overlay\",\"size\":10,\"solidity\":0.2}},\"type\":\"barpolar\"}],\"pie\":[{\"automargin\":true,\"type\":\"pie\"}]},\"layout\":{\"autotypenumbers\":\"strict\",\"colorway\":[\"#636efa\",\"#EF553B\",\"#00cc96\",\"#ab63fa\",\"#FFA15A\",\"#19d3f3\",\"#FF6692\",\"#B6E880\",\"#FF97FF\",\"#FECB52\"],\"font\":{\"color\":\"#2a3f5f\"},\"hovermode\":\"closest\",\"hoverlabel\":{\"align\":\"left\"},\"paper_bgcolor\":\"white\",\"plot_bgcolor\":\"#E5ECF6\",\"polar\":{\"bgcolor\":\"#E5ECF6\",\"angularaxis\":{\"gridcolor\":\"white\",\"linecolor\":\"white\",\"ticks\":\"\"},\"radialaxis\":{\"gridcolor\":\"white\",\"linecolor\":\"white\",\"ticks\":\"\"}},\"ternary\":{\"bgcolor\":\"#E5ECF6\",\"aaxis\":{\"gridcolor\":\"white\",\"linecolor\":\"white\",\"ticks\":\"\"},\"baxis\":{\"gridcolor\":\"white\",\"linecolor\":\"white\",\"ticks\":\"\"},\"caxis\":{\"gridcolor\":\"white\",\"linecolor\":\"white\",\"ticks\":\"\"}},\"coloraxis\":{\"colorbar\":{\"outlinewidth\":0,\"ticks\":\"\"}},\"colorscale\":{\"sequential\":[[0.0,\"#0d0887\"],[0.1111111111111111,\"#46039f\"],[0.2222222222222222,\"#7201a8\"],[0.3333333333333333,\"#9c179e\"],[0.4444444444444444,\"#bd3786\"],[0.5555555555555556,\"#d8576b\"],[0.6666666666666666,\"#ed7953\"],[0.7777777777777778,\"#fb9f3a\"],[0.8888888888888888,\"#fdca26\"],[1.0,\"#f0f921\"]],\"sequentialminus\":[[0.0,\"#0d0887\"],[0.1111111111111111,\"#46039f\"],[0.2222222222222222,\"#7201a8\"],[0.3333333333333333,\"#9c179e\"],[0.4444444444444444,\"#bd3786\"],[0.5555555555555556,\"#d8576b\"],[0.6666666666666666,\"#ed7953\"],[0.7777777777777778,\"#fb9f3a\"],[0.8888888888888888,\"#fdca26\"],[1.0,\"#f0f921\"]],\"diverging\":[[0,\"#8e0152\"],[0.1,\"#c51b7d\"],[0.2,\"#de77ae\"],[0.3,\"#f1b6da\"],[0.4,\"#fde0ef\"],[0.5,\"#f7f7f7\"],[0.6,\"#e6f5d0\"],[0.7,\"#b8e186\"],[0.8,\"#7fbc41\"],[0.9,\"#4d9221\"],[1,\"#276419\"]]},\"xaxis\":{\"gridcolor\":\"white\",\"linecolor\":\"white\",\"ticks\":\"\",\"title\":{\"standoff\":15},\"zerolinecolor\":\"white\",\"automargin\":true,\"zerolinewidth\":2},\"yaxis\":{\"gridcolor\":\"white\",\"linecolor\":\"white\",\"ticks\":\"\",\"title\":{\"standoff\":15},\"zerolinecolor\":\"white\",\"automargin\":true,\"zerolinewidth\":2},\"scene\":{\"xaxis\":{\"backgroundcolor\":\"#E5ECF6\",\"gridcolor\":\"white\",\"linecolor\":\"white\",\"showbackground\":true,\"ticks\":\"\",\"zerolinecolor\":\"white\",\"gridwidth\":2},\"yaxis\":{\"backgroundcolor\":\"#E5ECF6\",\"gridcolor\":\"white\",\"linecolor\":\"white\",\"showbackground\":true,\"ticks\":\"\",\"zerolinecolor\":\"white\",\"gridwidth\":2},\"zaxis\":{\"backgroundcolor\":\"#E5ECF6\",\"gridcolor\":\"white\",\"linecolor\":\"white\",\"showbackground\":true,\"ticks\":\"\",\"zerolinecolor\":\"white\",\"gridwidth\":2}},\"shapedefaults\":{\"line\":{\"color\":\"#2a3f5f\"}},\"annotationdefaults\":{\"arrowcolor\":\"#2a3f5f\",\"arrowhead\":0,\"arrowwidth\":1},\"geo\":{\"bgcolor\":\"white\",\"landcolor\":\"#E5ECF6\",\"subunitcolor\":\"white\",\"showland\":true,\"showlakes\":true,\"lakecolor\":\"white\"},\"title\":{\"x\":0.05},\"mapbox\":{\"style\":\"light\"}}},\"xaxis\":{\"anchor\":\"y\",\"domain\":[0.0,1.0],\"title\":{\"text\":\"users_per_event\"}},\"yaxis\":{\"anchor\":\"x\",\"domain\":[0.0,1.0],\"title\":{\"text\":\"event_name\"}},\"legend\":{\"tracegroupgap\":0},\"margin\":{\"t\":60}},                        {\"responsive\": true}                    ).then(function(){\n",
       "                            \n",
       "var gd = document.getElementById('5ad6858c-eed8-4a44-93ff-99675e279caa');\n",
       "var x = new MutationObserver(function (mutations, observer) {{\n",
       "        var display = window.getComputedStyle(gd).display;\n",
       "        if (!display || display === 'none') {{\n",
       "            console.log([gd, 'removed!']);\n",
       "            Plotly.purge(gd);\n",
       "            observer.disconnect();\n",
       "        }}\n",
       "}});\n",
       "\n",
       "// Listen for the removal of the full notebook cells\n",
       "var notebookContainer = gd.closest('#notebook-container');\n",
       "if (notebookContainer) {{\n",
       "    x.observe(notebookContainer, {childList: true});\n",
       "}}\n",
       "\n",
       "// Listen for the clearing of the current output cell\n",
       "var outputEl = gd.closest('.output');\n",
       "if (outputEl) {{\n",
       "    x.observe(outputEl, {childList: true});\n",
       "}}\n",
       "\n",
       "                        })                };                });            </script>        </div>"
      ]
     },
     "metadata": {},
     "output_type": "display_data"
    }
   ],
   "source": [
    "fig = px.funnel(funnel_upd, x='users_per_event', y='event_name')\n",
    "fig.show()"
   ]
  },
  {
   "cell_type": "code",
   "execution_count": 39,
   "metadata": {},
   "outputs": [
    {
     "data": {
      "text/plain": [
       "'Так, от общего числа пользователей до успешной покупки доходит порядка 47%, в то время как от первого экрана до покупки 48%'"
      ]
     },
     "execution_count": 39,
     "metadata": {},
     "output_type": "execute_result"
    }
   ],
   "source": [
    "f'Так, от общего числа пользователей до успешной покупки доходит порядка 47%, в то время как от первого экрана до покупки {round(3539/7419*100)}%' "
   ]
  },
  {
   "cell_type": "markdown",
   "metadata": {},
   "source": [
    "### Промежуточный вывод: \n",
    "\n",
    "При изучении воронки событий было сформировано представление о предположительной последовательности событий: \n",
    "\n",
    "MainScreenAppear (oтображение главного экрана) -> OffersScreenAppear(отображение экрана с предложениями) -> CartScreenAppear (отображение экрана корзины) -> PaymentScreenSuccessful (отображение экрана успешной оплаты)\n",
    "\n",
    "Также было принято решение пренебречь пятым типом событий tutorial(экран руководства пользователя), поскольку не удалось выявить прямой связи между ознакомлением с руководством пользователя и совершением покупки в приложении. Строки с этим событием были удалены, общий объем потерь - 1,5%, в рамках нормы. \n",
    "\n",
    "Затем была построена таблица воронки, содержащая данные о количестве уникальных пользователей, совершивших события, их доли от общего числа пользователей и конверсия в шаг, отражающая долю пользователей перешедших к следующему событию относительно предыдущего. \n",
    "\n",
    "Было обнаружено, что большая часть пользователей - порядка 38% отсеиваются при переходе с главного экрана на экран с предложениями. Так, от общего числа пользователей до успешной покупки доходит порядка 47%, в то время как от первого экрана до покупки 48%'"
   ]
  },
  {
   "cell_type": "markdown",
   "metadata": {},
   "source": [
    "##  Изучение результатов теста"
   ]
  },
  {
   "cell_type": "markdown",
   "metadata": {},
   "source": [
    "### Проведение A/A-теста"
   ]
  },
  {
   "cell_type": "markdown",
   "metadata": {},
   "source": [
    "#### Подготовка к проведению теста"
   ]
  },
  {
   "cell_type": "markdown",
   "metadata": {},
   "source": [
    "Для удобства проведения тестов было принято решение изменить названия групп на буквенные: 246 - А1, 247 - А2, 248 - В"
   ]
  },
  {
   "cell_type": "code",
   "execution_count": 40,
   "metadata": {},
   "outputs": [
    {
     "data": {
      "text/html": [
       "<div>\n",
       "<style scoped>\n",
       "    .dataframe tbody tr th:only-of-type {\n",
       "        vertical-align: middle;\n",
       "    }\n",
       "\n",
       "    .dataframe tbody tr th {\n",
       "        vertical-align: top;\n",
       "    }\n",
       "\n",
       "    .dataframe thead th {\n",
       "        text-align: right;\n",
       "    }\n",
       "</style>\n",
       "<table border=\"1\" class=\"dataframe\">\n",
       "  <thead>\n",
       "    <tr style=\"text-align: right;\">\n",
       "      <th></th>\n",
       "      <th>event_name</th>\n",
       "      <th>user_id</th>\n",
       "      <th>timestamp</th>\n",
       "      <th>group</th>\n",
       "      <th>datetime</th>\n",
       "      <th>date</th>\n",
       "    </tr>\n",
       "  </thead>\n",
       "  <tbody>\n",
       "    <tr>\n",
       "      <th>2829</th>\n",
       "      <td>MainScreenAppear</td>\n",
       "      <td>3737462046622621720</td>\n",
       "      <td>1564618080</td>\n",
       "      <td>A1</td>\n",
       "      <td>2019-08-01 00:08:00</td>\n",
       "      <td>2019-08-01</td>\n",
       "    </tr>\n",
       "    <tr>\n",
       "      <th>2830</th>\n",
       "      <td>MainScreenAppear</td>\n",
       "      <td>3737462046622621720</td>\n",
       "      <td>1564618135</td>\n",
       "      <td>A1</td>\n",
       "      <td>2019-08-01 00:08:55</td>\n",
       "      <td>2019-08-01</td>\n",
       "    </tr>\n",
       "    <tr>\n",
       "      <th>2831</th>\n",
       "      <td>OffersScreenAppear</td>\n",
       "      <td>3737462046622621720</td>\n",
       "      <td>1564618138</td>\n",
       "      <td>A1</td>\n",
       "      <td>2019-08-01 00:08:58</td>\n",
       "      <td>2019-08-01</td>\n",
       "    </tr>\n",
       "    <tr>\n",
       "      <th>2832</th>\n",
       "      <td>MainScreenAppear</td>\n",
       "      <td>1433840883824088890</td>\n",
       "      <td>1564618139</td>\n",
       "      <td>A2</td>\n",
       "      <td>2019-08-01 00:08:59</td>\n",
       "      <td>2019-08-01</td>\n",
       "    </tr>\n",
       "    <tr>\n",
       "      <th>2833</th>\n",
       "      <td>MainScreenAppear</td>\n",
       "      <td>4899590676214355127</td>\n",
       "      <td>1564618215</td>\n",
       "      <td>A2</td>\n",
       "      <td>2019-08-01 00:10:15</td>\n",
       "      <td>2019-08-01</td>\n",
       "    </tr>\n",
       "  </tbody>\n",
       "</table>\n",
       "</div>"
      ],
      "text/plain": [
       "              event_name              user_id   timestamp group  \\\n",
       "2829    MainScreenAppear  3737462046622621720  1564618080    A1   \n",
       "2830    MainScreenAppear  3737462046622621720  1564618135    A1   \n",
       "2831  OffersScreenAppear  3737462046622621720  1564618138    A1   \n",
       "2832    MainScreenAppear  1433840883824088890  1564618139    A2   \n",
       "2833    MainScreenAppear  4899590676214355127  1564618215    A2   \n",
       "\n",
       "                datetime        date  \n",
       "2829 2019-08-01 00:08:00  2019-08-01  \n",
       "2830 2019-08-01 00:08:55  2019-08-01  \n",
       "2831 2019-08-01 00:08:58  2019-08-01  \n",
       "2832 2019-08-01 00:08:59  2019-08-01  \n",
       "2833 2019-08-01 00:10:15  2019-08-01  "
      ]
     },
     "execution_count": 40,
     "metadata": {},
     "output_type": "execute_result"
    }
   ],
   "source": [
    "data_filtered['group'] = data_filtered['group'].replace({246:'A1', 247:'A2', 248:'B'}) \n",
    "data_filtered.head()"
   ]
  },
  {
   "cell_type": "markdown",
   "metadata": {},
   "source": [
    "Проверим количество пользователей в группах и создадим совокупную контрольную группу А1+А2"
   ]
  },
  {
   "cell_type": "code",
   "execution_count": 41,
   "metadata": {},
   "outputs": [
    {
     "data": {
      "text/plain": [
       "group\n",
       "A1       2483\n",
       "A2       2512\n",
       "B        2535\n",
       "A1+A2    4995\n",
       "Name: user_id, dtype: int64"
      ]
     },
     "execution_count": 41,
     "metadata": {},
     "output_type": "execute_result"
    }
   ],
   "source": [
    "users_by_group = data_filtered.groupby('group')['user_id'].nunique()\n",
    "users_by_group['A1+A2'] = users_by_group['A1'] + users_by_group['A2']\n",
    "users_by_group"
   ]
  },
  {
   "cell_type": "markdown",
   "metadata": {},
   "source": [
    "Группы представляются соразмерными и пригодными для проведения теста"
   ]
  },
  {
   "cell_type": "markdown",
   "metadata": {},
   "source": [
    "Также проверим возможную принадлежность пользователя к нескольким группам сразу"
   ]
  },
  {
   "cell_type": "code",
   "execution_count": 42,
   "metadata": {},
   "outputs": [
    {
     "data": {
      "text/plain": [
       "group    0\n",
       "dtype: int64"
      ]
     },
     "execution_count": 42,
     "metadata": {},
     "output_type": "execute_result"
    }
   ],
   "source": [
    "multiple_users = data_filtered.groupby('user_id').agg({'group':'nunique'})\n",
    "multiple_users_count = multiple_users[multiple_users['group'] >= 2].count()\n",
    "multiple_users_count"
   ]
  },
  {
   "cell_type": "markdown",
   "metadata": {},
   "source": [
    "Пользователей, состоящих в нескольких группах, не обнаружено"
   ]
  },
  {
   "cell_type": "markdown",
   "metadata": {},
   "source": [
    "Построим таблицу для проведения теста"
   ]
  },
  {
   "cell_type": "code",
   "execution_count": 43,
   "metadata": {},
   "outputs": [
    {
     "data": {
      "text/html": [
       "<div>\n",
       "<style scoped>\n",
       "    .dataframe tbody tr th:only-of-type {\n",
       "        vertical-align: middle;\n",
       "    }\n",
       "\n",
       "    .dataframe tbody tr th {\n",
       "        vertical-align: top;\n",
       "    }\n",
       "\n",
       "    .dataframe thead th {\n",
       "        text-align: right;\n",
       "    }\n",
       "</style>\n",
       "<table border=\"1\" class=\"dataframe\">\n",
       "  <thead>\n",
       "    <tr style=\"text-align: right;\">\n",
       "      <th>group</th>\n",
       "      <th>event_name</th>\n",
       "      <th>A1</th>\n",
       "      <th>A2</th>\n",
       "      <th>B</th>\n",
       "      <th>A1+A2</th>\n",
       "      <th>total</th>\n",
       "    </tr>\n",
       "  </thead>\n",
       "  <tbody>\n",
       "    <tr>\n",
       "      <th>0</th>\n",
       "      <td>MainScreenAppear</td>\n",
       "      <td>2450</td>\n",
       "      <td>2476</td>\n",
       "      <td>2493</td>\n",
       "      <td>4926</td>\n",
       "      <td>7419</td>\n",
       "    </tr>\n",
       "    <tr>\n",
       "      <th>1</th>\n",
       "      <td>OffersScreenAppear</td>\n",
       "      <td>1542</td>\n",
       "      <td>1520</td>\n",
       "      <td>1531</td>\n",
       "      <td>3062</td>\n",
       "      <td>4593</td>\n",
       "    </tr>\n",
       "    <tr>\n",
       "      <th>2</th>\n",
       "      <td>CartScreenAppear</td>\n",
       "      <td>1266</td>\n",
       "      <td>1238</td>\n",
       "      <td>1230</td>\n",
       "      <td>2504</td>\n",
       "      <td>3734</td>\n",
       "    </tr>\n",
       "    <tr>\n",
       "      <th>3</th>\n",
       "      <td>PaymentScreenSuccessful</td>\n",
       "      <td>1200</td>\n",
       "      <td>1158</td>\n",
       "      <td>1181</td>\n",
       "      <td>2358</td>\n",
       "      <td>3539</td>\n",
       "    </tr>\n",
       "  </tbody>\n",
       "</table>\n",
       "</div>"
      ],
      "text/plain": [
       "group               event_name    A1    A2     B  A1+A2  total\n",
       "0             MainScreenAppear  2450  2476  2493   4926   7419\n",
       "1           OffersScreenAppear  1542  1520  1531   3062   4593\n",
       "2             CartScreenAppear  1266  1238  1230   2504   3734\n",
       "3      PaymentScreenSuccessful  1200  1158  1181   2358   3539"
      ]
     },
     "execution_count": 43,
     "metadata": {},
     "output_type": "execute_result"
    }
   ],
   "source": [
    "test_table = data_filtered.pivot_table(index='event_name', columns='group', values='user_id', aggfunc='nunique').reset_index()\n",
    "test_table['A1+A2'] = test_table['A1'] + test_table['A2']\n",
    "test_table['total'] = test_table['A1'] + test_table['A2'] + test_table['B']\n",
    "test_table = test_table.sort_values(by='total', ascending=False).reset_index(drop=True)\n",
    "test_table"
   ]
  },
  {
   "cell_type": "markdown",
   "metadata": {},
   "source": [
    "#### Поиск разницы между контрольными выборками A1 и A2"
   ]
  },
  {
   "cell_type": "markdown",
   "metadata": {},
   "source": [
    "Зададим функцию для проведения тестов"
   ]
  },
  {
   "cell_type": "code",
   "execution_count": 44,
   "metadata": {},
   "outputs": [],
   "source": [
    "# функция имеет следующие параметры: группа 1, группа 2, уровень статистической значимости, название события\n",
    "def z_test(group_1, group_2, alpha, event):\n",
    "    # определим количество событий по группам \n",
    "    event_1 = test_table.loc[test_table['event_name'] == event, group_1]\n",
    "    event_2 = test_table.loc[test_table['event_name'] == event, group_2]\n",
    "    # подсчитаем количество пользователей в группе\n",
    "    users_1 = users_by_group[group_1]\n",
    "    users_2 = users_by_group[group_2]\n",
    "    \n",
    "    # определим пропорции\n",
    "    p1 = event_1 / users_1\n",
    "    p2 = event_2 / users_2\n",
    "    \n",
    "    p_combined = (event_1 + event_2) / (users_1 + users_2)\n",
    "    \n",
    "    \n",
    "    z_value = (p1-p2)/mth.sqrt(p_combined *(1-p_combined) *(1/users_1 + 1/users_2))\n",
    "    \n",
    "    distr = st.norm(0,1)\n",
    "    \n",
    "    p_value = (1 - distr.cdf(abs(z_value))) * 2\n",
    "    \n",
    "    # внесем поправку на количество экспериментов 4 группы по 4 события\n",
    "    bonferroni_alpha = alpha / 16\n",
    "    \n",
    "    print('p-value:', p_value)\n",
    "    \n",
    "    if p_value < bonferroni_alpha:\n",
    "        print('Нулевая гипотеза отвергается: между долями есть значимая разница')\n",
    "    else:\n",
    "        print('Нулевая гипотеза не отвергается: нет оснований считать доли разными')"
   ]
  },
  {
   "cell_type": "markdown",
   "metadata": {},
   "source": [
    "Проведем А/A-тесты по всем четырем типам событий, критический уровень статистической значимости установим в 0.01, исходя из более жетских требований к А/А тесту.\n",
    "\n",
    "Гипотезы во всех случаях идентичны:\n",
    "\n",
    "Нулевая гипотеза: доли двух выборок равны\n",
    "\n",
    "Альтернативная гипотеза: между долями есть значимая разница"
   ]
  },
  {
   "cell_type": "code",
   "execution_count": 45,
   "metadata": {},
   "outputs": [
    {
     "name": "stdout",
     "output_type": "stream",
     "text": [
      "p-value: [0.75267034]\n",
      "Нулевая гипотеза не отвергается: нет оснований считать доли разными\n"
     ]
    }
   ],
   "source": [
    "z_test('A1', 'A2', 0.01, 'MainScreenAppear')"
   ]
  },
  {
   "cell_type": "code",
   "execution_count": 46,
   "metadata": {},
   "outputs": [
    {
     "name": "stdout",
     "output_type": "stream",
     "text": [
      "p-value: [0.24786097]\n",
      "Нулевая гипотеза не отвергается: нет оснований считать доли разными\n"
     ]
    }
   ],
   "source": [
    "z_test('A1', 'A2', 0.01, 'OffersScreenAppear')"
   ]
  },
  {
   "cell_type": "code",
   "execution_count": 47,
   "metadata": {},
   "outputs": [
    {
     "name": "stdout",
     "output_type": "stream",
     "text": [
      "p-value: [0.22867644]\n",
      "Нулевая гипотеза не отвергается: нет оснований считать доли разными\n"
     ]
    }
   ],
   "source": [
    "z_test('A1', 'A2', 0.01, 'CartScreenAppear')"
   ]
  },
  {
   "cell_type": "code",
   "execution_count": 48,
   "metadata": {},
   "outputs": [
    {
     "name": "stdout",
     "output_type": "stream",
     "text": [
      "p-value: [0.11446628]\n",
      "Нулевая гипотеза не отвергается: нет оснований считать доли разными\n"
     ]
    }
   ],
   "source": [
    "z_test('A1', 'A2', 0.01, 'PaymentScreenSuccessful')"
   ]
  },
  {
   "cell_type": "markdown",
   "metadata": {},
   "source": [
    "Во всех случаях p-value превысил критический уровень статистической значимости, что говорит об отсутствии оснований считать, что доли разные, группы можно считать контрольными."
   ]
  },
  {
   "cell_type": "markdown",
   "metadata": {},
   "source": [
    "### Проведение A1/B-теста"
   ]
  },
  {
   "cell_type": "markdown",
   "metadata": {},
   "source": [
    "Проведем A/B тест по трем группам, двум А-группам в отдельности и совокупной. Уровень статистической значимости в этих тестах будет стандартным для таких тестов - 0.05 "
   ]
  },
  {
   "cell_type": "code",
   "execution_count": 49,
   "metadata": {},
   "outputs": [
    {
     "name": "stdout",
     "output_type": "stream",
     "text": [
      "p-value: [0.33871141]\n",
      "Нулевая гипотеза не отвергается: нет оснований считать доли разными\n"
     ]
    }
   ],
   "source": [
    "z_test('A1', 'B', 0.05, 'MainScreenAppear')"
   ]
  },
  {
   "cell_type": "code",
   "execution_count": 50,
   "metadata": {},
   "outputs": [
    {
     "name": "stdout",
     "output_type": "stream",
     "text": [
      "p-value: [0.21442477]\n",
      "Нулевая гипотеза не отвергается: нет оснований считать доли разными\n"
     ]
    }
   ],
   "source": [
    "z_test('A1', 'B', 0.05, 'OffersScreenAppear')"
   ]
  },
  {
   "cell_type": "code",
   "execution_count": 51,
   "metadata": {},
   "outputs": [
    {
     "name": "stdout",
     "output_type": "stream",
     "text": [
      "p-value: [0.08067368]\n",
      "Нулевая гипотеза не отвергается: нет оснований считать доли разными\n"
     ]
    }
   ],
   "source": [
    "z_test('A1', 'B', 0.05, 'CartScreenAppear')"
   ]
  },
  {
   "cell_type": "code",
   "execution_count": 52,
   "metadata": {},
   "outputs": [
    {
     "name": "stdout",
     "output_type": "stream",
     "text": [
      "p-value: [0.21693034]\n",
      "Нулевая гипотеза не отвергается: нет оснований считать доли разными\n"
     ]
    }
   ],
   "source": [
    "z_test('A1', 'B', 0.05, 'PaymentScreenSuccessful')"
   ]
  },
  {
   "cell_type": "markdown",
   "metadata": {},
   "source": [
    "### Проведение A2/B-теста"
   ]
  },
  {
   "cell_type": "code",
   "execution_count": 53,
   "metadata": {},
   "outputs": [
    {
     "name": "stdout",
     "output_type": "stream",
     "text": [
      "p-value: [0.51949644]\n",
      "Нулевая гипотеза не отвергается: нет оснований считать доли разными\n"
     ]
    }
   ],
   "source": [
    "z_test('A2', 'B', 0.05, 'MainScreenAppear')"
   ]
  },
  {
   "cell_type": "code",
   "execution_count": 54,
   "metadata": {},
   "outputs": [
    {
     "name": "stdout",
     "output_type": "stream",
     "text": [
      "p-value: [0.93337513]\n",
      "Нулевая гипотеза не отвергается: нет оснований считать доли разными\n"
     ]
    }
   ],
   "source": [
    "z_test('A2', 'B', 0.05, 'OffersScreenAppear')"
   ]
  },
  {
   "cell_type": "code",
   "execution_count": 55,
   "metadata": {},
   "outputs": [
    {
     "name": "stdout",
     "output_type": "stream",
     "text": [
      "p-value: [0.58782846]\n",
      "Нулевая гипотеза не отвергается: нет оснований считать доли разными\n"
     ]
    }
   ],
   "source": [
    "z_test('A2', 'B', 0.05, 'CartScreenAppear')"
   ]
  },
  {
   "cell_type": "code",
   "execution_count": 56,
   "metadata": {},
   "outputs": [
    {
     "name": "stdout",
     "output_type": "stream",
     "text": [
      "p-value: [0.72757187]\n",
      "Нулевая гипотеза не отвергается: нет оснований считать доли разными\n"
     ]
    }
   ],
   "source": [
    "z_test('A2', 'B', 0.05, 'PaymentScreenSuccessful')"
   ]
  },
  {
   "cell_type": "markdown",
   "metadata": {},
   "source": [
    "### Проведение A1+A2/B-теста"
   ]
  },
  {
   "cell_type": "code",
   "execution_count": 57,
   "metadata": {},
   "outputs": [
    {
     "name": "stdout",
     "output_type": "stream",
     "text": [
      "p-value: [0.34866843]\n",
      "Нулевая гипотеза не отвергается: нет оснований считать доли разными\n"
     ]
    }
   ],
   "source": [
    "z_test('A1+A2', 'B', 0.05, 'MainScreenAppear')"
   ]
  },
  {
   "cell_type": "code",
   "execution_count": 58,
   "metadata": {},
   "outputs": [
    {
     "name": "stdout",
     "output_type": "stream",
     "text": [
      "p-value: [0.44582745]\n",
      "Нулевая гипотеза не отвергается: нет оснований считать доли разными\n"
     ]
    }
   ],
   "source": [
    "z_test('A1+A2', 'B', 0.05, 'OffersScreenAppear')"
   ]
  },
  {
   "cell_type": "code",
   "execution_count": 59,
   "metadata": {},
   "outputs": [
    {
     "name": "stdout",
     "output_type": "stream",
     "text": [
      "p-value: [0.18683559]\n",
      "Нулевая гипотеза не отвергается: нет оснований считать доли разными\n"
     ]
    }
   ],
   "source": [
    "z_test('A1+A2', 'B', 0.05, 'CartScreenAppear')"
   ]
  },
  {
   "cell_type": "code",
   "execution_count": 60,
   "metadata": {},
   "outputs": [
    {
     "name": "stdout",
     "output_type": "stream",
     "text": [
      "p-value: [0.61079187]\n",
      "Нулевая гипотеза не отвергается: нет оснований считать доли разными\n"
     ]
    }
   ],
   "source": [
    "z_test('A1+A2', 'B', 0.05, 'PaymentScreenSuccessful')"
   ]
  },
  {
   "cell_type": "markdown",
   "metadata": {},
   "source": [
    "Ни в одном из экспериментов не удалось опровергнуть нулевую гипотезу - не имеется оснований считать сравниваемые доли разными. Следовательно эксперимент по внедрению нового шрифта в приложении можно считать успешным - он не отпугнул пользователей. "
   ]
  },
  {
   "cell_type": "markdown",
   "metadata": {},
   "source": [
    "##  Выводы \n"
   ]
  },
  {
   "cell_type": "markdown",
   "metadata": {},
   "source": [
    "### Подготовка данных \n",
    "\n",
    "В ходе работы над проектом первым шагом стало ознакомление с предоставленными данными. \n",
    "\n",
    "В рамках этого этапа формат столбца, содержащего время события, был изменен на datetime для читаемости и удобства дальнейшей работы. Также был добавлен новый столбец, содержащий даты события. Данные были провены на предмет наличия пропусков и дубликатов - пропусков не было обнаружено, дубликаты были удалены.   \n",
    "\n",
    "### Изучение данных\n",
    "\n",
    "Следующим шагом стало более детальное изучение данных - были подсчитаны события, уникальные пользователи, определены временные границы собранных данных, также была проведена проверка полноты данных, лишние данные были удалены. \n",
    "\n",
    "Общее число событий составило 240887,\n",
    "\n",
    "Число событий в разбивке по названию:\n",
    "\n",
    "    MainScreenAppear - 117328\n",
    "\n",
    "    OffersScreenAppear - 46333\n",
    "\n",
    "    CartScreenAppear - 42303\n",
    "\n",
    "    PaymentScreenSuccessful - 33918\n",
    "\n",
    "    Tutorial - 1005\n",
    "\n",
    "Число уникальных пользователей - 7551,\n",
    "\n",
    "Среднее количество событий на пользователя - 32.28,\n",
    "\n",
    "Временные границы исследования 2019-07-25 - 2019-08-07.\n",
    "\n",
    "После отсечения данных, потери составили 1.16% от общего числа строк - допустимое значение. Общее число утраченных строк составило 2826,  общее число потерь пользователей составило 17 строк - 0.23%.\n",
    "\n",
    "### Изучение воронки событий \n",
    "\n",
    "Третий этап исследования предполагал формирование и исследование воронки событий. \n",
    "\n",
    "При изучении воронки событий было сформировано представление о предположительной последовательности событий:\n",
    "\n",
    "MainScreenAppear (oтображение главного экрана) -> OffersScreenAppear(отображение экрана с предложениями) -> CartScreenAppear (отображение экрана корзины) -> PaymentScreenSuccessful (отображение экрана успешной оплаты)\n",
    "\n",
    "Было принято решение исключить событие tutorial(экран руководства пользователя) из исследования, поскольку не удалось выявить прямой связи между ознакомлением с руководством пользователя и совершением покупки в приложении. Строки с этим событием были удалены, общий объем потерь от исходного количества составил 1,5%.\n",
    "\n",
    "Затем была построена таблица воронки, содержащая данные о количестве уникальных пользователей, совершивших события, их доли от общего числа пользователей и конверсия в шаг, отражающая долю пользователей перешедших к следующему событию относительно предыдущего.\n",
    "\n",
    "Было обнаружено, что большая часть пользователей - порядка 38% отсеиваются при переходе с главного экрана на экран с предложениями.  Так, от общего числа пользователей до успешной покупки доходит порядка 47%, в то время как от первого экрана до покупки 48%. Команде стоит обратить внимание на высокие потери при переходе с главного экрана на второй этап совершнения покупки, необходимо установить причины такого поведения пользователей. \n",
    "\n",
    "### Изучение результатов теста \n",
    "\n",
    "В рамках заключительного этапа исследования был произведен ряд статистических тестов для ответа на вопрос о том, как обновленный шрифт в мобильном приложении сказывается на поведении пользователя. Пользователи были разбиты на 4 группы:\n",
    "\n",
    "1. Контрольная группа - А1\n",
    "\n",
    "2. Контрольная группа - А2 \n",
    "\n",
    "3. Совокупная контрольная группа - А1+А2\n",
    "\n",
    "4. Экспериментальная группа - B \n",
    "\n",
    "Всего было проведено 16 тестов - 4 группы по 4 событиям: MainScreenAppear (oтображение главного экрана) -> OffersScreenAppear(отображение экрана с предложениями) -> CartScreenAppear (отображение экрана корзины) -> PaymentScreenSuccessful (отображение экрана успешной оплаты). Во всех тестах применялись идентичные гипотезы: \n",
    "\n",
    "Нулевая гипотеза: доли двух выборок равны\n",
    "\n",
    "Альтернативная гипотеза: между долями есть значимая разница\n",
    "\n",
    "Первым был проведен A/A-тест для того, чтобы удостовериться, что контрольные группы составлены корректно. Проведенный тест не показал наличия существенной разницы между долями, что означает, что группы составлены корректно и могут использоваться в качестве контрольных. Статистическая значимость в этой серии тестов была определена как 0.01 по причине высоких требований к точности проведения А/А-тестов \n",
    "\n",
    "Затем был проведен ряд A/B тестов, по результатам которых также не удалось опровергнуть нулевые гипотезы, то есть тесты показали, что не имеется достаточных оснований полагать, что между долями имеется статистически значимая разница. Для А/B-тестов использовалась стандартная статистическая значимость в 0.05. \n",
    "\n",
    "Таким образом, можно прийти к выводу, что внедрение новых шрифтов не оказало статистически значимого эффекта на поведение пользователей и эксперимент можно считать успешным. "
   ]
  }
 ],
 "metadata": {
  "ExecuteTimeLog": [
   {
    "duration": 454,
    "start_time": "2024-05-03T19:35:33.857Z"
   },
   {
    "duration": 422,
    "start_time": "2024-05-03T19:36:24.442Z"
   },
   {
    "duration": 13,
    "start_time": "2024-05-03T19:36:32.029Z"
   },
   {
    "duration": 62,
    "start_time": "2024-05-03T19:36:50.686Z"
   },
   {
    "duration": 56,
    "start_time": "2024-05-03T19:36:57.056Z"
   },
   {
    "duration": 48,
    "start_time": "2024-05-03T19:37:13.241Z"
   },
   {
    "duration": 70,
    "start_time": "2024-05-03T19:37:30.028Z"
   },
   {
    "duration": 41,
    "start_time": "2024-05-03T19:37:34.795Z"
   },
   {
    "duration": 48,
    "start_time": "2024-05-03T19:38:22.448Z"
   },
   {
    "duration": 187,
    "start_time": "2024-05-03T19:38:41.092Z"
   },
   {
    "duration": 7,
    "start_time": "2024-05-03T19:38:43.522Z"
   },
   {
    "duration": 22,
    "start_time": "2024-05-03T19:39:25.552Z"
   },
   {
    "duration": 86,
    "start_time": "2024-05-03T19:41:05.714Z"
   },
   {
    "duration": 7,
    "start_time": "2024-05-03T19:42:27.443Z"
   },
   {
    "duration": 8,
    "start_time": "2024-05-03T19:42:45.258Z"
   },
   {
    "duration": 364,
    "start_time": "2024-05-03T19:42:51.308Z"
   },
   {
    "duration": 7,
    "start_time": "2024-05-03T19:45:14.202Z"
   },
   {
    "duration": 7,
    "start_time": "2024-05-03T19:45:24.053Z"
   },
   {
    "duration": 8,
    "start_time": "2024-05-03T19:45:30.865Z"
   },
   {
    "duration": 7,
    "start_time": "2024-05-03T19:46:09.008Z"
   },
   {
    "duration": 2,
    "start_time": "2024-05-03T19:46:29.042Z"
   },
   {
    "duration": 9,
    "start_time": "2024-05-03T19:46:31.962Z"
   },
   {
    "duration": 41,
    "start_time": "2024-05-03T19:47:27.983Z"
   },
   {
    "duration": 8,
    "start_time": "2024-05-03T19:47:36.486Z"
   },
   {
    "duration": 50,
    "start_time": "2024-05-04T05:19:57.952Z"
   },
   {
    "duration": 398,
    "start_time": "2024-05-04T05:20:03.279Z"
   },
   {
    "duration": 291,
    "start_time": "2024-05-04T05:20:03.679Z"
   },
   {
    "duration": 13,
    "start_time": "2024-05-04T05:20:03.971Z"
   },
   {
    "duration": 30,
    "start_time": "2024-05-04T05:20:03.986Z"
   },
   {
    "duration": 14,
    "start_time": "2024-05-04T05:20:04.018Z"
   },
   {
    "duration": 21,
    "start_time": "2024-05-04T05:20:04.033Z"
   },
   {
    "duration": 18,
    "start_time": "2024-05-04T05:20:15.222Z"
   },
   {
    "duration": 51,
    "start_time": "2024-05-04T05:21:36.003Z"
   },
   {
    "duration": 13,
    "start_time": "2024-05-04T05:21:37.747Z"
   },
   {
    "duration": 12,
    "start_time": "2024-05-04T05:21:46.500Z"
   },
   {
    "duration": 13,
    "start_time": "2024-05-04T05:21:48.033Z"
   },
   {
    "duration": 17,
    "start_time": "2024-05-04T05:21:52.622Z"
   },
   {
    "duration": 11,
    "start_time": "2024-05-04T05:22:13.926Z"
   },
   {
    "duration": 12,
    "start_time": "2024-05-04T05:22:15.274Z"
   },
   {
    "duration": 408,
    "start_time": "2024-05-04T05:22:22.371Z"
   },
   {
    "duration": 186,
    "start_time": "2024-05-04T05:22:22.780Z"
   },
   {
    "duration": 13,
    "start_time": "2024-05-04T05:22:22.968Z"
   },
   {
    "duration": 22,
    "start_time": "2024-05-04T05:22:22.983Z"
   },
   {
    "duration": 28,
    "start_time": "2024-05-04T05:22:23.006Z"
   },
   {
    "duration": 13,
    "start_time": "2024-05-04T05:22:23.035Z"
   },
   {
    "duration": 9,
    "start_time": "2024-05-04T05:22:48.211Z"
   },
   {
    "duration": 3,
    "start_time": "2024-05-04T05:23:40.296Z"
   },
   {
    "duration": 8,
    "start_time": "2024-05-04T05:23:45.599Z"
   },
   {
    "duration": 8,
    "start_time": "2024-05-04T05:23:48.673Z"
   },
   {
    "duration": 991,
    "start_time": "2024-05-04T05:24:22.907Z"
   },
   {
    "duration": 735,
    "start_time": "2024-05-04T05:24:30.945Z"
   },
   {
    "duration": 19,
    "start_time": "2024-05-04T05:24:39.363Z"
   },
   {
    "duration": 10,
    "start_time": "2024-05-04T05:24:57.218Z"
   },
   {
    "duration": 12,
    "start_time": "2024-05-04T05:25:03.909Z"
   },
   {
    "duration": 343,
    "start_time": "2024-05-04T05:26:46.247Z"
   },
   {
    "duration": 6,
    "start_time": "2024-05-04T05:26:49.862Z"
   },
   {
    "duration": 20,
    "start_time": "2024-05-04T05:27:54.116Z"
   },
   {
    "duration": 18,
    "start_time": "2024-05-04T05:28:02.515Z"
   },
   {
    "duration": 79,
    "start_time": "2024-05-04T05:28:14.088Z"
   },
   {
    "duration": 73,
    "start_time": "2024-05-04T05:28:17.899Z"
   },
   {
    "duration": 71,
    "start_time": "2024-05-04T05:28:23.115Z"
   },
   {
    "duration": 77,
    "start_time": "2024-05-04T05:28:25.516Z"
   },
   {
    "duration": 9,
    "start_time": "2024-05-04T05:29:01.656Z"
   },
   {
    "duration": 89,
    "start_time": "2024-05-04T05:29:05.293Z"
   },
   {
    "duration": 12,
    "start_time": "2024-05-04T05:29:12.437Z"
   },
   {
    "duration": 85,
    "start_time": "2024-05-04T05:29:33.948Z"
   },
   {
    "duration": 81,
    "start_time": "2024-05-04T05:29:37.488Z"
   },
   {
    "duration": 23,
    "start_time": "2024-05-04T05:32:05.400Z"
   },
   {
    "duration": 32,
    "start_time": "2024-05-04T05:32:13.403Z"
   },
   {
    "duration": 9,
    "start_time": "2024-05-04T05:36:32.285Z"
   },
   {
    "duration": 57,
    "start_time": "2024-05-04T05:36:43.298Z"
   },
   {
    "duration": 43,
    "start_time": "2024-05-04T05:40:12.946Z"
   },
   {
    "duration": 39,
    "start_time": "2024-05-04T05:40:22.106Z"
   },
   {
    "duration": 81,
    "start_time": "2024-05-04T05:40:37.083Z"
   },
   {
    "duration": 98,
    "start_time": "2024-05-04T05:40:46.072Z"
   },
   {
    "duration": 451,
    "start_time": "2024-05-04T05:40:57.832Z"
   },
   {
    "duration": 188,
    "start_time": "2024-05-04T05:40:58.285Z"
   },
   {
    "duration": 14,
    "start_time": "2024-05-04T05:40:58.475Z"
   },
   {
    "duration": 28,
    "start_time": "2024-05-04T05:40:58.491Z"
   },
   {
    "duration": 12,
    "start_time": "2024-05-04T05:40:58.530Z"
   },
   {
    "duration": 8,
    "start_time": "2024-05-04T05:40:58.543Z"
   },
   {
    "duration": 13,
    "start_time": "2024-05-04T05:40:58.553Z"
   },
   {
    "duration": 33,
    "start_time": "2024-05-04T05:40:58.567Z"
   },
   {
    "duration": 27,
    "start_time": "2024-05-04T05:40:58.602Z"
   },
   {
    "duration": 17,
    "start_time": "2024-05-04T05:40:58.631Z"
   },
   {
    "duration": 97,
    "start_time": "2024-05-04T05:40:58.650Z"
   },
   {
    "duration": 87,
    "start_time": "2024-05-04T05:40:58.748Z"
   },
   {
    "duration": 76,
    "start_time": "2024-05-04T05:40:58.837Z"
   },
   {
    "duration": 76,
    "start_time": "2024-05-04T05:41:35.577Z"
   },
   {
    "duration": 86,
    "start_time": "2024-05-04T05:41:43.460Z"
   },
   {
    "duration": 9,
    "start_time": "2024-05-04T05:42:46.719Z"
   },
   {
    "duration": 395,
    "start_time": "2024-05-04T05:42:52.755Z"
   },
   {
    "duration": 188,
    "start_time": "2024-05-04T05:42:53.152Z"
   },
   {
    "duration": 13,
    "start_time": "2024-05-04T05:42:53.342Z"
   },
   {
    "duration": 22,
    "start_time": "2024-05-04T05:42:53.356Z"
   },
   {
    "duration": 10,
    "start_time": "2024-05-04T05:42:53.381Z"
   },
   {
    "duration": 8,
    "start_time": "2024-05-04T05:42:53.393Z"
   },
   {
    "duration": 113,
    "start_time": "2024-05-04T05:42:53.402Z"
   },
   {
    "duration": 19,
    "start_time": "2024-05-04T05:42:53.516Z"
   },
   {
    "duration": 37,
    "start_time": "2024-05-04T05:42:53.537Z"
   },
   {
    "duration": 6,
    "start_time": "2024-05-04T05:42:53.575Z"
   },
   {
    "duration": 47,
    "start_time": "2024-05-04T05:42:53.583Z"
   },
   {
    "duration": 116,
    "start_time": "2024-05-04T05:42:53.631Z"
   },
   {
    "duration": 120,
    "start_time": "2024-05-04T05:42:53.749Z"
   },
   {
    "duration": 99,
    "start_time": "2024-05-04T05:42:53.871Z"
   },
   {
    "duration": 2,
    "start_time": "2024-05-04T05:44:59.028Z"
   },
   {
    "duration": 20,
    "start_time": "2024-05-04T05:45:11.903Z"
   },
   {
    "duration": 20,
    "start_time": "2024-05-04T05:45:23.599Z"
   },
   {
    "duration": 5,
    "start_time": "2024-05-04T05:45:36.388Z"
   },
   {
    "duration": 15,
    "start_time": "2024-05-04T05:46:07.057Z"
   },
   {
    "duration": 48,
    "start_time": "2024-05-04T05:46:17.915Z"
   },
   {
    "duration": 30,
    "start_time": "2024-05-04T05:46:25.931Z"
   },
   {
    "duration": 69,
    "start_time": "2024-05-04T05:46:46.875Z"
   },
   {
    "duration": 8,
    "start_time": "2024-05-04T05:46:50.467Z"
   },
   {
    "duration": 28,
    "start_time": "2024-05-04T05:47:40.082Z"
   },
   {
    "duration": 36,
    "start_time": "2024-05-04T05:47:49.967Z"
   },
   {
    "duration": 19,
    "start_time": "2024-05-04T05:48:11.422Z"
   },
   {
    "duration": 19,
    "start_time": "2024-05-04T05:48:16.554Z"
   },
   {
    "duration": 70,
    "start_time": "2024-05-04T05:51:58.613Z"
   },
   {
    "duration": 916,
    "start_time": "2024-05-04T05:52:12.178Z"
   },
   {
    "duration": 52,
    "start_time": "2024-05-04T05:52:16.465Z"
   },
   {
    "duration": 769,
    "start_time": "2024-05-04T05:52:25.660Z"
   },
   {
    "duration": 66,
    "start_time": "2024-05-04T05:52:33.568Z"
   },
   {
    "duration": 51,
    "start_time": "2024-05-04T05:52:52.987Z"
   },
   {
    "duration": 53,
    "start_time": "2024-05-04T05:52:55.719Z"
   },
   {
    "duration": 310,
    "start_time": "2024-05-04T05:53:00.777Z"
   },
   {
    "duration": 54,
    "start_time": "2024-05-04T05:53:07.665Z"
   },
   {
    "duration": 49,
    "start_time": "2024-05-04T05:53:14.679Z"
   },
   {
    "duration": 3,
    "start_time": "2024-05-04T05:54:10.872Z"
   },
   {
    "duration": 19,
    "start_time": "2024-05-04T05:54:21.306Z"
   },
   {
    "duration": 334,
    "start_time": "2024-05-04T05:54:31.091Z"
   },
   {
    "duration": 264,
    "start_time": "2024-05-04T05:54:36.836Z"
   },
   {
    "duration": 55,
    "start_time": "2024-05-04T05:54:49.714Z"
   },
   {
    "duration": 279,
    "start_time": "2024-05-04T05:54:53.729Z"
   },
   {
    "duration": 269,
    "start_time": "2024-05-04T05:54:59.008Z"
   },
   {
    "duration": 187,
    "start_time": "2024-05-04T05:59:13.752Z"
   },
   {
    "duration": 33,
    "start_time": "2024-05-04T06:01:11.790Z"
   },
   {
    "duration": 33,
    "start_time": "2024-05-04T06:01:41.175Z"
   },
   {
    "duration": 23,
    "start_time": "2024-05-04T06:02:06.321Z"
   },
   {
    "duration": 24,
    "start_time": "2024-05-04T06:02:11.388Z"
   },
   {
    "duration": 22,
    "start_time": "2024-05-04T06:02:15.689Z"
   },
   {
    "duration": 14,
    "start_time": "2024-05-04T06:04:20.580Z"
   },
   {
    "duration": 15,
    "start_time": "2024-05-04T06:06:08.494Z"
   },
   {
    "duration": 29,
    "start_time": "2024-05-04T06:06:11.993Z"
   },
   {
    "duration": 22,
    "start_time": "2024-05-04T06:06:36.060Z"
   },
   {
    "duration": 288,
    "start_time": "2024-05-04T06:06:44.645Z"
   },
   {
    "duration": 267,
    "start_time": "2024-05-04T06:07:26.696Z"
   },
   {
    "duration": 681,
    "start_time": "2024-05-04T06:07:34.519Z"
   },
   {
    "duration": 195,
    "start_time": "2024-05-04T06:07:35.202Z"
   },
   {
    "duration": 11,
    "start_time": "2024-05-04T06:07:35.399Z"
   },
   {
    "duration": 34,
    "start_time": "2024-05-04T06:07:35.412Z"
   },
   {
    "duration": 10,
    "start_time": "2024-05-04T06:07:35.448Z"
   },
   {
    "duration": 14,
    "start_time": "2024-05-04T06:07:35.460Z"
   },
   {
    "duration": 125,
    "start_time": "2024-05-04T06:07:35.476Z"
   },
   {
    "duration": 25,
    "start_time": "2024-05-04T06:07:35.602Z"
   },
   {
    "duration": 54,
    "start_time": "2024-05-04T06:07:35.629Z"
   },
   {
    "duration": 110,
    "start_time": "2024-05-04T06:07:35.684Z"
   },
   {
    "duration": 121,
    "start_time": "2024-05-04T06:07:35.796Z"
   },
   {
    "duration": 96,
    "start_time": "2024-05-04T06:07:35.919Z"
   },
   {
    "duration": 25,
    "start_time": "2024-05-04T06:07:36.017Z"
   },
   {
    "duration": 5,
    "start_time": "2024-05-04T06:07:36.044Z"
   },
   {
    "duration": 42,
    "start_time": "2024-05-04T06:07:36.051Z"
   },
   {
    "duration": 14,
    "start_time": "2024-05-04T06:07:36.095Z"
   },
   {
    "duration": 53,
    "start_time": "2024-05-04T06:07:36.110Z"
   },
   {
    "duration": 7,
    "start_time": "2024-05-04T06:07:36.164Z"
   },
   {
    "duration": 34,
    "start_time": "2024-05-04T06:07:36.172Z"
   },
   {
    "duration": 34,
    "start_time": "2024-05-04T06:07:36.207Z"
   },
   {
    "duration": 24,
    "start_time": "2024-05-04T06:07:36.242Z"
   },
   {
    "duration": 66,
    "start_time": "2024-05-04T06:07:36.267Z"
   },
   {
    "duration": 292,
    "start_time": "2024-05-04T06:07:36.334Z"
   },
   {
    "duration": 79,
    "start_time": "2024-05-04T06:07:36.628Z"
   },
   {
    "duration": 0,
    "start_time": "2024-05-04T06:07:36.708Z"
   },
   {
    "duration": 0,
    "start_time": "2024-05-04T06:07:36.710Z"
   },
   {
    "duration": 589,
    "start_time": "2024-05-04T06:07:46.175Z"
   },
   {
    "duration": 179,
    "start_time": "2024-05-04T06:07:46.765Z"
   },
   {
    "duration": 10,
    "start_time": "2024-05-04T06:07:46.946Z"
   },
   {
    "duration": 29,
    "start_time": "2024-05-04T06:07:46.958Z"
   },
   {
    "duration": 17,
    "start_time": "2024-05-04T06:07:46.989Z"
   },
   {
    "duration": 30,
    "start_time": "2024-05-04T06:07:47.008Z"
   },
   {
    "duration": 112,
    "start_time": "2024-05-04T06:07:47.040Z"
   },
   {
    "duration": 9,
    "start_time": "2024-05-04T06:07:47.153Z"
   },
   {
    "duration": 31,
    "start_time": "2024-05-04T06:07:47.164Z"
   },
   {
    "duration": 125,
    "start_time": "2024-05-04T06:07:47.196Z"
   },
   {
    "duration": 122,
    "start_time": "2024-05-04T06:07:47.323Z"
   },
   {
    "duration": 111,
    "start_time": "2024-05-04T06:07:47.447Z"
   },
   {
    "duration": 20,
    "start_time": "2024-05-04T06:07:47.559Z"
   },
   {
    "duration": 7,
    "start_time": "2024-05-04T06:07:47.581Z"
   },
   {
    "duration": 57,
    "start_time": "2024-05-04T06:07:47.589Z"
   },
   {
    "duration": 14,
    "start_time": "2024-05-04T06:07:47.648Z"
   },
   {
    "duration": 71,
    "start_time": "2024-05-04T06:07:47.664Z"
   },
   {
    "duration": 7,
    "start_time": "2024-05-04T06:07:47.736Z"
   },
   {
    "duration": 23,
    "start_time": "2024-05-04T06:07:47.744Z"
   },
   {
    "duration": 17,
    "start_time": "2024-05-04T06:07:47.769Z"
   },
   {
    "duration": 32,
    "start_time": "2024-05-04T06:07:47.788Z"
   },
   {
    "duration": 78,
    "start_time": "2024-05-04T06:07:47.821Z"
   },
   {
    "duration": 291,
    "start_time": "2024-05-04T06:07:47.901Z"
   },
   {
    "duration": 27,
    "start_time": "2024-05-04T06:07:48.194Z"
   },
   {
    "duration": 261,
    "start_time": "2024-05-04T06:07:48.229Z"
   },
   {
    "duration": 24,
    "start_time": "2024-05-04T06:08:48.376Z"
   },
   {
    "duration": 271,
    "start_time": "2024-05-04T06:08:58.829Z"
   },
   {
    "duration": 703,
    "start_time": "2024-05-04T06:09:07.798Z"
   },
   {
    "duration": 181,
    "start_time": "2024-05-04T06:09:08.503Z"
   },
   {
    "duration": 11,
    "start_time": "2024-05-04T06:09:08.686Z"
   },
   {
    "duration": 37,
    "start_time": "2024-05-04T06:09:08.698Z"
   },
   {
    "duration": 10,
    "start_time": "2024-05-04T06:09:08.737Z"
   },
   {
    "duration": 7,
    "start_time": "2024-05-04T06:09:08.748Z"
   },
   {
    "duration": 113,
    "start_time": "2024-05-04T06:09:08.757Z"
   },
   {
    "duration": 8,
    "start_time": "2024-05-04T06:09:08.872Z"
   },
   {
    "duration": 31,
    "start_time": "2024-05-04T06:09:08.882Z"
   },
   {
    "duration": 115,
    "start_time": "2024-05-04T06:09:08.915Z"
   },
   {
    "duration": 124,
    "start_time": "2024-05-04T06:09:09.031Z"
   },
   {
    "duration": 92,
    "start_time": "2024-05-04T06:09:09.157Z"
   },
   {
    "duration": 20,
    "start_time": "2024-05-04T06:09:09.251Z"
   },
   {
    "duration": 5,
    "start_time": "2024-05-04T06:09:09.273Z"
   },
   {
    "duration": 58,
    "start_time": "2024-05-04T06:09:09.279Z"
   },
   {
    "duration": 15,
    "start_time": "2024-05-04T06:09:09.339Z"
   },
   {
    "duration": 37,
    "start_time": "2024-05-04T06:09:09.356Z"
   },
   {
    "duration": 8,
    "start_time": "2024-05-04T06:09:09.395Z"
   },
   {
    "duration": 46,
    "start_time": "2024-05-04T06:09:09.405Z"
   },
   {
    "duration": 19,
    "start_time": "2024-05-04T06:09:09.453Z"
   },
   {
    "duration": 29,
    "start_time": "2024-05-04T06:09:09.473Z"
   },
   {
    "duration": 95,
    "start_time": "2024-05-04T06:09:09.504Z"
   },
   {
    "duration": 314,
    "start_time": "2024-05-04T06:09:09.601Z"
   },
   {
    "duration": 29,
    "start_time": "2024-05-04T06:09:09.917Z"
   },
   {
    "duration": 274,
    "start_time": "2024-05-04T06:09:09.947Z"
   },
   {
    "duration": 7,
    "start_time": "2024-05-04T06:09:10.223Z"
   },
   {
    "duration": 4,
    "start_time": "2024-05-04T06:11:46.213Z"
   },
   {
    "duration": 3,
    "start_time": "2024-05-04T06:11:49.013Z"
   },
   {
    "duration": 75,
    "start_time": "2024-05-04T06:13:21.506Z"
   },
   {
    "duration": 5,
    "start_time": "2024-05-04T06:13:28.731Z"
   },
   {
    "duration": 11,
    "start_time": "2024-05-04T06:14:11.498Z"
   },
   {
    "duration": 16,
    "start_time": "2024-05-04T06:14:50.572Z"
   },
   {
    "duration": 14,
    "start_time": "2024-05-04T06:15:34.999Z"
   },
   {
    "duration": 26,
    "start_time": "2024-05-04T06:15:49.278Z"
   },
   {
    "duration": 26,
    "start_time": "2024-05-04T06:15:57.270Z"
   },
   {
    "duration": 26,
    "start_time": "2024-05-04T06:16:57.415Z"
   },
   {
    "duration": 25,
    "start_time": "2024-05-04T06:17:03.608Z"
   },
   {
    "duration": 26,
    "start_time": "2024-05-04T06:17:10.470Z"
   },
   {
    "duration": 26,
    "start_time": "2024-05-04T06:18:14.202Z"
   },
   {
    "duration": 26,
    "start_time": "2024-05-04T06:18:38.198Z"
   },
   {
    "duration": 10,
    "start_time": "2024-05-04T06:19:22.590Z"
   },
   {
    "duration": 12,
    "start_time": "2024-05-04T06:19:49.593Z"
   },
   {
    "duration": 45,
    "start_time": "2024-05-04T06:26:25.329Z"
   },
   {
    "duration": 11,
    "start_time": "2024-05-04T06:28:08.364Z"
   },
   {
    "duration": 7,
    "start_time": "2024-05-04T06:28:28.465Z"
   },
   {
    "duration": 5,
    "start_time": "2024-05-04T06:28:31.302Z"
   },
   {
    "duration": 35,
    "start_time": "2024-05-04T06:29:13.610Z"
   },
   {
    "duration": 42,
    "start_time": "2024-05-05T05:16:26.006Z"
   },
   {
    "duration": 45,
    "start_time": "2024-05-05T05:19:07.406Z"
   },
   {
    "duration": 687,
    "start_time": "2024-05-05T05:19:12.826Z"
   },
   {
    "duration": 232,
    "start_time": "2024-05-05T05:19:13.515Z"
   },
   {
    "duration": 9,
    "start_time": "2024-05-05T05:19:13.749Z"
   },
   {
    "duration": 17,
    "start_time": "2024-05-05T05:19:13.759Z"
   },
   {
    "duration": 9,
    "start_time": "2024-05-05T05:19:13.777Z"
   },
   {
    "duration": 6,
    "start_time": "2024-05-05T05:19:13.787Z"
   },
   {
    "duration": 63,
    "start_time": "2024-05-05T05:19:13.794Z"
   },
   {
    "duration": 7,
    "start_time": "2024-05-05T05:19:13.858Z"
   },
   {
    "duration": 19,
    "start_time": "2024-05-05T05:19:13.866Z"
   },
   {
    "duration": 94,
    "start_time": "2024-05-05T05:19:13.886Z"
   },
   {
    "duration": 94,
    "start_time": "2024-05-05T05:19:13.981Z"
   },
   {
    "duration": 73,
    "start_time": "2024-05-05T05:19:14.077Z"
   },
   {
    "duration": 17,
    "start_time": "2024-05-05T05:19:14.151Z"
   },
   {
    "duration": 3,
    "start_time": "2024-05-05T05:19:14.170Z"
   },
   {
    "duration": 40,
    "start_time": "2024-05-05T05:19:14.174Z"
   },
   {
    "duration": 9,
    "start_time": "2024-05-05T05:19:14.215Z"
   },
   {
    "duration": 25,
    "start_time": "2024-05-05T05:19:14.225Z"
   },
   {
    "duration": 5,
    "start_time": "2024-05-05T05:19:14.252Z"
   },
   {
    "duration": 28,
    "start_time": "2024-05-05T05:19:14.258Z"
   },
   {
    "duration": 19,
    "start_time": "2024-05-05T05:19:14.287Z"
   },
   {
    "duration": 13,
    "start_time": "2024-05-05T05:19:14.307Z"
   },
   {
    "duration": 44,
    "start_time": "2024-05-05T05:19:14.321Z"
   },
   {
    "duration": 235,
    "start_time": "2024-05-05T05:19:14.366Z"
   },
   {
    "duration": 21,
    "start_time": "2024-05-05T05:19:14.603Z"
   },
   {
    "duration": 226,
    "start_time": "2024-05-05T05:19:14.625Z"
   },
   {
    "duration": 16,
    "start_time": "2024-05-05T05:19:14.852Z"
   },
   {
    "duration": 9,
    "start_time": "2024-05-05T05:19:14.869Z"
   },
   {
    "duration": 46,
    "start_time": "2024-05-05T05:19:14.879Z"
   },
   {
    "duration": 8,
    "start_time": "2024-05-05T05:19:14.927Z"
   },
   {
    "duration": 23,
    "start_time": "2024-05-05T05:19:30.125Z"
   },
   {
    "duration": 84,
    "start_time": "2024-05-05T05:19:46.511Z"
   },
   {
    "duration": 6,
    "start_time": "2024-05-05T05:20:02.178Z"
   },
   {
    "duration": 8,
    "start_time": "2024-05-05T05:20:04.736Z"
   },
   {
    "duration": 18,
    "start_time": "2024-05-05T05:20:15.016Z"
   },
   {
    "duration": 32,
    "start_time": "2024-05-05T05:21:29.628Z"
   },
   {
    "duration": 77,
    "start_time": "2024-05-05T05:21:53.488Z"
   },
   {
    "duration": 57,
    "start_time": "2024-05-05T05:21:59.447Z"
   },
   {
    "duration": 61,
    "start_time": "2024-05-05T05:22:13.865Z"
   },
   {
    "duration": 57,
    "start_time": "2024-05-05T05:22:25.541Z"
   },
   {
    "duration": 54,
    "start_time": "2024-05-05T05:24:03.845Z"
   },
   {
    "duration": 60,
    "start_time": "2024-05-05T05:24:07.429Z"
   },
   {
    "duration": 61,
    "start_time": "2024-05-05T05:24:26.784Z"
   },
   {
    "duration": 4,
    "start_time": "2024-05-05T05:25:00.269Z"
   },
   {
    "duration": 275,
    "start_time": "2024-05-05T05:25:44.198Z"
   },
   {
    "duration": 62,
    "start_time": "2024-05-05T05:25:54.901Z"
   },
   {
    "duration": 70,
    "start_time": "2024-05-05T05:26:10.618Z"
   },
   {
    "duration": 63,
    "start_time": "2024-05-05T05:26:47.892Z"
   },
   {
    "duration": 61,
    "start_time": "2024-05-05T05:39:21.710Z"
   },
   {
    "duration": 4,
    "start_time": "2024-05-05T05:53:27.922Z"
   },
   {
    "duration": 4,
    "start_time": "2024-05-05T05:53:37.556Z"
   },
   {
    "duration": 5,
    "start_time": "2024-05-05T05:55:24.670Z"
   },
   {
    "duration": 4,
    "start_time": "2024-05-05T05:55:35.308Z"
   },
   {
    "duration": 5,
    "start_time": "2024-05-05T05:55:37.356Z"
   },
   {
    "duration": 6,
    "start_time": "2024-05-05T05:55:53.427Z"
   },
   {
    "duration": 5,
    "start_time": "2024-05-05T05:57:08.185Z"
   },
   {
    "duration": 6,
    "start_time": "2024-05-05T05:57:42.181Z"
   },
   {
    "duration": 14,
    "start_time": "2024-05-05T05:57:51.910Z"
   },
   {
    "duration": 5,
    "start_time": "2024-05-05T05:57:55.416Z"
   },
   {
    "duration": 5,
    "start_time": "2024-05-05T05:58:33.176Z"
   },
   {
    "duration": 8,
    "start_time": "2024-05-05T05:58:37.591Z"
   },
   {
    "duration": 8,
    "start_time": "2024-05-05T05:59:07.901Z"
   },
   {
    "duration": 13,
    "start_time": "2024-05-05T05:59:58.476Z"
   },
   {
    "duration": 9,
    "start_time": "2024-05-05T06:00:04.532Z"
   },
   {
    "duration": 10,
    "start_time": "2024-05-05T06:00:20.392Z"
   },
   {
    "duration": 8,
    "start_time": "2024-05-05T06:00:23.877Z"
   },
   {
    "duration": 9,
    "start_time": "2024-05-05T06:00:27.686Z"
   },
   {
    "duration": 12,
    "start_time": "2024-05-05T06:00:43.225Z"
   },
   {
    "duration": 9,
    "start_time": "2024-05-05T06:00:55.410Z"
   },
   {
    "duration": 4,
    "start_time": "2024-05-05T06:01:38.465Z"
   },
   {
    "duration": 3,
    "start_time": "2024-05-05T06:01:53.906Z"
   },
   {
    "duration": 54,
    "start_time": "2024-05-05T06:05:17.361Z"
   },
   {
    "duration": 7,
    "start_time": "2024-05-05T06:06:06.401Z"
   },
   {
    "duration": 8,
    "start_time": "2024-05-05T06:06:31.180Z"
   },
   {
    "duration": 9,
    "start_time": "2024-05-05T06:31:20.100Z"
   },
   {
    "duration": 3,
    "start_time": "2024-05-05T06:33:14.172Z"
   },
   {
    "duration": 4,
    "start_time": "2024-05-05T06:34:01.789Z"
   },
   {
    "duration": 3,
    "start_time": "2024-05-05T06:34:09.776Z"
   },
   {
    "duration": 4,
    "start_time": "2024-05-05T06:34:14.691Z"
   },
   {
    "duration": 40,
    "start_time": "2024-05-05T06:34:23.498Z"
   },
   {
    "duration": 3,
    "start_time": "2024-05-05T06:34:27.389Z"
   },
   {
    "duration": 2,
    "start_time": "2024-05-05T06:34:57.188Z"
   },
   {
    "duration": 17,
    "start_time": "2024-05-05T06:35:21.047Z"
   },
   {
    "duration": 112,
    "start_time": "2024-05-05T06:35:25.076Z"
   },
   {
    "duration": 139,
    "start_time": "2024-05-05T06:35:31.901Z"
   },
   {
    "duration": 105,
    "start_time": "2024-05-05T06:35:38.563Z"
   },
   {
    "duration": 129,
    "start_time": "2024-05-05T06:35:54.443Z"
   },
   {
    "duration": 111,
    "start_time": "2024-05-05T06:38:38.723Z"
   },
   {
    "duration": 116,
    "start_time": "2024-05-05T06:38:44.161Z"
   },
   {
    "duration": 31,
    "start_time": "2024-05-05T06:39:22.938Z"
   },
   {
    "duration": 6,
    "start_time": "2024-05-05T06:40:13.449Z"
   },
   {
    "duration": 4,
    "start_time": "2024-05-05T06:40:17.727Z"
   },
   {
    "duration": 6,
    "start_time": "2024-05-05T06:40:23.476Z"
   },
   {
    "duration": 10,
    "start_time": "2024-05-05T06:40:29.168Z"
   },
   {
    "duration": 6,
    "start_time": "2024-05-05T06:40:52.442Z"
   },
   {
    "duration": 4,
    "start_time": "2024-05-05T06:40:57.162Z"
   },
   {
    "duration": 7,
    "start_time": "2024-05-05T06:41:03.345Z"
   },
   {
    "duration": 17,
    "start_time": "2024-05-05T06:43:06.440Z"
   },
   {
    "duration": 19,
    "start_time": "2024-05-05T06:43:13.490Z"
   },
   {
    "duration": 22,
    "start_time": "2024-05-05T06:43:21.195Z"
   },
   {
    "duration": 20,
    "start_time": "2024-05-05T06:43:25.657Z"
   },
   {
    "duration": 21,
    "start_time": "2024-05-05T06:43:43.516Z"
   },
   {
    "duration": 10,
    "start_time": "2024-05-05T06:44:00.459Z"
   },
   {
    "duration": 20,
    "start_time": "2024-05-05T06:44:22.877Z"
   },
   {
    "duration": 25,
    "start_time": "2024-05-05T07:00:01.704Z"
   },
   {
    "duration": 11,
    "start_time": "2024-05-05T07:00:11.786Z"
   },
   {
    "duration": 31,
    "start_time": "2024-05-05T07:00:24.178Z"
   },
   {
    "duration": 25,
    "start_time": "2024-05-05T07:00:30.070Z"
   },
   {
    "duration": 566,
    "start_time": "2024-05-05T07:00:46.767Z"
   },
   {
    "duration": 140,
    "start_time": "2024-05-05T07:00:47.334Z"
   },
   {
    "duration": 8,
    "start_time": "2024-05-05T07:00:47.476Z"
   },
   {
    "duration": 26,
    "start_time": "2024-05-05T07:00:47.486Z"
   },
   {
    "duration": 8,
    "start_time": "2024-05-05T07:00:47.514Z"
   },
   {
    "duration": 18,
    "start_time": "2024-05-05T07:00:47.523Z"
   },
   {
    "duration": 74,
    "start_time": "2024-05-05T07:00:47.543Z"
   },
   {
    "duration": 7,
    "start_time": "2024-05-05T07:00:47.618Z"
   },
   {
    "duration": 38,
    "start_time": "2024-05-05T07:00:47.626Z"
   },
   {
    "duration": 91,
    "start_time": "2024-05-05T07:00:47.666Z"
   },
   {
    "duration": 136,
    "start_time": "2024-05-05T07:00:47.759Z"
   },
   {
    "duration": 76,
    "start_time": "2024-05-05T07:00:47.896Z"
   },
   {
    "duration": 30,
    "start_time": "2024-05-05T07:00:47.973Z"
   },
   {
    "duration": 4,
    "start_time": "2024-05-05T07:00:48.005Z"
   },
   {
    "duration": 37,
    "start_time": "2024-05-05T07:00:48.010Z"
   },
   {
    "duration": 37,
    "start_time": "2024-05-05T07:00:48.048Z"
   },
   {
    "duration": 54,
    "start_time": "2024-05-05T07:00:48.087Z"
   },
   {
    "duration": 6,
    "start_time": "2024-05-05T07:00:48.142Z"
   },
   {
    "duration": 37,
    "start_time": "2024-05-05T07:00:48.149Z"
   },
   {
    "duration": 14,
    "start_time": "2024-05-05T07:00:48.188Z"
   },
   {
    "duration": 17,
    "start_time": "2024-05-05T07:00:48.203Z"
   },
   {
    "duration": 53,
    "start_time": "2024-05-05T07:00:48.221Z"
   },
   {
    "duration": 236,
    "start_time": "2024-05-05T07:00:48.276Z"
   },
   {
    "duration": 20,
    "start_time": "2024-05-05T07:00:48.513Z"
   },
   {
    "duration": 218,
    "start_time": "2024-05-05T07:00:48.535Z"
   },
   {
    "duration": 17,
    "start_time": "2024-05-05T07:00:48.754Z"
   },
   {
    "duration": 10,
    "start_time": "2024-05-05T07:00:48.772Z"
   },
   {
    "duration": 29,
    "start_time": "2024-05-05T07:00:48.801Z"
   },
   {
    "duration": 8,
    "start_time": "2024-05-05T07:00:48.831Z"
   },
   {
    "duration": 30,
    "start_time": "2024-05-05T07:00:48.840Z"
   },
   {
    "duration": 33,
    "start_time": "2024-05-05T07:00:48.871Z"
   },
   {
    "duration": 127,
    "start_time": "2024-05-05T07:00:48.905Z"
   },
   {
    "duration": 93,
    "start_time": "2024-05-05T07:00:49.033Z"
   },
   {
    "duration": 27,
    "start_time": "2024-05-05T07:00:49.127Z"
   },
   {
    "duration": 58,
    "start_time": "2024-05-05T07:00:49.156Z"
   },
   {
    "duration": 4,
    "start_time": "2024-05-05T07:00:49.216Z"
   },
   {
    "duration": 48,
    "start_time": "2024-05-05T07:00:49.221Z"
   },
   {
    "duration": 10,
    "start_time": "2024-05-05T07:00:49.271Z"
   },
   {
    "duration": 29,
    "start_time": "2024-05-05T07:00:49.282Z"
   },
   {
    "duration": 25,
    "start_time": "2024-05-05T07:00:49.312Z"
   },
   {
    "duration": 29,
    "start_time": "2024-05-05T07:00:49.339Z"
   },
   {
    "duration": 73,
    "start_time": "2024-05-05T07:01:53.452Z"
   },
   {
    "duration": 729,
    "start_time": "2024-05-05T07:01:56.579Z"
   },
   {
    "duration": 71,
    "start_time": "2024-05-05T07:02:05.481Z"
   },
   {
    "duration": 11,
    "start_time": "2024-05-05T07:02:10.450Z"
   },
   {
    "duration": 18,
    "start_time": "2024-05-05T07:03:05.249Z"
   },
   {
    "duration": 40,
    "start_time": "2024-05-05T07:36:03.438Z"
   },
   {
    "duration": 516,
    "start_time": "2024-05-05T08:02:03.103Z"
   },
   {
    "duration": 619,
    "start_time": "2024-05-05T08:02:12.766Z"
   },
   {
    "duration": 491,
    "start_time": "2024-05-05T08:02:19.141Z"
   },
   {
    "duration": 5,
    "start_time": "2024-05-05T08:03:31.618Z"
   },
   {
    "duration": 2,
    "start_time": "2024-05-05T08:06:23.021Z"
   },
   {
    "duration": 2,
    "start_time": "2024-05-05T08:06:32.908Z"
   },
   {
    "duration": 5,
    "start_time": "2024-05-05T10:33:31.424Z"
   },
   {
    "duration": 4,
    "start_time": "2024-05-05T10:34:59.196Z"
   },
   {
    "duration": 10,
    "start_time": "2024-05-05T10:36:04.333Z"
   },
   {
    "duration": 11,
    "start_time": "2024-05-05T10:42:01.921Z"
   },
   {
    "duration": 72,
    "start_time": "2024-05-05T10:42:10.107Z"
   },
   {
    "duration": 70,
    "start_time": "2024-05-05T10:44:23.244Z"
   },
   {
    "duration": 67,
    "start_time": "2024-05-05T10:44:26.493Z"
   },
   {
    "duration": 662,
    "start_time": "2024-05-05T10:45:04.002Z"
   },
   {
    "duration": 69,
    "start_time": "2024-05-05T10:45:19.885Z"
   },
   {
    "duration": 66,
    "start_time": "2024-05-05T10:45:39.123Z"
   },
   {
    "duration": 66,
    "start_time": "2024-05-05T10:45:46.277Z"
   },
   {
    "duration": 58,
    "start_time": "2024-05-05T10:47:22.009Z"
   },
   {
    "duration": 71,
    "start_time": "2024-05-05T10:47:28.177Z"
   },
   {
    "duration": 72,
    "start_time": "2024-05-05T10:48:11.484Z"
   },
   {
    "duration": 68,
    "start_time": "2024-05-05T10:48:16.636Z"
   },
   {
    "duration": 706,
    "start_time": "2024-05-05T10:48:42.292Z"
   },
   {
    "duration": 75,
    "start_time": "2024-05-05T10:48:51.641Z"
   },
   {
    "duration": 67,
    "start_time": "2024-05-05T10:49:07.565Z"
   },
   {
    "duration": 69,
    "start_time": "2024-05-05T10:49:24.973Z"
   },
   {
    "duration": 77,
    "start_time": "2024-05-05T10:49:29.132Z"
   },
   {
    "duration": 69,
    "start_time": "2024-05-05T10:49:36.475Z"
   },
   {
    "duration": 69,
    "start_time": "2024-05-05T10:52:03.715Z"
   },
   {
    "duration": 71,
    "start_time": "2024-05-05T10:53:09.760Z"
   },
   {
    "duration": 69,
    "start_time": "2024-05-05T10:53:17.658Z"
   },
   {
    "duration": 68,
    "start_time": "2024-05-05T10:53:24.501Z"
   },
   {
    "duration": 75,
    "start_time": "2024-05-05T10:53:34.678Z"
   },
   {
    "duration": 73,
    "start_time": "2024-05-05T10:58:29.296Z"
   },
   {
    "duration": 81,
    "start_time": "2024-05-05T10:58:46.770Z"
   },
   {
    "duration": 69,
    "start_time": "2024-05-05T10:58:53.988Z"
   },
   {
    "duration": 72,
    "start_time": "2024-05-05T10:59:04.250Z"
   },
   {
    "duration": 10,
    "start_time": "2024-05-05T11:02:20.099Z"
   },
   {
    "duration": 14,
    "start_time": "2024-05-05T11:02:40.958Z"
   },
   {
    "duration": 14,
    "start_time": "2024-05-05T11:03:06.121Z"
   },
   {
    "duration": 16,
    "start_time": "2024-05-05T11:03:17.367Z"
   },
   {
    "duration": 15,
    "start_time": "2024-05-05T11:04:00.195Z"
   },
   {
    "duration": 7,
    "start_time": "2024-05-05T11:25:46.673Z"
   },
   {
    "duration": 29,
    "start_time": "2024-05-05T11:25:50.990Z"
   },
   {
    "duration": 6,
    "start_time": "2024-05-05T11:25:59.727Z"
   },
   {
    "duration": 30,
    "start_time": "2024-05-05T11:26:25.683Z"
   },
   {
    "duration": 5,
    "start_time": "2024-05-05T11:29:40.349Z"
   },
   {
    "duration": 4,
    "start_time": "2024-05-05T11:30:18.659Z"
   },
   {
    "duration": 10,
    "start_time": "2024-05-05T11:39:52.206Z"
   },
   {
    "duration": 6,
    "start_time": "2024-05-05T11:40:06.906Z"
   },
   {
    "duration": 6,
    "start_time": "2024-05-05T11:40:22.097Z"
   },
   {
    "duration": 9,
    "start_time": "2024-05-05T11:40:31.349Z"
   },
   {
    "duration": 6,
    "start_time": "2024-05-05T12:01:50.225Z"
   },
   {
    "duration": 11,
    "start_time": "2024-05-05T12:01:56.758Z"
   },
   {
    "duration": 11,
    "start_time": "2024-05-05T12:02:08.150Z"
   },
   {
    "duration": 47,
    "start_time": "2024-05-05T12:02:31.174Z"
   },
   {
    "duration": 43,
    "start_time": "2024-05-05T12:02:36.400Z"
   },
   {
    "duration": 7,
    "start_time": "2024-05-05T12:02:41.203Z"
   },
   {
    "duration": 720,
    "start_time": "2024-05-05T12:02:44.260Z"
   },
   {
    "duration": 681,
    "start_time": "2024-05-05T12:03:57.248Z"
   },
   {
    "duration": 65,
    "start_time": "2024-05-05T12:04:19.615Z"
   },
   {
    "duration": 67,
    "start_time": "2024-05-05T12:04:24.887Z"
   },
   {
    "duration": 68,
    "start_time": "2024-05-05T12:04:32.750Z"
   },
   {
    "duration": 70,
    "start_time": "2024-05-05T12:04:36.312Z"
   },
   {
    "duration": 68,
    "start_time": "2024-05-05T12:04:53.957Z"
   },
   {
    "duration": 63,
    "start_time": "2024-05-05T12:05:16.189Z"
   },
   {
    "duration": 68,
    "start_time": "2024-05-05T12:05:24.047Z"
   },
   {
    "duration": 66,
    "start_time": "2024-05-05T12:05:27.927Z"
   },
   {
    "duration": 67,
    "start_time": "2024-05-05T12:05:36.890Z"
   },
   {
    "duration": 68,
    "start_time": "2024-05-05T12:05:39.929Z"
   },
   {
    "duration": 69,
    "start_time": "2024-05-05T12:11:08.970Z"
   },
   {
    "duration": 65,
    "start_time": "2024-05-05T12:11:13.865Z"
   },
   {
    "duration": 65,
    "start_time": "2024-05-05T12:11:20.487Z"
   },
   {
    "duration": 66,
    "start_time": "2024-05-05T12:11:24.315Z"
   },
   {
    "duration": 70,
    "start_time": "2024-05-05T12:11:44.712Z"
   },
   {
    "duration": 3,
    "start_time": "2024-05-05T12:12:04.318Z"
   },
   {
    "duration": 751,
    "start_time": "2024-05-05T12:12:11.524Z"
   },
   {
    "duration": 683,
    "start_time": "2024-05-05T12:14:06.296Z"
   },
   {
    "duration": 720,
    "start_time": "2024-05-05T12:14:16.487Z"
   },
   {
    "duration": 15,
    "start_time": "2024-05-05T12:14:24.020Z"
   },
   {
    "duration": 386,
    "start_time": "2024-05-05T12:14:40.368Z"
   },
   {
    "duration": 822,
    "start_time": "2024-05-05T12:14:42.874Z"
   },
   {
    "duration": 9,
    "start_time": "2024-05-05T12:14:56.068Z"
   },
   {
    "duration": 107,
    "start_time": "2024-05-05T16:45:04.848Z"
   },
   {
    "duration": 56,
    "start_time": "2024-05-05T16:45:20.973Z"
   },
   {
    "duration": 46,
    "start_time": "2024-05-05T16:45:24.671Z"
   },
   {
    "duration": 1227,
    "start_time": "2024-05-05T16:45:34.242Z"
   },
   {
    "duration": 269,
    "start_time": "2024-05-05T16:45:35.471Z"
   },
   {
    "duration": 11,
    "start_time": "2024-05-05T16:45:35.742Z"
   },
   {
    "duration": 22,
    "start_time": "2024-05-05T16:45:35.756Z"
   },
   {
    "duration": 11,
    "start_time": "2024-05-05T16:45:35.779Z"
   },
   {
    "duration": 7,
    "start_time": "2024-05-05T16:45:35.792Z"
   },
   {
    "duration": 101,
    "start_time": "2024-05-05T16:45:35.801Z"
   },
   {
    "duration": 8,
    "start_time": "2024-05-05T16:45:35.904Z"
   },
   {
    "duration": 40,
    "start_time": "2024-05-05T16:45:35.914Z"
   },
   {
    "duration": 94,
    "start_time": "2024-05-05T16:45:35.956Z"
   },
   {
    "duration": 101,
    "start_time": "2024-05-05T16:45:36.052Z"
   },
   {
    "duration": 79,
    "start_time": "2024-05-05T16:45:36.155Z"
   },
   {
    "duration": 25,
    "start_time": "2024-05-05T16:45:36.235Z"
   },
   {
    "duration": 5,
    "start_time": "2024-05-05T16:45:36.261Z"
   },
   {
    "duration": 27,
    "start_time": "2024-05-05T16:45:36.267Z"
   },
   {
    "duration": 15,
    "start_time": "2024-05-05T16:45:36.296Z"
   },
   {
    "duration": 53,
    "start_time": "2024-05-05T16:45:36.312Z"
   },
   {
    "duration": 7,
    "start_time": "2024-05-05T16:45:36.366Z"
   },
   {
    "duration": 24,
    "start_time": "2024-05-05T16:45:36.375Z"
   },
   {
    "duration": 16,
    "start_time": "2024-05-05T16:45:36.401Z"
   },
   {
    "duration": 35,
    "start_time": "2024-05-05T16:45:36.419Z"
   },
   {
    "duration": 56,
    "start_time": "2024-05-05T16:45:36.455Z"
   },
   {
    "duration": 275,
    "start_time": "2024-05-05T16:45:36.512Z"
   },
   {
    "duration": 23,
    "start_time": "2024-05-05T16:45:36.789Z"
   },
   {
    "duration": 258,
    "start_time": "2024-05-05T16:45:36.814Z"
   },
   {
    "duration": 23,
    "start_time": "2024-05-05T16:45:37.073Z"
   },
   {
    "duration": 10,
    "start_time": "2024-05-05T16:45:37.097Z"
   },
   {
    "duration": 50,
    "start_time": "2024-05-05T16:45:37.110Z"
   },
   {
    "duration": 9,
    "start_time": "2024-05-05T16:45:37.162Z"
   },
   {
    "duration": 20,
    "start_time": "2024-05-05T16:45:37.172Z"
   },
   {
    "duration": 30,
    "start_time": "2024-05-05T16:45:37.194Z"
   },
   {
    "duration": 139,
    "start_time": "2024-05-05T16:45:37.246Z"
   },
   {
    "duration": 74,
    "start_time": "2024-05-05T16:45:37.387Z"
   },
   {
    "duration": 27,
    "start_time": "2024-05-05T16:45:37.463Z"
   },
   {
    "duration": 86,
    "start_time": "2024-05-05T16:45:37.491Z"
   },
   {
    "duration": 791,
    "start_time": "2024-05-05T16:45:37.579Z"
   },
   {
    "duration": 0,
    "start_time": "2024-05-05T16:45:38.372Z"
   },
   {
    "duration": 0,
    "start_time": "2024-05-05T16:45:38.374Z"
   },
   {
    "duration": 0,
    "start_time": "2024-05-05T16:45:38.375Z"
   },
   {
    "duration": 0,
    "start_time": "2024-05-05T16:45:38.377Z"
   },
   {
    "duration": 0,
    "start_time": "2024-05-05T16:45:38.378Z"
   },
   {
    "duration": 0,
    "start_time": "2024-05-05T16:45:38.380Z"
   },
   {
    "duration": 0,
    "start_time": "2024-05-05T16:45:38.381Z"
   },
   {
    "duration": 0,
    "start_time": "2024-05-05T16:45:38.382Z"
   },
   {
    "duration": 0,
    "start_time": "2024-05-05T16:45:38.384Z"
   },
   {
    "duration": 12,
    "start_time": "2024-05-05T16:46:33.083Z"
   },
   {
    "duration": 637,
    "start_time": "2024-05-05T16:46:47.826Z"
   },
   {
    "duration": 10,
    "start_time": "2024-05-05T16:47:02.271Z"
   },
   {
    "duration": 167,
    "start_time": "2024-05-05T16:47:05.299Z"
   },
   {
    "duration": 11,
    "start_time": "2024-05-05T16:47:08.608Z"
   },
   {
    "duration": 6,
    "start_time": "2024-05-05T16:47:18.741Z"
   },
   {
    "duration": 10,
    "start_time": "2024-05-05T16:47:22.319Z"
   },
   {
    "duration": 1007,
    "start_time": "2024-05-05T16:48:02.597Z"
   },
   {
    "duration": 167,
    "start_time": "2024-05-05T16:48:03.606Z"
   },
   {
    "duration": 11,
    "start_time": "2024-05-05T16:48:03.774Z"
   },
   {
    "duration": 21,
    "start_time": "2024-05-05T16:48:03.786Z"
   },
   {
    "duration": 10,
    "start_time": "2024-05-05T16:48:03.808Z"
   },
   {
    "duration": 28,
    "start_time": "2024-05-05T16:48:03.819Z"
   },
   {
    "duration": 88,
    "start_time": "2024-05-05T16:48:03.848Z"
   },
   {
    "duration": 9,
    "start_time": "2024-05-05T16:48:03.945Z"
   },
   {
    "duration": 28,
    "start_time": "2024-05-05T16:48:03.955Z"
   },
   {
    "duration": 106,
    "start_time": "2024-05-05T16:48:03.985Z"
   },
   {
    "duration": 100,
    "start_time": "2024-05-05T16:48:04.093Z"
   },
   {
    "duration": 91,
    "start_time": "2024-05-05T16:48:04.195Z"
   },
   {
    "duration": 19,
    "start_time": "2024-05-05T16:48:04.288Z"
   },
   {
    "duration": 4,
    "start_time": "2024-05-05T16:48:04.310Z"
   },
   {
    "duration": 55,
    "start_time": "2024-05-05T16:48:04.316Z"
   },
   {
    "duration": 13,
    "start_time": "2024-05-05T16:48:04.373Z"
   },
   {
    "duration": 37,
    "start_time": "2024-05-05T16:48:04.388Z"
   },
   {
    "duration": 24,
    "start_time": "2024-05-05T16:48:04.426Z"
   },
   {
    "duration": 35,
    "start_time": "2024-05-05T16:48:04.451Z"
   },
   {
    "duration": 27,
    "start_time": "2024-05-05T16:48:04.487Z"
   },
   {
    "duration": 40,
    "start_time": "2024-05-05T16:48:04.516Z"
   },
   {
    "duration": 71,
    "start_time": "2024-05-05T16:48:04.557Z"
   },
   {
    "duration": 290,
    "start_time": "2024-05-05T16:48:04.630Z"
   },
   {
    "duration": 34,
    "start_time": "2024-05-05T16:48:04.922Z"
   },
   {
    "duration": 257,
    "start_time": "2024-05-05T16:48:04.958Z"
   },
   {
    "duration": 31,
    "start_time": "2024-05-05T16:48:05.217Z"
   },
   {
    "duration": 12,
    "start_time": "2024-05-05T16:48:05.250Z"
   },
   {
    "duration": 33,
    "start_time": "2024-05-05T16:48:05.263Z"
   },
   {
    "duration": 9,
    "start_time": "2024-05-05T16:48:05.297Z"
   },
   {
    "duration": 39,
    "start_time": "2024-05-05T16:48:05.307Z"
   },
   {
    "duration": 25,
    "start_time": "2024-05-05T16:48:05.347Z"
   },
   {
    "duration": 154,
    "start_time": "2024-05-05T16:48:05.373Z"
   },
   {
    "duration": 82,
    "start_time": "2024-05-05T16:48:05.530Z"
   },
   {
    "duration": 40,
    "start_time": "2024-05-05T16:48:05.614Z"
   },
   {
    "duration": 72,
    "start_time": "2024-05-05T16:48:05.655Z"
   },
   {
    "duration": 23,
    "start_time": "2024-05-05T16:48:05.728Z"
   },
   {
    "duration": 3,
    "start_time": "2024-05-05T16:48:05.753Z"
   },
   {
    "duration": 36,
    "start_time": "2024-05-05T16:48:05.758Z"
   },
   {
    "duration": 7,
    "start_time": "2024-05-05T16:48:05.796Z"
   },
   {
    "duration": 45,
    "start_time": "2024-05-05T16:48:05.804Z"
   },
   {
    "duration": 96,
    "start_time": "2024-05-05T16:48:05.852Z"
   },
   {
    "duration": 5,
    "start_time": "2024-05-05T16:48:05.961Z"
   },
   {
    "duration": 914,
    "start_time": "2024-05-05T16:48:05.968Z"
   },
   {
    "duration": 0,
    "start_time": "2024-05-05T16:48:06.883Z"
   },
   {
    "duration": 0,
    "start_time": "2024-05-05T16:48:06.884Z"
   },
   {
    "duration": 51,
    "start_time": "2024-05-05T16:48:28.440Z"
   },
   {
    "duration": 752,
    "start_time": "2024-05-05T16:48:36.992Z"
   },
   {
    "duration": 990,
    "start_time": "2024-05-05T16:48:52.401Z"
   },
   {
    "duration": 169,
    "start_time": "2024-05-05T16:48:53.393Z"
   },
   {
    "duration": 10,
    "start_time": "2024-05-05T16:48:53.564Z"
   },
   {
    "duration": 25,
    "start_time": "2024-05-05T16:48:53.576Z"
   },
   {
    "duration": 9,
    "start_time": "2024-05-05T16:48:53.603Z"
   },
   {
    "duration": 6,
    "start_time": "2024-05-05T16:48:53.614Z"
   },
   {
    "duration": 90,
    "start_time": "2024-05-05T16:48:53.622Z"
   },
   {
    "duration": 8,
    "start_time": "2024-05-05T16:48:53.713Z"
   },
   {
    "duration": 38,
    "start_time": "2024-05-05T16:48:53.722Z"
   },
   {
    "duration": 94,
    "start_time": "2024-05-05T16:48:53.761Z"
   },
   {
    "duration": 105,
    "start_time": "2024-05-05T16:48:53.857Z"
   },
   {
    "duration": 82,
    "start_time": "2024-05-05T16:48:53.963Z"
   },
   {
    "duration": 17,
    "start_time": "2024-05-05T16:48:54.047Z"
   },
   {
    "duration": 5,
    "start_time": "2024-05-05T16:48:54.066Z"
   },
   {
    "duration": 37,
    "start_time": "2024-05-05T16:48:54.072Z"
   },
   {
    "duration": 13,
    "start_time": "2024-05-05T16:48:54.110Z"
   },
   {
    "duration": 47,
    "start_time": "2024-05-05T16:48:54.124Z"
   },
   {
    "duration": 6,
    "start_time": "2024-05-05T16:48:54.172Z"
   },
   {
    "duration": 45,
    "start_time": "2024-05-05T16:48:54.180Z"
   },
   {
    "duration": 18,
    "start_time": "2024-05-05T16:48:54.227Z"
   },
   {
    "duration": 19,
    "start_time": "2024-05-05T16:48:54.246Z"
   },
   {
    "duration": 66,
    "start_time": "2024-05-05T16:48:54.267Z"
   },
   {
    "duration": 287,
    "start_time": "2024-05-05T16:48:54.335Z"
   },
   {
    "duration": 30,
    "start_time": "2024-05-05T16:48:54.624Z"
   },
   {
    "duration": 244,
    "start_time": "2024-05-05T16:48:54.655Z"
   },
   {
    "duration": 22,
    "start_time": "2024-05-05T16:48:54.900Z"
   },
   {
    "duration": 25,
    "start_time": "2024-05-05T16:48:54.924Z"
   },
   {
    "duration": 29,
    "start_time": "2024-05-05T16:48:54.950Z"
   },
   {
    "duration": 8,
    "start_time": "2024-05-05T16:48:54.980Z"
   },
   {
    "duration": 19,
    "start_time": "2024-05-05T16:48:54.989Z"
   },
   {
    "duration": 42,
    "start_time": "2024-05-05T16:48:55.010Z"
   },
   {
    "duration": 132,
    "start_time": "2024-05-05T16:48:55.053Z"
   },
   {
    "duration": 77,
    "start_time": "2024-05-05T16:48:55.187Z"
   },
   {
    "duration": 24,
    "start_time": "2024-05-05T16:48:55.265Z"
   },
   {
    "duration": 78,
    "start_time": "2024-05-05T16:48:55.290Z"
   },
   {
    "duration": 10,
    "start_time": "2024-05-05T16:48:55.369Z"
   },
   {
    "duration": 11,
    "start_time": "2024-05-05T16:48:55.380Z"
   },
   {
    "duration": 30,
    "start_time": "2024-05-05T16:48:55.392Z"
   },
   {
    "duration": 22,
    "start_time": "2024-05-05T16:48:55.423Z"
   },
   {
    "duration": 21,
    "start_time": "2024-05-05T16:48:55.446Z"
   },
   {
    "duration": 92,
    "start_time": "2024-05-05T16:48:55.470Z"
   },
   {
    "duration": 696,
    "start_time": "2024-05-05T16:48:55.564Z"
   },
   {
    "duration": 0,
    "start_time": "2024-05-05T16:48:56.262Z"
   },
   {
    "duration": 0,
    "start_time": "2024-05-05T16:48:56.263Z"
   },
   {
    "duration": 647,
    "start_time": "2024-05-05T16:51:24.516Z"
   },
   {
    "duration": 15,
    "start_time": "2024-05-05T16:53:21.430Z"
   },
   {
    "duration": 48,
    "start_time": "2024-05-05T16:53:30.660Z"
   },
   {
    "duration": 7,
    "start_time": "2024-05-05T16:53:34.038Z"
   },
   {
    "duration": 8,
    "start_time": "2024-05-05T16:53:47.706Z"
   },
   {
    "duration": 6,
    "start_time": "2024-05-05T16:54:08.696Z"
   },
   {
    "duration": 356,
    "start_time": "2024-05-05T16:56:03.832Z"
   },
   {
    "duration": 4,
    "start_time": "2024-05-05T16:56:12.077Z"
   },
   {
    "duration": 5,
    "start_time": "2024-05-05T16:56:19.808Z"
   },
   {
    "duration": 8,
    "start_time": "2024-05-05T16:56:41.067Z"
   },
   {
    "duration": 38,
    "start_time": "2024-05-05T16:57:20.802Z"
   },
   {
    "duration": 5,
    "start_time": "2024-05-05T16:57:22.951Z"
   },
   {
    "duration": 7,
    "start_time": "2024-05-05T16:57:49.690Z"
   },
   {
    "duration": 40,
    "start_time": "2024-05-05T16:58:00.708Z"
   },
   {
    "duration": 6,
    "start_time": "2024-05-05T16:58:02.904Z"
   },
   {
    "duration": 6,
    "start_time": "2024-05-05T16:58:32.129Z"
   },
   {
    "duration": 5,
    "start_time": "2024-05-05T16:58:49.917Z"
   },
   {
    "duration": 5,
    "start_time": "2024-05-05T17:07:23.667Z"
   },
   {
    "duration": 18,
    "start_time": "2024-05-05T17:07:57.055Z"
   },
   {
    "duration": 5,
    "start_time": "2024-05-05T17:08:16.211Z"
   },
   {
    "duration": 18,
    "start_time": "2024-05-05T17:08:19.557Z"
   },
   {
    "duration": 5,
    "start_time": "2024-05-05T17:09:13.810Z"
   },
   {
    "duration": 8,
    "start_time": "2024-05-05T17:09:18.755Z"
   },
   {
    "duration": 5,
    "start_time": "2024-05-05T17:09:59.853Z"
   },
   {
    "duration": 5,
    "start_time": "2024-05-05T17:10:04.074Z"
   },
   {
    "duration": 6,
    "start_time": "2024-05-05T17:10:26.158Z"
   },
   {
    "duration": 5,
    "start_time": "2024-05-05T17:11:50.108Z"
   },
   {
    "duration": 7,
    "start_time": "2024-05-05T17:12:03.164Z"
   },
   {
    "duration": 8,
    "start_time": "2024-05-05T17:12:05.387Z"
   },
   {
    "duration": 7,
    "start_time": "2024-05-05T17:15:23.416Z"
   },
   {
    "duration": 7,
    "start_time": "2024-05-05T17:15:31.571Z"
   },
   {
    "duration": 6,
    "start_time": "2024-05-05T17:15:34.745Z"
   },
   {
    "duration": 6,
    "start_time": "2024-05-05T17:15:37.069Z"
   },
   {
    "duration": 7,
    "start_time": "2024-05-05T17:15:41.490Z"
   },
   {
    "duration": 7,
    "start_time": "2024-05-05T17:15:45.717Z"
   },
   {
    "duration": 7,
    "start_time": "2024-05-05T17:15:57.496Z"
   },
   {
    "duration": 56,
    "start_time": "2024-05-05T17:16:02.723Z"
   },
   {
    "duration": 7,
    "start_time": "2024-05-05T17:16:05.802Z"
   },
   {
    "duration": 7,
    "start_time": "2024-05-05T17:16:12.948Z"
   },
   {
    "duration": 10,
    "start_time": "2024-05-05T17:16:16.795Z"
   },
   {
    "duration": 8,
    "start_time": "2024-05-05T17:16:25.270Z"
   },
   {
    "duration": 11,
    "start_time": "2024-05-05T17:16:27.731Z"
   },
   {
    "duration": 6,
    "start_time": "2024-05-05T17:16:30.044Z"
   },
   {
    "duration": 7,
    "start_time": "2024-05-05T17:16:34.768Z"
   },
   {
    "duration": 9,
    "start_time": "2024-05-05T17:16:43.083Z"
   },
   {
    "duration": 3,
    "start_time": "2024-05-05T17:17:33.257Z"
   },
   {
    "duration": 5,
    "start_time": "2024-05-05T17:17:39.242Z"
   },
   {
    "duration": 8,
    "start_time": "2024-05-05T17:17:56.136Z"
   },
   {
    "duration": 7,
    "start_time": "2024-05-05T17:18:02.333Z"
   },
   {
    "duration": 6,
    "start_time": "2024-05-05T17:18:18.641Z"
   },
   {
    "duration": 12,
    "start_time": "2024-05-05T17:18:29.366Z"
   },
   {
    "duration": 15,
    "start_time": "2024-05-05T17:18:39.759Z"
   },
   {
    "duration": 11,
    "start_time": "2024-05-05T17:18:56.350Z"
   },
   {
    "duration": 11,
    "start_time": "2024-05-05T17:18:59.259Z"
   },
   {
    "duration": 11,
    "start_time": "2024-05-05T17:19:04.525Z"
   },
   {
    "duration": 17,
    "start_time": "2024-05-05T17:20:06.951Z"
   },
   {
    "duration": 650,
    "start_time": "2024-05-05T17:20:20.321Z"
   },
   {
    "duration": 18,
    "start_time": "2024-05-05T17:20:27.378Z"
   },
   {
    "duration": 16,
    "start_time": "2024-05-05T17:20:39.485Z"
   },
   {
    "duration": 19,
    "start_time": "2024-05-05T17:20:45.831Z"
   },
   {
    "duration": 22,
    "start_time": "2024-05-05T17:20:48.553Z"
   },
   {
    "duration": 20,
    "start_time": "2024-05-05T17:20:51.784Z"
   },
   {
    "duration": 16,
    "start_time": "2024-05-05T17:20:55.210Z"
   },
   {
    "duration": 13,
    "start_time": "2024-05-05T17:21:05.373Z"
   },
   {
    "duration": 5,
    "start_time": "2024-05-05T17:21:53.878Z"
   },
   {
    "duration": 11,
    "start_time": "2024-05-05T17:23:41.382Z"
   },
   {
    "duration": 11,
    "start_time": "2024-05-05T17:23:59.072Z"
   },
   {
    "duration": 638,
    "start_time": "2024-05-05T17:24:24.700Z"
   },
   {
    "duration": 12,
    "start_time": "2024-05-05T17:24:40.895Z"
   },
   {
    "duration": 7,
    "start_time": "2024-05-05T17:24:46.430Z"
   },
   {
    "duration": 6,
    "start_time": "2024-05-05T17:24:53.508Z"
   },
   {
    "duration": 7,
    "start_time": "2024-05-05T17:25:05.907Z"
   },
   {
    "duration": 5,
    "start_time": "2024-05-05T17:25:08.631Z"
   },
   {
    "duration": 5,
    "start_time": "2024-05-05T17:25:38.371Z"
   },
   {
    "duration": 7,
    "start_time": "2024-05-05T17:25:44.621Z"
   },
   {
    "duration": 10,
    "start_time": "2024-05-05T17:25:50.911Z"
   },
   {
    "duration": 9,
    "start_time": "2024-05-05T17:26:11.074Z"
   },
   {
    "duration": 13,
    "start_time": "2024-05-05T17:26:18.274Z"
   },
   {
    "duration": 609,
    "start_time": "2024-05-05T17:27:41.900Z"
   },
   {
    "duration": 5,
    "start_time": "2024-05-05T17:27:49.029Z"
   },
   {
    "duration": 35,
    "start_time": "2024-05-05T17:29:00.500Z"
   },
   {
    "duration": 30,
    "start_time": "2024-05-05T17:29:04.244Z"
   },
   {
    "duration": 29,
    "start_time": "2024-05-05T17:29:11.275Z"
   },
   {
    "duration": 26,
    "start_time": "2024-05-05T17:29:42.318Z"
   },
   {
    "duration": 577,
    "start_time": "2024-05-05T17:30:17.954Z"
   },
   {
    "duration": 5,
    "start_time": "2024-05-05T17:30:26.574Z"
   },
   {
    "duration": 461,
    "start_time": "2024-05-05T17:30:38.426Z"
   },
   {
    "duration": 677,
    "start_time": "2024-05-05T17:30:44.243Z"
   },
   {
    "duration": 627,
    "start_time": "2024-05-05T17:30:50.781Z"
   },
   {
    "duration": 19,
    "start_time": "2024-05-05T17:30:57.918Z"
   },
   {
    "duration": 16,
    "start_time": "2024-05-05T17:31:05.156Z"
   },
   {
    "duration": 4,
    "start_time": "2024-05-05T17:31:26.803Z"
   },
   {
    "duration": 8,
    "start_time": "2024-05-05T17:33:11.932Z"
   },
   {
    "duration": 6,
    "start_time": "2024-05-05T17:33:41.821Z"
   },
   {
    "duration": 7,
    "start_time": "2024-05-05T17:33:51.859Z"
   },
   {
    "duration": 9,
    "start_time": "2024-05-05T17:34:02.238Z"
   },
   {
    "duration": 5,
    "start_time": "2024-05-05T17:34:17.081Z"
   },
   {
    "duration": 6,
    "start_time": "2024-05-05T17:34:18.528Z"
   },
   {
    "duration": 4,
    "start_time": "2024-05-05T17:34:59.867Z"
   },
   {
    "duration": 7,
    "start_time": "2024-05-05T17:35:01.072Z"
   },
   {
    "duration": 7,
    "start_time": "2024-05-05T17:35:11.118Z"
   },
   {
    "duration": 7,
    "start_time": "2024-05-05T17:35:15.845Z"
   },
   {
    "duration": 8,
    "start_time": "2024-05-05T17:35:18.334Z"
   },
   {
    "duration": 8,
    "start_time": "2024-05-05T17:35:20.762Z"
   },
   {
    "duration": 3,
    "start_time": "2024-05-05T17:35:51.961Z"
   },
   {
    "duration": 5,
    "start_time": "2024-05-05T17:35:55.156Z"
   },
   {
    "duration": 3,
    "start_time": "2024-05-05T17:35:58.845Z"
   },
   {
    "duration": 5,
    "start_time": "2024-05-05T17:36:01.500Z"
   },
   {
    "duration": 649,
    "start_time": "2024-05-05T17:36:55.567Z"
   },
   {
    "duration": 7,
    "start_time": "2024-05-05T17:37:05.110Z"
   },
   {
    "duration": 13,
    "start_time": "2024-05-05T17:37:23.883Z"
   },
   {
    "duration": 14,
    "start_time": "2024-05-05T17:37:45.699Z"
   },
   {
    "duration": 18,
    "start_time": "2024-05-05T17:37:52.012Z"
   },
   {
    "duration": 14,
    "start_time": "2024-05-05T17:38:16.120Z"
   },
   {
    "duration": 16,
    "start_time": "2024-05-05T17:38:58.548Z"
   },
   {
    "duration": 23,
    "start_time": "2024-05-05T17:39:02.714Z"
   },
   {
    "duration": 47,
    "start_time": "2024-05-05T17:42:12.072Z"
   },
   {
    "duration": 5,
    "start_time": "2024-05-05T17:42:33.666Z"
   },
   {
    "duration": 7,
    "start_time": "2024-05-05T17:43:15.900Z"
   },
   {
    "duration": 5,
    "start_time": "2024-05-05T17:44:05.413Z"
   },
   {
    "duration": 2,
    "start_time": "2024-05-05T17:44:19.924Z"
   },
   {
    "duration": 4,
    "start_time": "2024-05-05T17:44:22.541Z"
   },
   {
    "duration": 3,
    "start_time": "2024-05-05T17:44:50.180Z"
   },
   {
    "duration": 4,
    "start_time": "2024-05-05T17:45:01.711Z"
   },
   {
    "duration": 4,
    "start_time": "2024-05-05T17:45:04.722Z"
   },
   {
    "duration": 3,
    "start_time": "2024-05-05T17:45:15.520Z"
   },
   {
    "duration": 4,
    "start_time": "2024-05-05T17:45:31.448Z"
   },
   {
    "duration": 6,
    "start_time": "2024-05-05T17:45:35.272Z"
   },
   {
    "duration": 694,
    "start_time": "2024-05-05T17:45:41.703Z"
   },
   {
    "duration": 7,
    "start_time": "2024-05-05T17:45:44.707Z"
   },
   {
    "duration": 6,
    "start_time": "2024-05-05T17:45:49.287Z"
   },
   {
    "duration": 6,
    "start_time": "2024-05-05T17:45:58.958Z"
   },
   {
    "duration": 7,
    "start_time": "2024-05-05T17:46:06.332Z"
   },
   {
    "duration": 7,
    "start_time": "2024-05-05T17:46:10.258Z"
   },
   {
    "duration": 7,
    "start_time": "2024-05-05T17:46:13.213Z"
   },
   {
    "duration": 4,
    "start_time": "2024-05-05T17:46:36.822Z"
   },
   {
    "duration": 6,
    "start_time": "2024-05-05T17:46:38.364Z"
   },
   {
    "duration": 8,
    "start_time": "2024-05-05T17:46:39.846Z"
   },
   {
    "duration": 4,
    "start_time": "2024-05-05T17:46:41.207Z"
   },
   {
    "duration": 6,
    "start_time": "2024-05-05T17:47:17.912Z"
   },
   {
    "duration": 8,
    "start_time": "2024-05-05T17:47:23.532Z"
   },
   {
    "duration": 6,
    "start_time": "2024-05-05T17:47:26.170Z"
   },
   {
    "duration": 4,
    "start_time": "2024-05-05T17:48:25.599Z"
   },
   {
    "duration": 7,
    "start_time": "2024-05-05T17:48:27.198Z"
   },
   {
    "duration": 8,
    "start_time": "2024-05-05T17:50:18.425Z"
   },
   {
    "duration": 7,
    "start_time": "2024-05-05T17:50:27.145Z"
   },
   {
    "duration": 9,
    "start_time": "2024-05-05T17:50:37.525Z"
   },
   {
    "duration": 6,
    "start_time": "2024-05-05T17:50:51.168Z"
   },
   {
    "duration": 77,
    "start_time": "2024-05-05T17:51:54.218Z"
   },
   {
    "duration": 4,
    "start_time": "2024-05-05T17:52:01.007Z"
   },
   {
    "duration": 2,
    "start_time": "2024-05-05T17:56:04.105Z"
   },
   {
    "duration": 80,
    "start_time": "2024-05-05T17:58:10.181Z"
   },
   {
    "duration": 75,
    "start_time": "2024-05-05T17:58:14.780Z"
   },
   {
    "duration": 75,
    "start_time": "2024-05-05T17:58:26.195Z"
   },
   {
    "duration": 74,
    "start_time": "2024-05-05T17:58:49.356Z"
   },
   {
    "duration": 78,
    "start_time": "2024-05-05T17:59:38.135Z"
   },
   {
    "duration": 81,
    "start_time": "2024-05-05T17:59:41.047Z"
   },
   {
    "duration": 84,
    "start_time": "2024-05-05T17:59:44.736Z"
   },
   {
    "duration": 641,
    "start_time": "2024-05-05T17:59:58.348Z"
   },
   {
    "duration": 512,
    "start_time": "2024-05-05T18:00:09.134Z"
   },
   {
    "duration": 4,
    "start_time": "2024-05-05T18:00:19.277Z"
   },
   {
    "duration": 577,
    "start_time": "2024-05-05T18:00:21.258Z"
   },
   {
    "duration": 1051,
    "start_time": "2024-05-05T18:00:40.539Z"
   },
   {
    "duration": 166,
    "start_time": "2024-05-05T18:00:41.592Z"
   },
   {
    "duration": 11,
    "start_time": "2024-05-05T18:00:41.759Z"
   },
   {
    "duration": 20,
    "start_time": "2024-05-05T18:00:41.771Z"
   },
   {
    "duration": 9,
    "start_time": "2024-05-05T18:00:41.793Z"
   },
   {
    "duration": 13,
    "start_time": "2024-05-05T18:00:41.803Z"
   },
   {
    "duration": 102,
    "start_time": "2024-05-05T18:00:41.818Z"
   },
   {
    "duration": 9,
    "start_time": "2024-05-05T18:00:41.921Z"
   },
   {
    "duration": 36,
    "start_time": "2024-05-05T18:00:41.931Z"
   },
   {
    "duration": 106,
    "start_time": "2024-05-05T18:00:41.969Z"
   },
   {
    "duration": 106,
    "start_time": "2024-05-05T18:00:42.076Z"
   },
   {
    "duration": 84,
    "start_time": "2024-05-05T18:00:42.184Z"
   },
   {
    "duration": 17,
    "start_time": "2024-05-05T18:00:42.269Z"
   },
   {
    "duration": 6,
    "start_time": "2024-05-05T18:00:42.289Z"
   },
   {
    "duration": 49,
    "start_time": "2024-05-05T18:00:42.296Z"
   },
   {
    "duration": 13,
    "start_time": "2024-05-05T18:00:42.347Z"
   },
   {
    "duration": 31,
    "start_time": "2024-05-05T18:00:42.362Z"
   },
   {
    "duration": 6,
    "start_time": "2024-05-05T18:00:42.395Z"
   },
   {
    "duration": 44,
    "start_time": "2024-05-05T18:00:42.403Z"
   },
   {
    "duration": 17,
    "start_time": "2024-05-05T18:00:42.448Z"
   },
   {
    "duration": 20,
    "start_time": "2024-05-05T18:00:42.466Z"
   },
   {
    "duration": 68,
    "start_time": "2024-05-05T18:00:42.487Z"
   },
   {
    "duration": 264,
    "start_time": "2024-05-05T18:00:42.557Z"
   },
   {
    "duration": 36,
    "start_time": "2024-05-05T18:00:42.822Z"
   },
   {
    "duration": 246,
    "start_time": "2024-05-05T18:00:42.859Z"
   },
   {
    "duration": 24,
    "start_time": "2024-05-05T18:00:43.106Z"
   },
   {
    "duration": 18,
    "start_time": "2024-05-05T18:00:43.131Z"
   },
   {
    "duration": 29,
    "start_time": "2024-05-05T18:00:43.150Z"
   },
   {
    "duration": 8,
    "start_time": "2024-05-05T18:00:43.180Z"
   },
   {
    "duration": 19,
    "start_time": "2024-05-05T18:00:43.190Z"
   },
   {
    "duration": 47,
    "start_time": "2024-05-05T18:00:43.211Z"
   },
   {
    "duration": 142,
    "start_time": "2024-05-05T18:00:43.260Z"
   },
   {
    "duration": 92,
    "start_time": "2024-05-05T18:00:43.404Z"
   },
   {
    "duration": 26,
    "start_time": "2024-05-05T18:00:43.497Z"
   },
   {
    "duration": 93,
    "start_time": "2024-05-05T18:00:43.524Z"
   },
   {
    "duration": 9,
    "start_time": "2024-05-05T18:00:43.619Z"
   },
   {
    "duration": 16,
    "start_time": "2024-05-05T18:00:43.630Z"
   },
   {
    "duration": 29,
    "start_time": "2024-05-05T18:00:43.647Z"
   },
   {
    "duration": 6,
    "start_time": "2024-05-05T18:00:43.678Z"
   },
   {
    "duration": 27,
    "start_time": "2024-05-05T18:00:43.685Z"
   },
   {
    "duration": 99,
    "start_time": "2024-05-05T18:00:43.715Z"
   },
   {
    "duration": 4,
    "start_time": "2024-05-05T18:00:43.816Z"
   },
   {
    "duration": 15,
    "start_time": "2024-05-05T18:00:43.821Z"
   },
   {
    "duration": 551,
    "start_time": "2024-05-05T18:00:43.837Z"
   },
   {
    "duration": 0,
    "start_time": "2024-05-05T18:00:44.390Z"
   },
   {
    "duration": 0,
    "start_time": "2024-05-05T18:00:44.391Z"
   },
   {
    "duration": 0,
    "start_time": "2024-05-05T18:00:44.392Z"
   },
   {
    "duration": 0,
    "start_time": "2024-05-05T18:00:44.393Z"
   },
   {
    "duration": 5,
    "start_time": "2024-05-05T18:01:43.342Z"
   },
   {
    "duration": 5,
    "start_time": "2024-05-05T18:01:48.365Z"
   },
   {
    "duration": 5,
    "start_time": "2024-05-05T18:01:54.194Z"
   },
   {
    "duration": 33,
    "start_time": "2024-05-05T18:02:43.515Z"
   },
   {
    "duration": 564,
    "start_time": "2024-05-05T18:02:50.868Z"
   },
   {
    "duration": 29,
    "start_time": "2024-05-05T18:03:04.860Z"
   },
   {
    "duration": 28,
    "start_time": "2024-05-05T18:04:43.812Z"
   },
   {
    "duration": 28,
    "start_time": "2024-05-05T18:05:23.700Z"
   },
   {
    "duration": 32,
    "start_time": "2024-05-05T18:05:27.675Z"
   },
   {
    "duration": 16,
    "start_time": "2024-05-05T18:07:04.006Z"
   },
   {
    "duration": 16,
    "start_time": "2024-05-05T18:08:19.963Z"
   },
   {
    "duration": 13,
    "start_time": "2024-05-05T18:08:23.031Z"
   },
   {
    "duration": 21,
    "start_time": "2024-05-05T18:08:26.896Z"
   },
   {
    "duration": 20,
    "start_time": "2024-05-05T18:08:29.958Z"
   },
   {
    "duration": 24,
    "start_time": "2024-05-05T18:08:42.212Z"
   },
   {
    "duration": 32,
    "start_time": "2024-05-05T18:08:54.705Z"
   },
   {
    "duration": 31,
    "start_time": "2024-05-05T18:09:19.038Z"
   },
   {
    "duration": 33,
    "start_time": "2024-05-05T18:09:26.431Z"
   },
   {
    "duration": 42,
    "start_time": "2024-05-05T18:09:30.815Z"
   },
   {
    "duration": 54,
    "start_time": "2024-05-05T18:09:40.113Z"
   },
   {
    "duration": 41,
    "start_time": "2024-05-05T18:09:43.344Z"
   },
   {
    "duration": 48,
    "start_time": "2024-05-05T18:09:47.461Z"
   },
   {
    "duration": 1035,
    "start_time": "2024-05-05T18:09:54.652Z"
   },
   {
    "duration": 174,
    "start_time": "2024-05-05T18:09:55.688Z"
   },
   {
    "duration": 13,
    "start_time": "2024-05-05T18:09:55.864Z"
   },
   {
    "duration": 25,
    "start_time": "2024-05-05T18:09:55.878Z"
   },
   {
    "duration": 9,
    "start_time": "2024-05-05T18:09:55.905Z"
   },
   {
    "duration": 30,
    "start_time": "2024-05-05T18:09:55.915Z"
   },
   {
    "duration": 84,
    "start_time": "2024-05-05T18:09:55.946Z"
   },
   {
    "duration": 8,
    "start_time": "2024-05-05T18:09:56.031Z"
   },
   {
    "duration": 28,
    "start_time": "2024-05-05T18:09:56.045Z"
   },
   {
    "duration": 93,
    "start_time": "2024-05-05T18:09:56.074Z"
   },
   {
    "duration": 105,
    "start_time": "2024-05-05T18:09:56.169Z"
   },
   {
    "duration": 85,
    "start_time": "2024-05-05T18:09:56.275Z"
   },
   {
    "duration": 16,
    "start_time": "2024-05-05T18:09:56.361Z"
   },
   {
    "duration": 4,
    "start_time": "2024-05-05T18:09:56.380Z"
   },
   {
    "duration": 28,
    "start_time": "2024-05-05T18:09:56.385Z"
   },
   {
    "duration": 32,
    "start_time": "2024-05-05T18:09:56.415Z"
   },
   {
    "duration": 30,
    "start_time": "2024-05-05T18:09:56.448Z"
   },
   {
    "duration": 6,
    "start_time": "2024-05-05T18:09:56.479Z"
   },
   {
    "duration": 24,
    "start_time": "2024-05-05T18:09:56.487Z"
   },
   {
    "duration": 37,
    "start_time": "2024-05-05T18:09:56.512Z"
   },
   {
    "duration": 17,
    "start_time": "2024-05-05T18:09:56.551Z"
   },
   {
    "duration": 52,
    "start_time": "2024-05-05T18:09:56.570Z"
   },
   {
    "duration": 270,
    "start_time": "2024-05-05T18:09:56.623Z"
   },
   {
    "duration": 23,
    "start_time": "2024-05-05T18:09:56.896Z"
   },
   {
    "duration": 254,
    "start_time": "2024-05-05T18:09:56.921Z"
   },
   {
    "duration": 27,
    "start_time": "2024-05-05T18:09:57.177Z"
   },
   {
    "duration": 12,
    "start_time": "2024-05-05T18:09:57.206Z"
   },
   {
    "duration": 52,
    "start_time": "2024-05-05T18:09:57.219Z"
   },
   {
    "duration": 9,
    "start_time": "2024-05-05T18:09:57.272Z"
   },
   {
    "duration": 19,
    "start_time": "2024-05-05T18:09:57.282Z"
   },
   {
    "duration": 53,
    "start_time": "2024-05-05T18:09:57.302Z"
   },
   {
    "duration": 143,
    "start_time": "2024-05-05T18:09:57.357Z"
   },
   {
    "duration": 78,
    "start_time": "2024-05-05T18:09:57.501Z"
   },
   {
    "duration": 26,
    "start_time": "2024-05-05T18:09:57.580Z"
   },
   {
    "duration": 82,
    "start_time": "2024-05-05T18:09:57.607Z"
   },
   {
    "duration": 10,
    "start_time": "2024-05-05T18:09:57.691Z"
   },
   {
    "duration": 3,
    "start_time": "2024-05-05T18:09:57.703Z"
   },
   {
    "duration": 52,
    "start_time": "2024-05-05T18:09:57.708Z"
   },
   {
    "duration": 129,
    "start_time": "2024-05-05T18:09:57.761Z"
   },
   {
    "duration": 0,
    "start_time": "2024-05-05T18:09:57.892Z"
   },
   {
    "duration": 0,
    "start_time": "2024-05-05T18:09:57.893Z"
   },
   {
    "duration": 0,
    "start_time": "2024-05-05T18:09:57.894Z"
   },
   {
    "duration": 0,
    "start_time": "2024-05-05T18:09:57.895Z"
   },
   {
    "duration": 0,
    "start_time": "2024-05-05T18:09:57.896Z"
   },
   {
    "duration": 0,
    "start_time": "2024-05-05T18:09:57.897Z"
   },
   {
    "duration": 0,
    "start_time": "2024-05-05T18:09:57.898Z"
   },
   {
    "duration": 0,
    "start_time": "2024-05-05T18:09:57.899Z"
   },
   {
    "duration": 0,
    "start_time": "2024-05-05T18:09:57.900Z"
   },
   {
    "duration": 0,
    "start_time": "2024-05-05T18:09:57.901Z"
   },
   {
    "duration": 27,
    "start_time": "2024-05-05T18:10:47.804Z"
   },
   {
    "duration": 13,
    "start_time": "2024-05-05T18:10:50.046Z"
   },
   {
    "duration": 38,
    "start_time": "2024-05-05T18:11:02.246Z"
   },
   {
    "duration": 1005,
    "start_time": "2024-05-05T18:11:09.775Z"
   },
   {
    "duration": 175,
    "start_time": "2024-05-05T18:11:10.782Z"
   },
   {
    "duration": 15,
    "start_time": "2024-05-05T18:11:10.958Z"
   },
   {
    "duration": 27,
    "start_time": "2024-05-05T18:11:10.975Z"
   },
   {
    "duration": 9,
    "start_time": "2024-05-05T18:11:11.004Z"
   },
   {
    "duration": 14,
    "start_time": "2024-05-05T18:11:11.015Z"
   },
   {
    "duration": 93,
    "start_time": "2024-05-05T18:11:11.031Z"
   },
   {
    "duration": 20,
    "start_time": "2024-05-05T18:11:11.126Z"
   },
   {
    "duration": 25,
    "start_time": "2024-05-05T18:11:11.147Z"
   },
   {
    "duration": 106,
    "start_time": "2024-05-05T18:11:11.174Z"
   },
   {
    "duration": 105,
    "start_time": "2024-05-05T18:11:11.281Z"
   },
   {
    "duration": 84,
    "start_time": "2024-05-05T18:11:11.388Z"
   },
   {
    "duration": 17,
    "start_time": "2024-05-05T18:11:11.474Z"
   },
   {
    "duration": 5,
    "start_time": "2024-05-05T18:11:11.492Z"
   },
   {
    "duration": 52,
    "start_time": "2024-05-05T18:11:11.498Z"
   },
   {
    "duration": 13,
    "start_time": "2024-05-05T18:11:11.551Z"
   },
   {
    "duration": 31,
    "start_time": "2024-05-05T18:11:11.566Z"
   },
   {
    "duration": 7,
    "start_time": "2024-05-05T18:11:11.599Z"
   },
   {
    "duration": 54,
    "start_time": "2024-05-05T18:11:11.607Z"
   },
   {
    "duration": 19,
    "start_time": "2024-05-05T18:11:11.662Z"
   },
   {
    "duration": 18,
    "start_time": "2024-05-05T18:11:11.682Z"
   },
   {
    "duration": 74,
    "start_time": "2024-05-05T18:11:11.702Z"
   },
   {
    "duration": 266,
    "start_time": "2024-05-05T18:11:11.778Z"
   },
   {
    "duration": 22,
    "start_time": "2024-05-05T18:11:12.046Z"
   },
   {
    "duration": 245,
    "start_time": "2024-05-05T18:11:12.070Z"
   },
   {
    "duration": 32,
    "start_time": "2024-05-05T18:11:12.316Z"
   },
   {
    "duration": 11,
    "start_time": "2024-05-05T18:11:12.349Z"
   },
   {
    "duration": 32,
    "start_time": "2024-05-05T18:11:12.364Z"
   },
   {
    "duration": 8,
    "start_time": "2024-05-05T18:11:12.398Z"
   },
   {
    "duration": 48,
    "start_time": "2024-05-05T18:11:12.408Z"
   },
   {
    "duration": 25,
    "start_time": "2024-05-05T18:11:12.458Z"
   },
   {
    "duration": 148,
    "start_time": "2024-05-05T18:11:12.484Z"
   },
   {
    "duration": 74,
    "start_time": "2024-05-05T18:11:12.634Z"
   },
   {
    "duration": 41,
    "start_time": "2024-05-05T18:11:12.710Z"
   },
   {
    "duration": 69,
    "start_time": "2024-05-05T18:11:12.753Z"
   },
   {
    "duration": 28,
    "start_time": "2024-05-05T18:11:12.824Z"
   },
   {
    "duration": 4,
    "start_time": "2024-05-05T18:11:12.853Z"
   },
   {
    "duration": 35,
    "start_time": "2024-05-05T18:11:12.858Z"
   },
   {
    "duration": 59,
    "start_time": "2024-05-05T18:11:12.894Z"
   },
   {
    "duration": 18,
    "start_time": "2024-05-05T18:11:12.954Z"
   },
   {
    "duration": 38,
    "start_time": "2024-05-05T18:11:12.973Z"
   },
   {
    "duration": 929,
    "start_time": "2024-05-05T18:11:13.012Z"
   },
   {
    "duration": 0,
    "start_time": "2024-05-05T18:11:13.942Z"
   },
   {
    "duration": 0,
    "start_time": "2024-05-05T18:11:13.944Z"
   },
   {
    "duration": 0,
    "start_time": "2024-05-05T18:11:13.944Z"
   },
   {
    "duration": 0,
    "start_time": "2024-05-05T18:11:13.945Z"
   },
   {
    "duration": 0,
    "start_time": "2024-05-05T18:11:13.946Z"
   },
   {
    "duration": 0,
    "start_time": "2024-05-05T18:11:13.947Z"
   },
   {
    "duration": 0,
    "start_time": "2024-05-05T18:11:13.948Z"
   },
   {
    "duration": 82,
    "start_time": "2024-05-05T18:11:54.415Z"
   },
   {
    "duration": 87,
    "start_time": "2024-05-05T18:12:17.755Z"
   },
   {
    "duration": 86,
    "start_time": "2024-05-05T18:12:23.733Z"
   },
   {
    "duration": 993,
    "start_time": "2024-05-05T18:12:31.692Z"
   },
   {
    "duration": 170,
    "start_time": "2024-05-05T18:12:32.687Z"
   },
   {
    "duration": 12,
    "start_time": "2024-05-05T18:12:32.859Z"
   },
   {
    "duration": 46,
    "start_time": "2024-05-05T18:12:32.873Z"
   },
   {
    "duration": 11,
    "start_time": "2024-05-05T18:12:32.921Z"
   },
   {
    "duration": 18,
    "start_time": "2024-05-05T18:12:32.933Z"
   },
   {
    "duration": 98,
    "start_time": "2024-05-05T18:12:32.953Z"
   },
   {
    "duration": 12,
    "start_time": "2024-05-05T18:12:33.053Z"
   },
   {
    "duration": 42,
    "start_time": "2024-05-05T18:12:33.067Z"
   },
   {
    "duration": 93,
    "start_time": "2024-05-05T18:12:33.113Z"
   },
   {
    "duration": 107,
    "start_time": "2024-05-05T18:12:33.208Z"
   },
   {
    "duration": 84,
    "start_time": "2024-05-05T18:12:33.316Z"
   },
   {
    "duration": 17,
    "start_time": "2024-05-05T18:12:33.401Z"
   },
   {
    "duration": 4,
    "start_time": "2024-05-05T18:12:33.419Z"
   },
   {
    "duration": 46,
    "start_time": "2024-05-05T18:12:33.424Z"
   },
   {
    "duration": 16,
    "start_time": "2024-05-05T18:12:33.472Z"
   },
   {
    "duration": 31,
    "start_time": "2024-05-05T18:12:33.490Z"
   },
   {
    "duration": 23,
    "start_time": "2024-05-05T18:12:33.523Z"
   },
   {
    "duration": 23,
    "start_time": "2024-05-05T18:12:33.547Z"
   },
   {
    "duration": 16,
    "start_time": "2024-05-05T18:12:33.571Z"
   },
   {
    "duration": 42,
    "start_time": "2024-05-05T18:12:33.589Z"
   },
   {
    "duration": 74,
    "start_time": "2024-05-05T18:12:33.632Z"
   },
   {
    "duration": 256,
    "start_time": "2024-05-05T18:12:33.707Z"
   },
   {
    "duration": 24,
    "start_time": "2024-05-05T18:12:33.965Z"
   },
   {
    "duration": 250,
    "start_time": "2024-05-05T18:12:33.990Z"
   },
   {
    "duration": 24,
    "start_time": "2024-05-05T18:12:34.241Z"
   },
   {
    "duration": 41,
    "start_time": "2024-05-05T18:12:34.266Z"
   },
   {
    "duration": 58,
    "start_time": "2024-05-05T18:12:34.310Z"
   },
   {
    "duration": 13,
    "start_time": "2024-05-05T18:12:34.370Z"
   },
   {
    "duration": 28,
    "start_time": "2024-05-05T18:12:34.385Z"
   },
   {
    "duration": 31,
    "start_time": "2024-05-05T18:12:34.415Z"
   },
   {
    "duration": 142,
    "start_time": "2024-05-05T18:12:34.447Z"
   },
   {
    "duration": 77,
    "start_time": "2024-05-05T18:12:34.591Z"
   },
   {
    "duration": 26,
    "start_time": "2024-05-05T18:12:34.669Z"
   },
   {
    "duration": 81,
    "start_time": "2024-05-05T18:12:34.696Z"
   },
   {
    "duration": 11,
    "start_time": "2024-05-05T18:12:34.778Z"
   },
   {
    "duration": 5,
    "start_time": "2024-05-05T18:12:34.791Z"
   },
   {
    "duration": 35,
    "start_time": "2024-05-05T18:12:34.797Z"
   },
   {
    "duration": 43,
    "start_time": "2024-05-05T18:12:34.845Z"
   },
   {
    "duration": 17,
    "start_time": "2024-05-05T18:12:34.889Z"
   },
   {
    "duration": 56,
    "start_time": "2024-05-05T18:12:34.907Z"
   },
   {
    "duration": 100,
    "start_time": "2024-05-05T18:12:34.965Z"
   },
   {
    "duration": 5,
    "start_time": "2024-05-05T18:12:35.067Z"
   },
   {
    "duration": 13,
    "start_time": "2024-05-05T18:12:35.073Z"
   },
   {
    "duration": 49,
    "start_time": "2024-05-05T18:12:35.088Z"
   },
   {
    "duration": 717,
    "start_time": "2024-05-05T18:12:35.139Z"
   },
   {
    "duration": 0,
    "start_time": "2024-05-05T18:12:35.857Z"
   },
   {
    "duration": 0,
    "start_time": "2024-05-05T18:12:35.859Z"
   },
   {
    "duration": 0,
    "start_time": "2024-05-05T18:12:35.860Z"
   },
   {
    "duration": 7,
    "start_time": "2024-05-05T18:12:46.084Z"
   },
   {
    "duration": 7,
    "start_time": "2024-05-05T18:12:49.594Z"
   },
   {
    "duration": 9,
    "start_time": "2024-05-05T18:12:53.939Z"
   },
   {
    "duration": 8,
    "start_time": "2024-05-05T18:13:05.592Z"
   },
   {
    "duration": 8,
    "start_time": "2024-05-05T18:13:19.911Z"
   },
   {
    "duration": 7,
    "start_time": "2024-05-05T18:13:21.051Z"
   },
   {
    "duration": 7,
    "start_time": "2024-05-05T18:13:22.715Z"
   },
   {
    "duration": 7,
    "start_time": "2024-05-05T18:13:41.713Z"
   },
   {
    "duration": 7,
    "start_time": "2024-05-05T18:14:00.478Z"
   },
   {
    "duration": 7,
    "start_time": "2024-05-05T18:14:03.732Z"
   },
   {
    "duration": 7,
    "start_time": "2024-05-05T18:14:06.682Z"
   },
   {
    "duration": 8,
    "start_time": "2024-05-05T18:14:09.623Z"
   },
   {
    "duration": 778,
    "start_time": "2024-05-05T18:14:35.435Z"
   },
   {
    "duration": 992,
    "start_time": "2024-05-05T18:14:50.693Z"
   },
   {
    "duration": 174,
    "start_time": "2024-05-05T18:14:51.686Z"
   },
   {
    "duration": 12,
    "start_time": "2024-05-05T18:14:51.861Z"
   },
   {
    "duration": 43,
    "start_time": "2024-05-05T18:14:51.876Z"
   },
   {
    "duration": 10,
    "start_time": "2024-05-05T18:14:51.920Z"
   },
   {
    "duration": 51,
    "start_time": "2024-05-05T18:14:51.932Z"
   },
   {
    "duration": 108,
    "start_time": "2024-05-05T18:14:51.985Z"
   },
   {
    "duration": 8,
    "start_time": "2024-05-05T18:14:52.095Z"
   },
   {
    "duration": 51,
    "start_time": "2024-05-05T18:14:52.104Z"
   },
   {
    "duration": 99,
    "start_time": "2024-05-05T18:14:52.158Z"
   },
   {
    "duration": 109,
    "start_time": "2024-05-05T18:14:52.259Z"
   },
   {
    "duration": 88,
    "start_time": "2024-05-05T18:14:52.370Z"
   },
   {
    "duration": 18,
    "start_time": "2024-05-05T18:14:52.459Z"
   },
   {
    "duration": 21,
    "start_time": "2024-05-05T18:14:52.478Z"
   },
   {
    "duration": 49,
    "start_time": "2024-05-05T18:14:52.501Z"
   },
   {
    "duration": 13,
    "start_time": "2024-05-05T18:14:52.552Z"
   },
   {
    "duration": 33,
    "start_time": "2024-05-05T18:14:52.566Z"
   },
   {
    "duration": 6,
    "start_time": "2024-05-05T18:14:52.600Z"
   },
   {
    "duration": 38,
    "start_time": "2024-05-05T18:14:52.608Z"
   },
   {
    "duration": 17,
    "start_time": "2024-05-05T18:14:52.647Z"
   },
   {
    "duration": 41,
    "start_time": "2024-05-05T18:14:52.665Z"
   },
   {
    "duration": 68,
    "start_time": "2024-05-05T18:14:52.707Z"
   },
   {
    "duration": 268,
    "start_time": "2024-05-05T18:14:52.777Z"
   },
   {
    "duration": 25,
    "start_time": "2024-05-05T18:14:53.046Z"
   },
   {
    "duration": 280,
    "start_time": "2024-05-05T18:14:53.073Z"
   },
   {
    "duration": 23,
    "start_time": "2024-05-05T18:14:53.355Z"
   },
   {
    "duration": 10,
    "start_time": "2024-05-05T18:14:53.379Z"
   },
   {
    "duration": 43,
    "start_time": "2024-05-05T18:14:53.392Z"
   },
   {
    "duration": 16,
    "start_time": "2024-05-05T18:14:53.437Z"
   },
   {
    "duration": 23,
    "start_time": "2024-05-05T18:14:53.455Z"
   },
   {
    "duration": 24,
    "start_time": "2024-05-05T18:14:53.479Z"
   },
   {
    "duration": 149,
    "start_time": "2024-05-05T18:14:53.505Z"
   },
   {
    "duration": 69,
    "start_time": "2024-05-05T18:14:53.656Z"
   },
   {
    "duration": 40,
    "start_time": "2024-05-05T18:14:53.726Z"
   },
   {
    "duration": 67,
    "start_time": "2024-05-05T18:14:53.768Z"
   },
   {
    "duration": 11,
    "start_time": "2024-05-05T18:14:53.845Z"
   },
   {
    "duration": 7,
    "start_time": "2024-05-05T18:14:53.857Z"
   },
   {
    "duration": 33,
    "start_time": "2024-05-05T18:14:53.865Z"
   },
   {
    "duration": 59,
    "start_time": "2024-05-05T18:14:53.900Z"
   },
   {
    "duration": 18,
    "start_time": "2024-05-05T18:14:53.961Z"
   },
   {
    "duration": 39,
    "start_time": "2024-05-05T18:14:53.980Z"
   },
   {
    "duration": 114,
    "start_time": "2024-05-05T18:14:54.020Z"
   },
   {
    "duration": 10,
    "start_time": "2024-05-05T18:14:54.136Z"
   },
   {
    "duration": 7,
    "start_time": "2024-05-05T18:14:54.147Z"
   },
   {
    "duration": 8,
    "start_time": "2024-05-05T18:14:54.155Z"
   },
   {
    "duration": 29,
    "start_time": "2024-05-05T18:14:54.164Z"
   },
   {
    "duration": 28,
    "start_time": "2024-05-05T18:14:54.195Z"
   },
   {
    "duration": 11,
    "start_time": "2024-05-05T18:14:54.224Z"
   },
   {
    "duration": 13,
    "start_time": "2024-05-05T18:14:54.236Z"
   },
   {
    "duration": 22,
    "start_time": "2024-05-05T18:14:54.251Z"
   },
   {
    "duration": 12,
    "start_time": "2024-05-05T18:14:54.274Z"
   },
   {
    "duration": 9,
    "start_time": "2024-05-05T18:14:54.287Z"
   },
   {
    "duration": 21,
    "start_time": "2024-05-05T18:14:54.297Z"
   },
   {
    "duration": 9,
    "start_time": "2024-05-05T18:14:54.319Z"
   },
   {
    "duration": 11,
    "start_time": "2024-05-05T18:14:54.329Z"
   },
   {
    "duration": 17,
    "start_time": "2024-05-05T18:14:54.341Z"
   },
   {
    "duration": 722,
    "start_time": "2024-05-05T18:14:54.359Z"
   },
   {
    "duration": 7,
    "start_time": "2024-05-05T18:15:19.663Z"
   },
   {
    "duration": 7,
    "start_time": "2024-05-05T18:15:22.915Z"
   },
   {
    "duration": 650,
    "start_time": "2024-05-05T18:15:45.022Z"
   },
   {
    "duration": 690,
    "start_time": "2024-05-05T18:17:29.702Z"
   },
   {
    "duration": 38,
    "start_time": "2024-05-05T18:17:46.466Z"
   },
   {
    "duration": 48,
    "start_time": "2024-05-05T18:18:07.719Z"
   },
   {
    "duration": 37,
    "start_time": "2024-05-05T18:18:12.008Z"
   },
   {
    "duration": 39,
    "start_time": "2024-05-05T18:18:22.811Z"
   },
   {
    "duration": 6,
    "start_time": "2024-05-05T18:18:25.770Z"
   },
   {
    "duration": 7,
    "start_time": "2024-05-05T18:18:33.361Z"
   },
   {
    "duration": 7,
    "start_time": "2024-05-05T18:18:41.024Z"
   },
   {
    "duration": 6,
    "start_time": "2024-05-05T18:18:49.918Z"
   },
   {
    "duration": 3,
    "start_time": "2024-05-05T18:48:11.438Z"
   },
   {
    "duration": 178,
    "start_time": "2024-05-05T18:48:27.114Z"
   },
   {
    "duration": 6,
    "start_time": "2024-05-05T18:49:17.709Z"
   },
   {
    "duration": 75,
    "start_time": "2024-05-05T18:49:34.305Z"
   },
   {
    "duration": 8,
    "start_time": "2024-05-05T18:49:54.477Z"
   },
   {
    "duration": 27,
    "start_time": "2024-05-05T18:52:29.784Z"
   },
   {
    "duration": 82,
    "start_time": "2024-05-05T18:52:56.823Z"
   },
   {
    "duration": 19,
    "start_time": "2024-05-05T18:53:38.111Z"
   },
   {
    "duration": 32,
    "start_time": "2024-05-05T18:54:07.763Z"
   },
   {
    "duration": 18,
    "start_time": "2024-05-05T18:54:20.282Z"
   },
   {
    "duration": 813,
    "start_time": "2024-05-05T18:54:27.268Z"
   },
   {
    "duration": 179,
    "start_time": "2024-05-05T18:54:28.083Z"
   },
   {
    "duration": 14,
    "start_time": "2024-05-05T18:54:28.263Z"
   },
   {
    "duration": 20,
    "start_time": "2024-05-05T18:54:28.278Z"
   },
   {
    "duration": 11,
    "start_time": "2024-05-05T18:54:28.300Z"
   },
   {
    "duration": 17,
    "start_time": "2024-05-05T18:54:28.312Z"
   },
   {
    "duration": 86,
    "start_time": "2024-05-05T18:54:28.331Z"
   },
   {
    "duration": 8,
    "start_time": "2024-05-05T18:54:28.418Z"
   },
   {
    "duration": 39,
    "start_time": "2024-05-05T18:54:28.427Z"
   },
   {
    "duration": 96,
    "start_time": "2024-05-05T18:54:28.467Z"
   },
   {
    "duration": 102,
    "start_time": "2024-05-05T18:54:28.565Z"
   },
   {
    "duration": 86,
    "start_time": "2024-05-05T18:54:28.668Z"
   },
   {
    "duration": 17,
    "start_time": "2024-05-05T18:54:28.755Z"
   },
   {
    "duration": 5,
    "start_time": "2024-05-05T18:54:28.774Z"
   },
   {
    "duration": 29,
    "start_time": "2024-05-05T18:54:28.780Z"
   },
   {
    "duration": 13,
    "start_time": "2024-05-05T18:54:28.810Z"
   },
   {
    "duration": 30,
    "start_time": "2024-05-05T18:54:28.845Z"
   },
   {
    "duration": 7,
    "start_time": "2024-05-05T18:54:28.876Z"
   },
   {
    "duration": 21,
    "start_time": "2024-05-05T18:54:28.884Z"
   },
   {
    "duration": 16,
    "start_time": "2024-05-05T18:54:28.907Z"
   },
   {
    "duration": 36,
    "start_time": "2024-05-05T18:54:28.924Z"
   },
   {
    "duration": 62,
    "start_time": "2024-05-05T18:54:28.961Z"
   },
   {
    "duration": 487,
    "start_time": "2024-05-05T18:54:29.024Z"
   },
   {
    "duration": 33,
    "start_time": "2024-05-05T18:54:29.512Z"
   },
   {
    "duration": 240,
    "start_time": "2024-05-05T18:54:29.547Z"
   },
   {
    "duration": 23,
    "start_time": "2024-05-05T18:54:29.788Z"
   },
   {
    "duration": 10,
    "start_time": "2024-05-05T18:54:29.813Z"
   },
   {
    "duration": 45,
    "start_time": "2024-05-05T18:54:29.825Z"
   },
   {
    "duration": 8,
    "start_time": "2024-05-05T18:54:29.871Z"
   },
   {
    "duration": 25,
    "start_time": "2024-05-05T18:54:29.881Z"
   },
   {
    "duration": 24,
    "start_time": "2024-05-05T18:54:29.907Z"
   },
   {
    "duration": 127,
    "start_time": "2024-05-05T18:54:29.945Z"
   },
   {
    "duration": 75,
    "start_time": "2024-05-05T18:54:30.074Z"
   },
   {
    "duration": 29,
    "start_time": "2024-05-05T18:54:30.151Z"
   },
   {
    "duration": 94,
    "start_time": "2024-05-05T18:54:30.181Z"
   },
   {
    "duration": 14,
    "start_time": "2024-05-05T18:54:30.276Z"
   },
   {
    "duration": 30,
    "start_time": "2024-05-05T18:54:30.291Z"
   },
   {
    "duration": 64,
    "start_time": "2024-05-05T18:54:30.322Z"
   },
   {
    "duration": 52,
    "start_time": "2024-05-05T18:54:30.388Z"
   },
   {
    "duration": 31,
    "start_time": "2024-05-05T18:54:30.442Z"
   },
   {
    "duration": 109,
    "start_time": "2024-05-05T18:54:30.476Z"
   },
   {
    "duration": 5,
    "start_time": "2024-05-05T18:54:30.586Z"
   },
   {
    "duration": 33,
    "start_time": "2024-05-05T18:54:30.593Z"
   },
   {
    "duration": 86,
    "start_time": "2024-05-05T18:54:30.628Z"
   },
   {
    "duration": 64,
    "start_time": "2024-05-05T18:54:30.716Z"
   },
   {
    "duration": 53,
    "start_time": "2024-05-05T18:54:30.782Z"
   },
   {
    "duration": 50,
    "start_time": "2024-05-05T18:54:30.837Z"
   },
   {
    "duration": 42,
    "start_time": "2024-05-05T18:54:30.889Z"
   },
   {
    "duration": 29,
    "start_time": "2024-05-05T18:54:30.932Z"
   },
   {
    "duration": 23,
    "start_time": "2024-05-05T18:54:30.963Z"
   },
   {
    "duration": 40,
    "start_time": "2024-05-05T18:54:30.987Z"
   },
   {
    "duration": 39,
    "start_time": "2024-05-05T18:54:31.029Z"
   },
   {
    "duration": 36,
    "start_time": "2024-05-05T18:54:31.069Z"
   },
   {
    "duration": 38,
    "start_time": "2024-05-05T18:54:31.107Z"
   },
   {
    "duration": 58,
    "start_time": "2024-05-05T18:54:31.147Z"
   },
   {
    "duration": 69,
    "start_time": "2024-05-05T18:54:31.207Z"
   },
   {
    "duration": 37,
    "start_time": "2024-05-05T18:54:31.279Z"
   },
   {
    "duration": 48,
    "start_time": "2024-05-05T18:54:31.318Z"
   },
   {
    "duration": 41,
    "start_time": "2024-05-05T18:54:31.367Z"
   },
   {
    "duration": 13,
    "start_time": "2024-05-05T19:00:21.610Z"
   },
   {
    "duration": 31,
    "start_time": "2024-05-05T19:00:52.480Z"
   },
   {
    "duration": 7,
    "start_time": "2024-05-05T19:01:10.796Z"
   },
   {
    "duration": 21,
    "start_time": "2024-05-05T19:01:35.253Z"
   },
   {
    "duration": 17,
    "start_time": "2024-05-05T19:02:03.610Z"
   },
   {
    "duration": 53,
    "start_time": "2024-05-05T19:02:38.936Z"
   },
   {
    "duration": 21,
    "start_time": "2024-05-05T19:17:42.364Z"
   },
   {
    "duration": 47,
    "start_time": "2024-05-05T19:21:07.234Z"
   },
   {
    "duration": 238,
    "start_time": "2024-05-05T19:22:03.897Z"
   },
   {
    "duration": 23,
    "start_time": "2024-05-05T19:22:17.355Z"
   },
   {
    "duration": 33,
    "start_time": "2024-05-05T19:34:59.872Z"
   },
   {
    "duration": 24,
    "start_time": "2024-05-05T19:46:49.145Z"
   },
   {
    "duration": 136,
    "start_time": "2024-05-05T19:46:58.614Z"
   },
   {
    "duration": 133,
    "start_time": "2024-05-05T19:47:19.744Z"
   },
   {
    "duration": 67,
    "start_time": "2024-05-05T19:48:59.620Z"
   },
   {
    "duration": 68,
    "start_time": "2024-05-05T19:49:23.136Z"
   },
   {
    "duration": 53,
    "start_time": "2024-05-05T19:49:32.257Z"
   },
   {
    "duration": 70,
    "start_time": "2024-05-05T19:49:38.458Z"
   },
   {
    "duration": 30,
    "start_time": "2024-05-05T19:50:13.631Z"
   },
   {
    "duration": 11,
    "start_time": "2024-05-05T19:51:02.062Z"
   },
   {
    "duration": 849,
    "start_time": "2024-05-05T19:51:07.225Z"
   },
   {
    "duration": 177,
    "start_time": "2024-05-05T19:51:08.076Z"
   },
   {
    "duration": 12,
    "start_time": "2024-05-05T19:51:08.255Z"
   },
   {
    "duration": 20,
    "start_time": "2024-05-05T19:51:08.268Z"
   },
   {
    "duration": 10,
    "start_time": "2024-05-05T19:51:08.290Z"
   },
   {
    "duration": 7,
    "start_time": "2024-05-05T19:51:08.301Z"
   },
   {
    "duration": 102,
    "start_time": "2024-05-05T19:51:08.310Z"
   },
   {
    "duration": 8,
    "start_time": "2024-05-05T19:51:08.414Z"
   },
   {
    "duration": 36,
    "start_time": "2024-05-05T19:51:08.423Z"
   },
   {
    "duration": 92,
    "start_time": "2024-05-05T19:51:08.461Z"
   },
   {
    "duration": 111,
    "start_time": "2024-05-05T19:51:08.554Z"
   },
   {
    "duration": 81,
    "start_time": "2024-05-05T19:51:08.666Z"
   },
   {
    "duration": 17,
    "start_time": "2024-05-05T19:51:08.748Z"
   },
   {
    "duration": 4,
    "start_time": "2024-05-05T19:51:08.768Z"
   },
   {
    "duration": 28,
    "start_time": "2024-05-05T19:51:08.774Z"
   },
   {
    "duration": 13,
    "start_time": "2024-05-05T19:51:08.803Z"
   },
   {
    "duration": 31,
    "start_time": "2024-05-05T19:51:08.844Z"
   },
   {
    "duration": 7,
    "start_time": "2024-05-05T19:51:08.876Z"
   },
   {
    "duration": 22,
    "start_time": "2024-05-05T19:51:08.884Z"
   },
   {
    "duration": 16,
    "start_time": "2024-05-05T19:51:08.907Z"
   },
   {
    "duration": 17,
    "start_time": "2024-05-05T19:51:08.944Z"
   },
   {
    "duration": 53,
    "start_time": "2024-05-05T19:51:08.962Z"
   },
   {
    "duration": 497,
    "start_time": "2024-05-05T19:51:09.017Z"
   },
   {
    "duration": 30,
    "start_time": "2024-05-05T19:51:09.516Z"
   },
   {
    "duration": 244,
    "start_time": "2024-05-05T19:51:09.547Z"
   },
   {
    "duration": 24,
    "start_time": "2024-05-05T19:51:09.793Z"
   },
   {
    "duration": 11,
    "start_time": "2024-05-05T19:51:09.818Z"
   },
   {
    "duration": 29,
    "start_time": "2024-05-05T19:51:09.845Z"
   },
   {
    "duration": 12,
    "start_time": "2024-05-05T19:51:09.876Z"
   },
   {
    "duration": 24,
    "start_time": "2024-05-05T19:51:09.889Z"
   },
   {
    "duration": 156,
    "start_time": "2024-05-05T19:51:09.915Z"
   },
   {
    "duration": 79,
    "start_time": "2024-05-05T19:51:10.073Z"
   },
   {
    "duration": 28,
    "start_time": "2024-05-05T19:51:10.154Z"
   },
   {
    "duration": 88,
    "start_time": "2024-05-05T19:51:10.183Z"
   },
   {
    "duration": 11,
    "start_time": "2024-05-05T19:51:10.273Z"
   },
   {
    "duration": 18,
    "start_time": "2024-05-05T19:51:10.286Z"
   },
   {
    "duration": 29,
    "start_time": "2024-05-05T19:51:10.305Z"
   },
   {
    "duration": 50,
    "start_time": "2024-05-05T19:51:10.335Z"
   },
   {
    "duration": 18,
    "start_time": "2024-05-05T19:51:10.386Z"
   },
   {
    "duration": 112,
    "start_time": "2024-05-05T19:51:10.405Z"
   },
   {
    "duration": 5,
    "start_time": "2024-05-05T19:51:10.521Z"
   },
   {
    "duration": 5,
    "start_time": "2024-05-05T19:51:10.527Z"
   },
   {
    "duration": 12,
    "start_time": "2024-05-05T19:51:10.545Z"
   },
   {
    "duration": 13,
    "start_time": "2024-05-05T19:51:10.559Z"
   },
   {
    "duration": 10,
    "start_time": "2024-05-05T19:51:10.574Z"
   },
   {
    "duration": 9,
    "start_time": "2024-05-05T19:51:10.586Z"
   },
   {
    "duration": 6,
    "start_time": "2024-05-05T19:51:10.596Z"
   },
   {
    "duration": 7,
    "start_time": "2024-05-05T19:51:10.604Z"
   },
   {
    "duration": 15,
    "start_time": "2024-05-05T19:51:10.612Z"
   },
   {
    "duration": 18,
    "start_time": "2024-05-05T19:51:10.628Z"
   },
   {
    "duration": 7,
    "start_time": "2024-05-05T19:51:10.648Z"
   },
   {
    "duration": 13,
    "start_time": "2024-05-05T19:51:10.657Z"
   },
   {
    "duration": 6,
    "start_time": "2024-05-05T19:51:10.671Z"
   },
   {
    "duration": 23,
    "start_time": "2024-05-05T19:51:10.679Z"
   },
   {
    "duration": 11,
    "start_time": "2024-05-05T19:51:10.703Z"
   },
   {
    "duration": 21,
    "start_time": "2024-05-05T19:51:10.715Z"
   },
   {
    "duration": 7,
    "start_time": "2024-05-05T19:51:10.737Z"
   },
   {
    "duration": 26,
    "start_time": "2024-05-05T19:51:10.745Z"
   },
   {
    "duration": 3,
    "start_time": "2024-05-05T19:51:29.008Z"
   },
   {
    "duration": 3,
    "start_time": "2024-05-05T19:51:43.634Z"
   },
   {
    "duration": 3,
    "start_time": "2024-05-05T19:51:54.822Z"
   },
   {
    "duration": 54,
    "start_time": "2024-05-05T19:52:30.181Z"
   },
   {
    "duration": 22,
    "start_time": "2024-05-05T19:53:01.387Z"
   },
   {
    "duration": 896,
    "start_time": "2024-05-06T05:48:16.258Z"
   },
   {
    "duration": 820,
    "start_time": "2024-05-06T05:48:17.156Z"
   },
   {
    "duration": 15,
    "start_time": "2024-05-06T05:48:17.978Z"
   },
   {
    "duration": 39,
    "start_time": "2024-05-06T05:48:17.994Z"
   },
   {
    "duration": 23,
    "start_time": "2024-05-06T05:48:18.036Z"
   },
   {
    "duration": 10,
    "start_time": "2024-05-06T05:48:18.060Z"
   },
   {
    "duration": 87,
    "start_time": "2024-05-06T05:48:18.071Z"
   },
   {
    "duration": 20,
    "start_time": "2024-05-06T05:48:18.160Z"
   },
   {
    "duration": 31,
    "start_time": "2024-05-06T05:48:18.181Z"
   },
   {
    "duration": 119,
    "start_time": "2024-05-06T05:48:18.214Z"
   },
   {
    "duration": 121,
    "start_time": "2024-05-06T05:48:18.335Z"
   },
   {
    "duration": 108,
    "start_time": "2024-05-06T05:48:18.459Z"
   },
   {
    "duration": 26,
    "start_time": "2024-05-06T05:48:18.569Z"
   },
   {
    "duration": 17,
    "start_time": "2024-05-06T05:48:18.598Z"
   },
   {
    "duration": 42,
    "start_time": "2024-05-06T05:48:18.616Z"
   },
   {
    "duration": 23,
    "start_time": "2024-05-06T05:48:18.661Z"
   },
   {
    "duration": 54,
    "start_time": "2024-05-06T05:48:18.686Z"
   },
   {
    "duration": 8,
    "start_time": "2024-05-06T05:48:18.742Z"
   },
   {
    "duration": 39,
    "start_time": "2024-05-06T05:48:18.751Z"
   },
   {
    "duration": 19,
    "start_time": "2024-05-06T05:48:18.792Z"
   },
   {
    "duration": 19,
    "start_time": "2024-05-06T05:48:18.812Z"
   },
   {
    "duration": 77,
    "start_time": "2024-05-06T05:48:18.832Z"
   },
   {
    "duration": 694,
    "start_time": "2024-05-06T05:48:18.911Z"
   },
   {
    "duration": 27,
    "start_time": "2024-05-06T05:48:19.607Z"
   },
   {
    "duration": 276,
    "start_time": "2024-05-06T05:48:19.635Z"
   },
   {
    "duration": 37,
    "start_time": "2024-05-06T05:48:19.913Z"
   },
   {
    "duration": 45,
    "start_time": "2024-05-06T05:48:19.951Z"
   },
   {
    "duration": 32,
    "start_time": "2024-05-06T05:48:19.997Z"
   },
   {
    "duration": 14,
    "start_time": "2024-05-06T05:48:20.030Z"
   },
   {
    "duration": 42,
    "start_time": "2024-05-06T05:48:20.046Z"
   },
   {
    "duration": 159,
    "start_time": "2024-05-06T05:48:20.090Z"
   },
   {
    "duration": 87,
    "start_time": "2024-05-06T05:48:20.251Z"
   },
   {
    "duration": 28,
    "start_time": "2024-05-06T05:48:20.339Z"
   },
   {
    "duration": 112,
    "start_time": "2024-05-06T05:48:20.369Z"
   },
   {
    "duration": 0,
    "start_time": "2024-05-06T05:48:20.483Z"
   },
   {
    "duration": 0,
    "start_time": "2024-05-06T05:48:20.484Z"
   },
   {
    "duration": 0,
    "start_time": "2024-05-06T05:48:20.487Z"
   },
   {
    "duration": 1,
    "start_time": "2024-05-06T05:48:20.487Z"
   },
   {
    "duration": 0,
    "start_time": "2024-05-06T05:48:20.488Z"
   },
   {
    "duration": 0,
    "start_time": "2024-05-06T05:48:20.490Z"
   },
   {
    "duration": 0,
    "start_time": "2024-05-06T05:48:20.491Z"
   },
   {
    "duration": 1,
    "start_time": "2024-05-06T05:48:20.492Z"
   },
   {
    "duration": 0,
    "start_time": "2024-05-06T05:48:20.493Z"
   },
   {
    "duration": 0,
    "start_time": "2024-05-06T05:48:20.494Z"
   },
   {
    "duration": 0,
    "start_time": "2024-05-06T05:48:20.496Z"
   },
   {
    "duration": 0,
    "start_time": "2024-05-06T05:48:20.497Z"
   },
   {
    "duration": 0,
    "start_time": "2024-05-06T05:48:20.498Z"
   },
   {
    "duration": 0,
    "start_time": "2024-05-06T05:48:20.499Z"
   },
   {
    "duration": 0,
    "start_time": "2024-05-06T05:48:20.500Z"
   },
   {
    "duration": 0,
    "start_time": "2024-05-06T05:48:20.501Z"
   },
   {
    "duration": 0,
    "start_time": "2024-05-06T05:48:20.502Z"
   },
   {
    "duration": 0,
    "start_time": "2024-05-06T05:48:20.503Z"
   },
   {
    "duration": 0,
    "start_time": "2024-05-06T05:48:20.504Z"
   },
   {
    "duration": 0,
    "start_time": "2024-05-06T05:48:20.505Z"
   },
   {
    "duration": 0,
    "start_time": "2024-05-06T05:48:20.506Z"
   },
   {
    "duration": 0,
    "start_time": "2024-05-06T05:48:20.507Z"
   },
   {
    "duration": 0,
    "start_time": "2024-05-06T05:48:20.508Z"
   },
   {
    "duration": 16,
    "start_time": "2024-05-06T05:49:27.006Z"
   },
   {
    "duration": 1150,
    "start_time": "2024-05-06T05:50:05.704Z"
   },
   {
    "duration": 323,
    "start_time": "2024-05-06T05:50:27.548Z"
   },
   {
    "duration": 68,
    "start_time": "2024-05-06T05:51:02.135Z"
   },
   {
    "duration": 64,
    "start_time": "2024-05-06T05:51:07.037Z"
   },
   {
    "duration": 81,
    "start_time": "2024-05-06T05:51:22.637Z"
   },
   {
    "duration": 71,
    "start_time": "2024-05-06T05:51:39.703Z"
   },
   {
    "duration": 11,
    "start_time": "2024-05-06T05:51:46.871Z"
   },
   {
    "duration": 74,
    "start_time": "2024-05-06T05:52:05.201Z"
   },
   {
    "duration": 5,
    "start_time": "2024-05-06T05:52:20.052Z"
   },
   {
    "duration": 865,
    "start_time": "2024-05-06T05:52:28.772Z"
   },
   {
    "duration": 176,
    "start_time": "2024-05-06T05:52:29.639Z"
   },
   {
    "duration": 13,
    "start_time": "2024-05-06T05:52:29.817Z"
   },
   {
    "duration": 23,
    "start_time": "2024-05-06T05:52:29.833Z"
   },
   {
    "duration": 30,
    "start_time": "2024-05-06T05:52:29.858Z"
   },
   {
    "duration": 9,
    "start_time": "2024-05-06T05:52:29.890Z"
   },
   {
    "duration": 120,
    "start_time": "2024-05-06T05:52:29.901Z"
   },
   {
    "duration": 25,
    "start_time": "2024-05-06T05:52:30.023Z"
   },
   {
    "duration": 89,
    "start_time": "2024-05-06T05:52:30.050Z"
   },
   {
    "duration": 164,
    "start_time": "2024-05-06T05:52:30.141Z"
   },
   {
    "duration": 116,
    "start_time": "2024-05-06T05:52:30.307Z"
   },
   {
    "duration": 97,
    "start_time": "2024-05-06T05:52:30.425Z"
   },
   {
    "duration": 18,
    "start_time": "2024-05-06T05:52:30.524Z"
   },
   {
    "duration": 37,
    "start_time": "2024-05-06T05:52:30.543Z"
   },
   {
    "duration": 71,
    "start_time": "2024-05-06T05:52:30.581Z"
   },
   {
    "duration": 33,
    "start_time": "2024-05-06T05:52:30.654Z"
   },
   {
    "duration": 55,
    "start_time": "2024-05-06T05:52:30.688Z"
   },
   {
    "duration": 38,
    "start_time": "2024-05-06T05:52:30.745Z"
   },
   {
    "duration": 53,
    "start_time": "2024-05-06T05:52:30.784Z"
   },
   {
    "duration": 81,
    "start_time": "2024-05-06T05:52:30.838Z"
   },
   {
    "duration": 46,
    "start_time": "2024-05-06T05:52:30.921Z"
   },
   {
    "duration": 91,
    "start_time": "2024-05-06T05:52:30.969Z"
   },
   {
    "duration": 545,
    "start_time": "2024-05-06T05:52:31.062Z"
   },
   {
    "duration": 24,
    "start_time": "2024-05-06T05:52:31.609Z"
   },
   {
    "duration": 274,
    "start_time": "2024-05-06T05:52:31.635Z"
   },
   {
    "duration": 24,
    "start_time": "2024-05-06T05:52:31.911Z"
   },
   {
    "duration": 14,
    "start_time": "2024-05-06T05:52:31.936Z"
   },
   {
    "duration": 48,
    "start_time": "2024-05-06T05:52:31.954Z"
   },
   {
    "duration": 12,
    "start_time": "2024-05-06T05:52:32.003Z"
   },
   {
    "duration": 66,
    "start_time": "2024-05-06T05:52:32.017Z"
   },
   {
    "duration": 155,
    "start_time": "2024-05-06T05:52:32.085Z"
   },
   {
    "duration": 80,
    "start_time": "2024-05-06T05:52:32.241Z"
   },
   {
    "duration": 27,
    "start_time": "2024-05-06T05:52:32.323Z"
   },
   {
    "duration": 84,
    "start_time": "2024-05-06T05:52:32.352Z"
   },
   {
    "duration": 11,
    "start_time": "2024-05-06T05:52:32.438Z"
   },
   {
    "duration": 4,
    "start_time": "2024-05-06T05:52:32.450Z"
   },
   {
    "duration": 50,
    "start_time": "2024-05-06T05:52:32.455Z"
   },
   {
    "duration": 45,
    "start_time": "2024-05-06T05:52:32.506Z"
   },
   {
    "duration": 34,
    "start_time": "2024-05-06T05:52:32.552Z"
   },
   {
    "duration": 115,
    "start_time": "2024-05-06T05:52:32.588Z"
   },
   {
    "duration": 5,
    "start_time": "2024-05-06T05:52:32.704Z"
   },
   {
    "duration": 5,
    "start_time": "2024-05-06T05:52:32.711Z"
   },
   {
    "duration": 10,
    "start_time": "2024-05-06T05:52:32.717Z"
   },
   {
    "duration": 12,
    "start_time": "2024-05-06T05:52:32.728Z"
   },
   {
    "duration": 15,
    "start_time": "2024-05-06T05:52:32.741Z"
   },
   {
    "duration": 23,
    "start_time": "2024-05-06T05:52:32.758Z"
   },
   {
    "duration": 12,
    "start_time": "2024-05-06T05:52:32.783Z"
   },
   {
    "duration": 10,
    "start_time": "2024-05-06T05:52:32.797Z"
   },
   {
    "duration": 10,
    "start_time": "2024-05-06T05:52:32.809Z"
   },
   {
    "duration": 9,
    "start_time": "2024-05-06T05:52:32.820Z"
   },
   {
    "duration": 12,
    "start_time": "2024-05-06T05:52:32.831Z"
   },
   {
    "duration": 11,
    "start_time": "2024-05-06T05:52:32.844Z"
   },
   {
    "duration": 25,
    "start_time": "2024-05-06T05:52:32.857Z"
   },
   {
    "duration": 50,
    "start_time": "2024-05-06T05:52:32.883Z"
   },
   {
    "duration": 12,
    "start_time": "2024-05-06T05:52:32.935Z"
   },
   {
    "duration": 9,
    "start_time": "2024-05-06T05:52:32.948Z"
   },
   {
    "duration": 10,
    "start_time": "2024-05-06T05:52:32.958Z"
   },
   {
    "duration": 9,
    "start_time": "2024-05-06T05:52:32.969Z"
   },
   {
    "duration": 36,
    "start_time": "2024-05-06T05:55:21.629Z"
   },
   {
    "duration": 884,
    "start_time": "2024-05-06T05:56:05.036Z"
   },
   {
    "duration": 196,
    "start_time": "2024-05-06T05:56:05.922Z"
   },
   {
    "duration": 13,
    "start_time": "2024-05-06T05:56:06.119Z"
   },
   {
    "duration": 29,
    "start_time": "2024-05-06T05:56:06.134Z"
   },
   {
    "duration": 22,
    "start_time": "2024-05-06T05:56:06.165Z"
   },
   {
    "duration": 8,
    "start_time": "2024-05-06T05:56:06.189Z"
   },
   {
    "duration": 96,
    "start_time": "2024-05-06T05:56:06.199Z"
   },
   {
    "duration": 11,
    "start_time": "2024-05-06T05:56:06.297Z"
   },
   {
    "duration": 27,
    "start_time": "2024-05-06T05:56:06.310Z"
   },
   {
    "duration": 139,
    "start_time": "2024-05-06T05:56:06.341Z"
   },
   {
    "duration": 133,
    "start_time": "2024-05-06T05:56:06.481Z"
   },
   {
    "duration": 97,
    "start_time": "2024-05-06T05:56:06.615Z"
   },
   {
    "duration": 19,
    "start_time": "2024-05-06T05:56:06.714Z"
   },
   {
    "duration": 9,
    "start_time": "2024-05-06T05:56:06.735Z"
   },
   {
    "duration": 48,
    "start_time": "2024-05-06T05:56:06.745Z"
   },
   {
    "duration": 15,
    "start_time": "2024-05-06T05:56:06.795Z"
   },
   {
    "duration": 51,
    "start_time": "2024-05-06T05:56:06.812Z"
   },
   {
    "duration": 21,
    "start_time": "2024-05-06T05:56:06.865Z"
   },
   {
    "duration": 28,
    "start_time": "2024-05-06T05:56:06.888Z"
   },
   {
    "duration": 19,
    "start_time": "2024-05-06T05:56:06.918Z"
   },
   {
    "duration": 26,
    "start_time": "2024-05-06T05:56:06.939Z"
   },
   {
    "duration": 79,
    "start_time": "2024-05-06T05:56:06.967Z"
   },
   {
    "duration": 573,
    "start_time": "2024-05-06T05:56:07.048Z"
   },
   {
    "duration": 34,
    "start_time": "2024-05-06T05:56:07.623Z"
   },
   {
    "duration": 273,
    "start_time": "2024-05-06T05:56:07.659Z"
   },
   {
    "duration": 33,
    "start_time": "2024-05-06T05:56:07.933Z"
   },
   {
    "duration": 32,
    "start_time": "2024-05-06T05:56:07.967Z"
   },
   {
    "duration": 12,
    "start_time": "2024-05-06T05:56:08.003Z"
   },
   {
    "duration": 30,
    "start_time": "2024-05-06T05:56:08.017Z"
   },
   {
    "duration": 41,
    "start_time": "2024-05-06T05:56:08.049Z"
   },
   {
    "duration": 30,
    "start_time": "2024-05-06T05:56:08.092Z"
   },
   {
    "duration": 162,
    "start_time": "2024-05-06T05:56:08.124Z"
   },
   {
    "duration": 74,
    "start_time": "2024-05-06T05:56:08.288Z"
   },
   {
    "duration": 39,
    "start_time": "2024-05-06T05:56:08.364Z"
   },
   {
    "duration": 82,
    "start_time": "2024-05-06T05:56:08.405Z"
   },
   {
    "duration": 12,
    "start_time": "2024-05-06T05:56:08.489Z"
   },
   {
    "duration": 4,
    "start_time": "2024-05-06T05:56:08.503Z"
   },
   {
    "duration": 36,
    "start_time": "2024-05-06T05:56:08.508Z"
   },
   {
    "duration": 77,
    "start_time": "2024-05-06T05:56:08.545Z"
   },
   {
    "duration": 22,
    "start_time": "2024-05-06T05:56:08.624Z"
   },
   {
    "duration": 150,
    "start_time": "2024-05-06T05:56:08.647Z"
   },
   {
    "duration": 5,
    "start_time": "2024-05-06T05:56:08.799Z"
   },
   {
    "duration": 7,
    "start_time": "2024-05-06T05:56:08.806Z"
   },
   {
    "duration": 24,
    "start_time": "2024-05-06T05:56:08.815Z"
   },
   {
    "duration": 10,
    "start_time": "2024-05-06T05:56:08.841Z"
   },
   {
    "duration": 14,
    "start_time": "2024-05-06T05:56:08.853Z"
   },
   {
    "duration": 25,
    "start_time": "2024-05-06T05:56:08.868Z"
   },
   {
    "duration": 10,
    "start_time": "2024-05-06T05:56:08.895Z"
   },
   {
    "duration": 10,
    "start_time": "2024-05-06T05:56:08.907Z"
   },
   {
    "duration": 51,
    "start_time": "2024-05-06T05:56:08.918Z"
   },
   {
    "duration": 20,
    "start_time": "2024-05-06T05:56:08.970Z"
   },
   {
    "duration": 11,
    "start_time": "2024-05-06T05:56:08.991Z"
   },
   {
    "duration": 11,
    "start_time": "2024-05-06T05:56:09.004Z"
   },
   {
    "duration": 7,
    "start_time": "2024-05-06T05:56:09.016Z"
   },
   {
    "duration": 13,
    "start_time": "2024-05-06T05:56:09.025Z"
   },
   {
    "duration": 9,
    "start_time": "2024-05-06T05:56:09.039Z"
   },
   {
    "duration": 8,
    "start_time": "2024-05-06T05:56:09.049Z"
   },
   {
    "duration": 23,
    "start_time": "2024-05-06T05:56:09.058Z"
   },
   {
    "duration": 12,
    "start_time": "2024-05-06T05:56:09.083Z"
   },
   {
    "duration": 38,
    "start_time": "2024-05-06T05:56:37.600Z"
   },
   {
    "duration": 870,
    "start_time": "2024-05-06T05:56:51.758Z"
   },
   {
    "duration": 177,
    "start_time": "2024-05-06T05:56:52.630Z"
   },
   {
    "duration": 14,
    "start_time": "2024-05-06T05:56:52.808Z"
   },
   {
    "duration": 22,
    "start_time": "2024-05-06T05:56:52.824Z"
   },
   {
    "duration": 11,
    "start_time": "2024-05-06T05:56:52.847Z"
   },
   {
    "duration": 26,
    "start_time": "2024-05-06T05:56:52.860Z"
   },
   {
    "duration": 88,
    "start_time": "2024-05-06T05:56:52.887Z"
   },
   {
    "duration": 9,
    "start_time": "2024-05-06T05:56:52.977Z"
   },
   {
    "duration": 44,
    "start_time": "2024-05-06T05:56:52.988Z"
   },
   {
    "duration": 109,
    "start_time": "2024-05-06T05:56:53.034Z"
   },
   {
    "duration": 115,
    "start_time": "2024-05-06T05:56:53.145Z"
   },
   {
    "duration": 93,
    "start_time": "2024-05-06T05:56:53.261Z"
   },
   {
    "duration": 31,
    "start_time": "2024-05-06T05:56:53.355Z"
   },
   {
    "duration": 5,
    "start_time": "2024-05-06T05:56:53.387Z"
   },
   {
    "duration": 31,
    "start_time": "2024-05-06T05:56:53.394Z"
   },
   {
    "duration": 13,
    "start_time": "2024-05-06T05:56:53.426Z"
   },
   {
    "duration": 57,
    "start_time": "2024-05-06T05:56:53.440Z"
   },
   {
    "duration": 8,
    "start_time": "2024-05-06T05:56:53.498Z"
   },
   {
    "duration": 25,
    "start_time": "2024-05-06T05:56:53.507Z"
   },
   {
    "duration": 20,
    "start_time": "2024-05-06T05:56:53.533Z"
   },
   {
    "duration": 48,
    "start_time": "2024-05-06T05:56:53.554Z"
   },
   {
    "duration": 62,
    "start_time": "2024-05-06T05:56:53.603Z"
   },
   {
    "duration": 956,
    "start_time": "2024-05-06T05:56:53.667Z"
   },
   {
    "duration": 76,
    "start_time": "2024-05-06T05:56:54.625Z"
   },
   {
    "duration": 492,
    "start_time": "2024-05-06T05:56:54.702Z"
   },
   {
    "duration": 33,
    "start_time": "2024-05-06T05:56:55.195Z"
   },
   {
    "duration": 30,
    "start_time": "2024-05-06T05:56:55.230Z"
   },
   {
    "duration": 26,
    "start_time": "2024-05-06T05:56:55.283Z"
   },
   {
    "duration": 12,
    "start_time": "2024-05-06T05:56:55.311Z"
   },
   {
    "duration": 31,
    "start_time": "2024-05-06T05:56:55.325Z"
   },
   {
    "duration": 15,
    "start_time": "2024-05-06T05:56:55.381Z"
   },
   {
    "duration": 38,
    "start_time": "2024-05-06T05:56:55.398Z"
   },
   {
    "duration": 158,
    "start_time": "2024-05-06T05:56:55.438Z"
   },
   {
    "duration": 70,
    "start_time": "2024-05-06T05:56:55.598Z"
   },
   {
    "duration": 26,
    "start_time": "2024-05-06T05:56:55.680Z"
   },
   {
    "duration": 83,
    "start_time": "2024-05-06T05:56:55.707Z"
   },
   {
    "duration": 14,
    "start_time": "2024-05-06T05:56:55.792Z"
   },
   {
    "duration": 12,
    "start_time": "2024-05-06T05:56:55.808Z"
   },
   {
    "duration": 32,
    "start_time": "2024-05-06T05:56:55.822Z"
   },
   {
    "duration": 61,
    "start_time": "2024-05-06T05:56:55.856Z"
   },
   {
    "duration": 18,
    "start_time": "2024-05-06T05:56:55.918Z"
   },
   {
    "duration": 123,
    "start_time": "2024-05-06T05:56:55.938Z"
   },
   {
    "duration": 5,
    "start_time": "2024-05-06T05:56:56.062Z"
   },
   {
    "duration": 12,
    "start_time": "2024-05-06T05:56:56.068Z"
   },
   {
    "duration": 13,
    "start_time": "2024-05-06T05:56:56.082Z"
   },
   {
    "duration": 19,
    "start_time": "2024-05-06T05:56:56.097Z"
   },
   {
    "duration": 29,
    "start_time": "2024-05-06T05:56:56.118Z"
   },
   {
    "duration": 9,
    "start_time": "2024-05-06T05:56:56.149Z"
   },
   {
    "duration": 34,
    "start_time": "2024-05-06T05:56:56.160Z"
   },
   {
    "duration": 23,
    "start_time": "2024-05-06T05:56:56.196Z"
   },
   {
    "duration": 15,
    "start_time": "2024-05-06T05:56:56.221Z"
   },
   {
    "duration": 12,
    "start_time": "2024-05-06T05:56:56.238Z"
   },
   {
    "duration": 14,
    "start_time": "2024-05-06T05:56:56.252Z"
   },
   {
    "duration": 8,
    "start_time": "2024-05-06T05:56:56.268Z"
   },
   {
    "duration": 18,
    "start_time": "2024-05-06T05:56:56.278Z"
   },
   {
    "duration": 8,
    "start_time": "2024-05-06T05:56:56.297Z"
   },
   {
    "duration": 7,
    "start_time": "2024-05-06T05:56:56.307Z"
   },
   {
    "duration": 10,
    "start_time": "2024-05-06T05:56:56.315Z"
   },
   {
    "duration": 7,
    "start_time": "2024-05-06T05:56:56.327Z"
   },
   {
    "duration": 8,
    "start_time": "2024-05-06T05:56:56.336Z"
   },
   {
    "duration": 15,
    "start_time": "2024-05-06T06:01:49.024Z"
   },
   {
    "duration": 16,
    "start_time": "2024-05-06T06:02:03.684Z"
   },
   {
    "duration": 15,
    "start_time": "2024-05-06T06:02:24.389Z"
   },
   {
    "duration": 16,
    "start_time": "2024-05-06T06:03:27.704Z"
   },
   {
    "duration": 76,
    "start_time": "2024-05-06T06:09:51.196Z"
   },
   {
    "duration": 43,
    "start_time": "2024-05-06T06:10:08.804Z"
   },
   {
    "duration": 49,
    "start_time": "2024-05-06T06:11:20.387Z"
   },
   {
    "duration": 51,
    "start_time": "2024-05-06T06:12:38.725Z"
   },
   {
    "duration": 31,
    "start_time": "2024-05-06T06:12:47.117Z"
   },
   {
    "duration": 101,
    "start_time": "2024-05-06T06:13:14.665Z"
   },
   {
    "duration": 2,
    "start_time": "2024-05-06T06:13:33.814Z"
   },
   {
    "duration": 2,
    "start_time": "2024-05-06T06:13:52.968Z"
   },
   {
    "duration": 77,
    "start_time": "2024-05-06T06:14:36.697Z"
   },
   {
    "duration": 110,
    "start_time": "2024-05-06T06:16:05.675Z"
   },
   {
    "duration": 903,
    "start_time": "2024-05-06T09:10:47.653Z"
   },
   {
    "duration": 841,
    "start_time": "2024-05-06T09:10:48.558Z"
   },
   {
    "duration": 15,
    "start_time": "2024-05-06T09:10:49.401Z"
   },
   {
    "duration": 30,
    "start_time": "2024-05-06T09:10:49.418Z"
   },
   {
    "duration": 11,
    "start_time": "2024-05-06T09:10:49.449Z"
   },
   {
    "duration": 8,
    "start_time": "2024-05-06T09:10:49.462Z"
   },
   {
    "duration": 101,
    "start_time": "2024-05-06T09:10:49.491Z"
   },
   {
    "duration": 11,
    "start_time": "2024-05-06T09:10:49.594Z"
   },
   {
    "duration": 52,
    "start_time": "2024-05-06T09:10:49.607Z"
   },
   {
    "duration": 118,
    "start_time": "2024-05-06T09:10:49.662Z"
   },
   {
    "duration": 126,
    "start_time": "2024-05-06T09:10:49.782Z"
   },
   {
    "duration": 104,
    "start_time": "2024-05-06T09:10:49.909Z"
   },
   {
    "duration": 25,
    "start_time": "2024-05-06T09:10:50.015Z"
   },
   {
    "duration": 7,
    "start_time": "2024-05-06T09:10:50.042Z"
   },
   {
    "duration": 65,
    "start_time": "2024-05-06T09:10:50.051Z"
   },
   {
    "duration": 19,
    "start_time": "2024-05-06T09:10:50.118Z"
   },
   {
    "duration": 55,
    "start_time": "2024-05-06T09:10:50.138Z"
   },
   {
    "duration": 7,
    "start_time": "2024-05-06T09:10:50.195Z"
   },
   {
    "duration": 34,
    "start_time": "2024-05-06T09:10:50.204Z"
   },
   {
    "duration": 19,
    "start_time": "2024-05-06T09:10:50.240Z"
   },
   {
    "duration": 41,
    "start_time": "2024-05-06T09:10:50.261Z"
   },
   {
    "duration": 60,
    "start_time": "2024-05-06T09:10:50.304Z"
   },
   {
    "duration": 819,
    "start_time": "2024-05-06T09:10:50.366Z"
   },
   {
    "duration": 33,
    "start_time": "2024-05-06T09:10:51.186Z"
   },
   {
    "duration": 312,
    "start_time": "2024-05-06T09:10:51.221Z"
   },
   {
    "duration": 43,
    "start_time": "2024-05-06T09:10:51.535Z"
   },
   {
    "duration": 45,
    "start_time": "2024-05-06T09:10:51.580Z"
   },
   {
    "duration": 27,
    "start_time": "2024-05-06T09:10:51.629Z"
   },
   {
    "duration": 41,
    "start_time": "2024-05-06T09:10:51.657Z"
   },
   {
    "duration": 36,
    "start_time": "2024-05-06T09:10:51.700Z"
   },
   {
    "duration": 14,
    "start_time": "2024-05-06T09:10:51.737Z"
   },
   {
    "duration": 60,
    "start_time": "2024-05-06T09:10:51.753Z"
   },
   {
    "duration": 166,
    "start_time": "2024-05-06T09:10:51.814Z"
   },
   {
    "duration": 91,
    "start_time": "2024-05-06T09:10:51.981Z"
   },
   {
    "duration": 39,
    "start_time": "2024-05-06T09:10:52.073Z"
   },
   {
    "duration": 91,
    "start_time": "2024-05-06T09:10:52.114Z"
   },
   {
    "duration": 12,
    "start_time": "2024-05-06T09:10:52.206Z"
   },
   {
    "duration": 26,
    "start_time": "2024-05-06T09:10:52.220Z"
   },
   {
    "duration": 36,
    "start_time": "2024-05-06T09:10:52.248Z"
   },
   {
    "duration": 52,
    "start_time": "2024-05-06T09:10:52.285Z"
   },
   {
    "duration": 52,
    "start_time": "2024-05-06T09:10:52.339Z"
   },
   {
    "duration": 126,
    "start_time": "2024-05-06T09:10:52.393Z"
   },
   {
    "duration": 6,
    "start_time": "2024-05-06T09:10:52.520Z"
   },
   {
    "duration": 37,
    "start_time": "2024-05-06T09:10:52.527Z"
   },
   {
    "duration": 14,
    "start_time": "2024-05-06T09:10:52.565Z"
   },
   {
    "duration": 11,
    "start_time": "2024-05-06T09:10:52.581Z"
   },
   {
    "duration": 12,
    "start_time": "2024-05-06T09:10:52.593Z"
   },
   {
    "duration": 10,
    "start_time": "2024-05-06T09:10:52.607Z"
   },
   {
    "duration": 12,
    "start_time": "2024-05-06T09:10:52.619Z"
   },
   {
    "duration": 15,
    "start_time": "2024-05-06T09:10:52.632Z"
   },
   {
    "duration": 24,
    "start_time": "2024-05-06T09:10:52.649Z"
   },
   {
    "duration": 10,
    "start_time": "2024-05-06T09:10:52.692Z"
   },
   {
    "duration": 15,
    "start_time": "2024-05-06T09:10:52.704Z"
   },
   {
    "duration": 14,
    "start_time": "2024-05-06T09:10:52.722Z"
   },
   {
    "duration": 27,
    "start_time": "2024-05-06T09:10:52.739Z"
   },
   {
    "duration": 24,
    "start_time": "2024-05-06T09:10:52.768Z"
   },
   {
    "duration": 8,
    "start_time": "2024-05-06T09:10:52.794Z"
   },
   {
    "duration": 12,
    "start_time": "2024-05-06T09:10:52.803Z"
   },
   {
    "duration": 12,
    "start_time": "2024-05-06T09:10:52.817Z"
   },
   {
    "duration": 20,
    "start_time": "2024-05-06T09:11:34.194Z"
   },
   {
    "duration": 98,
    "start_time": "2024-05-06T09:12:24.997Z"
   },
   {
    "duration": 923,
    "start_time": "2024-05-06T09:28:23.006Z"
   },
   {
    "duration": 189,
    "start_time": "2024-05-06T09:28:23.931Z"
   },
   {
    "duration": 15,
    "start_time": "2024-05-06T09:28:24.121Z"
   },
   {
    "duration": 23,
    "start_time": "2024-05-06T09:28:24.138Z"
   },
   {
    "duration": 30,
    "start_time": "2024-05-06T09:28:24.162Z"
   },
   {
    "duration": 8,
    "start_time": "2024-05-06T09:28:24.194Z"
   },
   {
    "duration": 103,
    "start_time": "2024-05-06T09:28:24.204Z"
   },
   {
    "duration": 9,
    "start_time": "2024-05-06T09:28:24.309Z"
   },
   {
    "duration": 30,
    "start_time": "2024-05-06T09:28:24.320Z"
   },
   {
    "duration": 130,
    "start_time": "2024-05-06T09:28:24.353Z"
   },
   {
    "duration": 134,
    "start_time": "2024-05-06T09:28:24.484Z"
   },
   {
    "duration": 114,
    "start_time": "2024-05-06T09:28:24.620Z"
   },
   {
    "duration": 20,
    "start_time": "2024-05-06T09:28:24.736Z"
   },
   {
    "duration": 5,
    "start_time": "2024-05-06T09:28:24.757Z"
   },
   {
    "duration": 59,
    "start_time": "2024-05-06T09:28:24.764Z"
   },
   {
    "duration": 19,
    "start_time": "2024-05-06T09:28:24.826Z"
   },
   {
    "duration": 52,
    "start_time": "2024-05-06T09:28:24.847Z"
   },
   {
    "duration": 7,
    "start_time": "2024-05-06T09:28:24.901Z"
   },
   {
    "duration": 27,
    "start_time": "2024-05-06T09:28:24.910Z"
   },
   {
    "duration": 21,
    "start_time": "2024-05-06T09:28:24.939Z"
   },
   {
    "duration": 30,
    "start_time": "2024-05-06T09:28:24.983Z"
   },
   {
    "duration": 74,
    "start_time": "2024-05-06T09:28:25.015Z"
   },
   {
    "duration": 548,
    "start_time": "2024-05-06T09:28:25.091Z"
   },
   {
    "duration": 24,
    "start_time": "2024-05-06T09:28:25.641Z"
   },
   {
    "duration": 305,
    "start_time": "2024-05-06T09:28:25.667Z"
   },
   {
    "duration": 54,
    "start_time": "2024-05-06T09:28:25.974Z"
   },
   {
    "duration": 35,
    "start_time": "2024-05-06T09:28:26.030Z"
   },
   {
    "duration": 29,
    "start_time": "2024-05-06T09:28:26.085Z"
   },
   {
    "duration": 12,
    "start_time": "2024-05-06T09:28:26.116Z"
   },
   {
    "duration": 55,
    "start_time": "2024-05-06T09:28:26.130Z"
   },
   {
    "duration": 36,
    "start_time": "2024-05-06T09:28:26.188Z"
   },
   {
    "duration": 190,
    "start_time": "2024-05-06T09:28:26.227Z"
   },
   {
    "duration": 93,
    "start_time": "2024-05-06T09:28:26.418Z"
   },
   {
    "duration": 26,
    "start_time": "2024-05-06T09:28:26.512Z"
   },
   {
    "duration": 98,
    "start_time": "2024-05-06T09:28:26.540Z"
   },
   {
    "duration": 13,
    "start_time": "2024-05-06T09:28:26.641Z"
   },
   {
    "duration": 4,
    "start_time": "2024-05-06T09:28:26.656Z"
   },
   {
    "duration": 43,
    "start_time": "2024-05-06T09:28:26.662Z"
   },
   {
    "duration": 49,
    "start_time": "2024-05-06T09:28:26.707Z"
   },
   {
    "duration": 49,
    "start_time": "2024-05-06T09:28:26.758Z"
   },
   {
    "duration": 126,
    "start_time": "2024-05-06T09:28:26.809Z"
   },
   {
    "duration": 5,
    "start_time": "2024-05-06T09:28:26.937Z"
   },
   {
    "duration": 24,
    "start_time": "2024-05-06T09:28:26.944Z"
   },
   {
    "duration": 19,
    "start_time": "2024-05-06T09:28:26.970Z"
   },
   {
    "duration": 19,
    "start_time": "2024-05-06T09:28:26.991Z"
   },
   {
    "duration": 12,
    "start_time": "2024-05-06T09:28:27.011Z"
   },
   {
    "duration": 15,
    "start_time": "2024-05-06T09:28:27.024Z"
   },
   {
    "duration": 20,
    "start_time": "2024-05-06T09:28:27.041Z"
   },
   {
    "duration": 23,
    "start_time": "2024-05-06T09:28:27.063Z"
   },
   {
    "duration": 22,
    "start_time": "2024-05-06T09:28:27.087Z"
   },
   {
    "duration": 14,
    "start_time": "2024-05-06T09:28:27.111Z"
   },
   {
    "duration": 24,
    "start_time": "2024-05-06T09:28:27.126Z"
   },
   {
    "duration": 17,
    "start_time": "2024-05-06T09:28:27.152Z"
   },
   {
    "duration": 24,
    "start_time": "2024-05-06T09:28:27.171Z"
   },
   {
    "duration": 22,
    "start_time": "2024-05-06T09:28:27.196Z"
   },
   {
    "duration": 15,
    "start_time": "2024-05-06T09:28:27.220Z"
   },
   {
    "duration": 28,
    "start_time": "2024-05-06T09:28:27.237Z"
   },
   {
    "duration": 18,
    "start_time": "2024-05-06T09:28:27.267Z"
   },
   {
    "duration": 102,
    "start_time": "2024-05-06T09:40:22.065Z"
   },
   {
    "duration": 71,
    "start_time": "2024-05-06T09:43:44.643Z"
   },
   {
    "duration": 78,
    "start_time": "2024-05-06T09:44:06.911Z"
   },
   {
    "duration": 68,
    "start_time": "2024-05-06T09:44:42.261Z"
   },
   {
    "duration": 119,
    "start_time": "2024-05-06T09:47:36.798Z"
   },
   {
    "duration": 52,
    "start_time": "2024-05-06T09:47:39.635Z"
   },
   {
    "duration": 52,
    "start_time": "2024-05-06T09:47:43.558Z"
   },
   {
    "duration": 64,
    "start_time": "2024-05-06T09:48:16.093Z"
   },
   {
    "duration": 55,
    "start_time": "2024-05-06T09:48:23.287Z"
   },
   {
    "duration": 65,
    "start_time": "2024-05-06T09:48:34.106Z"
   },
   {
    "duration": 7,
    "start_time": "2024-05-06T09:49:10.320Z"
   },
   {
    "duration": 52,
    "start_time": "2024-05-06T09:49:13.779Z"
   },
   {
    "duration": 884,
    "start_time": "2024-05-06T09:49:24.949Z"
   },
   {
    "duration": 186,
    "start_time": "2024-05-06T09:49:25.835Z"
   },
   {
    "duration": 14,
    "start_time": "2024-05-06T09:49:26.023Z"
   },
   {
    "duration": 45,
    "start_time": "2024-05-06T09:49:26.039Z"
   },
   {
    "duration": 15,
    "start_time": "2024-05-06T09:49:26.087Z"
   },
   {
    "duration": 10,
    "start_time": "2024-05-06T09:49:26.103Z"
   },
   {
    "duration": 99,
    "start_time": "2024-05-06T09:49:26.115Z"
   },
   {
    "duration": 10,
    "start_time": "2024-05-06T09:49:26.215Z"
   },
   {
    "duration": 77,
    "start_time": "2024-05-06T09:49:26.226Z"
   },
   {
    "duration": 113,
    "start_time": "2024-05-06T09:49:26.305Z"
   },
   {
    "duration": 121,
    "start_time": "2024-05-06T09:49:26.419Z"
   },
   {
    "duration": 120,
    "start_time": "2024-05-06T09:49:26.541Z"
   },
   {
    "duration": 29,
    "start_time": "2024-05-06T09:49:26.663Z"
   },
   {
    "duration": 5,
    "start_time": "2024-05-06T09:49:26.696Z"
   },
   {
    "duration": 47,
    "start_time": "2024-05-06T09:49:26.702Z"
   },
   {
    "duration": 14,
    "start_time": "2024-05-06T09:49:26.751Z"
   },
   {
    "duration": 69,
    "start_time": "2024-05-06T09:49:26.767Z"
   },
   {
    "duration": 11,
    "start_time": "2024-05-06T09:49:26.838Z"
   },
   {
    "duration": 45,
    "start_time": "2024-05-06T09:49:26.851Z"
   },
   {
    "duration": 22,
    "start_time": "2024-05-06T09:49:26.897Z"
   },
   {
    "duration": 53,
    "start_time": "2024-05-06T09:49:26.921Z"
   },
   {
    "duration": 85,
    "start_time": "2024-05-06T09:49:26.976Z"
   },
   {
    "duration": 565,
    "start_time": "2024-05-06T09:49:27.063Z"
   },
   {
    "duration": 26,
    "start_time": "2024-05-06T09:49:27.630Z"
   },
   {
    "duration": 294,
    "start_time": "2024-05-06T09:49:27.658Z"
   },
   {
    "duration": 38,
    "start_time": "2024-05-06T09:49:27.954Z"
   },
   {
    "duration": 36,
    "start_time": "2024-05-06T09:49:27.994Z"
   },
   {
    "duration": 28,
    "start_time": "2024-05-06T09:49:28.032Z"
   },
   {
    "duration": 42,
    "start_time": "2024-05-06T09:49:28.061Z"
   },
   {
    "duration": 55,
    "start_time": "2024-05-06T09:49:28.105Z"
   },
   {
    "duration": 68,
    "start_time": "2024-05-06T09:49:28.162Z"
   },
   {
    "duration": 221,
    "start_time": "2024-05-06T09:49:28.232Z"
   },
   {
    "duration": 98,
    "start_time": "2024-05-06T09:49:28.455Z"
   },
   {
    "duration": 28,
    "start_time": "2024-05-06T09:49:28.555Z"
   },
   {
    "duration": 86,
    "start_time": "2024-05-06T09:49:28.592Z"
   },
   {
    "duration": 17,
    "start_time": "2024-05-06T09:49:28.680Z"
   },
   {
    "duration": 8,
    "start_time": "2024-05-06T09:49:28.699Z"
   },
   {
    "duration": 104,
    "start_time": "2024-05-06T09:49:28.708Z"
   },
   {
    "duration": 76,
    "start_time": "2024-05-06T09:49:28.814Z"
   },
   {
    "duration": 56,
    "start_time": "2024-05-06T09:49:28.892Z"
   },
   {
    "duration": 142,
    "start_time": "2024-05-06T09:49:28.952Z"
   },
   {
    "duration": 7,
    "start_time": "2024-05-06T09:49:29.096Z"
   },
   {
    "duration": 57,
    "start_time": "2024-05-06T09:49:29.105Z"
   },
   {
    "duration": 78,
    "start_time": "2024-05-06T09:49:29.164Z"
   },
   {
    "duration": 102,
    "start_time": "2024-05-06T09:49:29.244Z"
   },
   {
    "duration": 47,
    "start_time": "2024-05-06T09:49:29.348Z"
   },
   {
    "duration": 38,
    "start_time": "2024-05-06T09:49:29.397Z"
   },
   {
    "duration": 34,
    "start_time": "2024-05-06T09:49:29.437Z"
   },
   {
    "duration": 39,
    "start_time": "2024-05-06T09:49:29.472Z"
   },
   {
    "duration": 13,
    "start_time": "2024-05-06T09:49:29.513Z"
   },
   {
    "duration": 36,
    "start_time": "2024-05-06T09:49:29.527Z"
   },
   {
    "duration": 122,
    "start_time": "2024-05-06T09:49:29.565Z"
   },
   {
    "duration": 42,
    "start_time": "2024-05-06T09:49:29.689Z"
   },
   {
    "duration": 63,
    "start_time": "2024-05-06T09:49:29.733Z"
   },
   {
    "duration": 62,
    "start_time": "2024-05-06T09:49:29.798Z"
   },
   {
    "duration": 47,
    "start_time": "2024-05-06T09:49:29.862Z"
   },
   {
    "duration": 20,
    "start_time": "2024-05-06T09:49:29.910Z"
   },
   {
    "duration": 21,
    "start_time": "2024-05-06T09:49:29.932Z"
   },
   {
    "duration": 99,
    "start_time": "2024-05-06T09:50:37.732Z"
   },
   {
    "duration": 120,
    "start_time": "2024-05-06T09:51:45.866Z"
   },
   {
    "duration": 15,
    "start_time": "2024-05-06T09:51:51.966Z"
   },
   {
    "duration": 12,
    "start_time": "2024-05-06T09:52:12.925Z"
   },
   {
    "duration": 10,
    "start_time": "2024-05-06T09:52:16.626Z"
   },
   {
    "duration": 13,
    "start_time": "2024-05-06T09:52:29.487Z"
   },
   {
    "duration": 459,
    "start_time": "2024-05-06T09:52:32.842Z"
   },
   {
    "duration": 46,
    "start_time": "2024-05-06T09:53:29.548Z"
   },
   {
    "duration": 972,
    "start_time": "2024-05-06T09:53:50.541Z"
   },
   {
    "duration": 181,
    "start_time": "2024-05-06T09:53:51.515Z"
   },
   {
    "duration": 14,
    "start_time": "2024-05-06T09:53:51.698Z"
   },
   {
    "duration": 23,
    "start_time": "2024-05-06T09:53:51.714Z"
   },
   {
    "duration": 10,
    "start_time": "2024-05-06T09:53:51.739Z"
   },
   {
    "duration": 14,
    "start_time": "2024-05-06T09:53:51.751Z"
   },
   {
    "duration": 104,
    "start_time": "2024-05-06T09:53:51.766Z"
   },
   {
    "duration": 10,
    "start_time": "2024-05-06T09:53:51.872Z"
   },
   {
    "duration": 29,
    "start_time": "2024-05-06T09:53:51.890Z"
   },
   {
    "duration": 125,
    "start_time": "2024-05-06T09:53:51.920Z"
   },
   {
    "duration": 140,
    "start_time": "2024-05-06T09:53:52.047Z"
   },
   {
    "duration": 88,
    "start_time": "2024-05-06T09:53:52.192Z"
   },
   {
    "duration": 28,
    "start_time": "2024-05-06T09:53:52.281Z"
   },
   {
    "duration": 5,
    "start_time": "2024-05-06T09:53:52.312Z"
   },
   {
    "duration": 51,
    "start_time": "2024-05-06T09:53:52.320Z"
   },
   {
    "duration": 20,
    "start_time": "2024-05-06T09:53:52.373Z"
   },
   {
    "duration": 33,
    "start_time": "2024-05-06T09:53:52.395Z"
   },
   {
    "duration": 7,
    "start_time": "2024-05-06T09:53:52.430Z"
   },
   {
    "duration": 32,
    "start_time": "2024-05-06T09:53:52.438Z"
   },
   {
    "duration": 36,
    "start_time": "2024-05-06T09:53:52.472Z"
   },
   {
    "duration": 41,
    "start_time": "2024-05-06T09:53:52.509Z"
   },
   {
    "duration": 83,
    "start_time": "2024-05-06T09:53:52.551Z"
   },
   {
    "duration": 550,
    "start_time": "2024-05-06T09:53:52.636Z"
   },
   {
    "duration": 23,
    "start_time": "2024-05-06T09:53:53.191Z"
   },
   {
    "duration": 286,
    "start_time": "2024-05-06T09:53:53.216Z"
   },
   {
    "duration": 35,
    "start_time": "2024-05-06T09:53:53.504Z"
   },
   {
    "duration": 53,
    "start_time": "2024-05-06T09:53:53.541Z"
   },
   {
    "duration": 36,
    "start_time": "2024-05-06T09:53:53.596Z"
   },
   {
    "duration": 15,
    "start_time": "2024-05-06T09:53:53.634Z"
   },
   {
    "duration": 61,
    "start_time": "2024-05-06T09:53:53.651Z"
   },
   {
    "duration": 28,
    "start_time": "2024-05-06T09:53:53.713Z"
   },
   {
    "duration": 230,
    "start_time": "2024-05-06T09:53:53.742Z"
   },
   {
    "duration": 97,
    "start_time": "2024-05-06T09:53:53.974Z"
   },
   {
    "duration": 38,
    "start_time": "2024-05-06T09:53:54.073Z"
   },
   {
    "duration": 99,
    "start_time": "2024-05-06T09:53:54.113Z"
   },
   {
    "duration": 13,
    "start_time": "2024-05-06T09:53:54.213Z"
   },
   {
    "duration": 449,
    "start_time": "2024-05-06T09:53:54.228Z"
   },
   {
    "duration": 4,
    "start_time": "2024-05-06T09:53:54.679Z"
   },
   {
    "duration": 38,
    "start_time": "2024-05-06T09:53:54.684Z"
   },
   {
    "duration": 101,
    "start_time": "2024-05-06T09:53:54.723Z"
   },
   {
    "duration": 89,
    "start_time": "2024-05-06T09:53:54.828Z"
   },
   {
    "duration": 141,
    "start_time": "2024-05-06T09:53:54.919Z"
   },
   {
    "duration": 7,
    "start_time": "2024-05-06T09:53:55.062Z"
   },
   {
    "duration": 64,
    "start_time": "2024-05-06T09:53:55.070Z"
   },
   {
    "duration": 65,
    "start_time": "2024-05-06T09:53:55.136Z"
   },
   {
    "duration": 10,
    "start_time": "2024-05-06T09:53:55.203Z"
   },
   {
    "duration": 10,
    "start_time": "2024-05-06T09:53:55.215Z"
   },
   {
    "duration": 8,
    "start_time": "2024-05-06T09:53:55.227Z"
   },
   {
    "duration": 11,
    "start_time": "2024-05-06T09:53:55.236Z"
   },
   {
    "duration": 10,
    "start_time": "2024-05-06T09:53:55.248Z"
   },
   {
    "duration": 39,
    "start_time": "2024-05-06T09:53:55.259Z"
   },
   {
    "duration": 13,
    "start_time": "2024-05-06T09:53:55.299Z"
   },
   {
    "duration": 37,
    "start_time": "2024-05-06T09:53:55.313Z"
   },
   {
    "duration": 27,
    "start_time": "2024-05-06T09:53:55.352Z"
   },
   {
    "duration": 19,
    "start_time": "2024-05-06T09:53:55.381Z"
   },
   {
    "duration": 12,
    "start_time": "2024-05-06T09:53:55.402Z"
   },
   {
    "duration": 15,
    "start_time": "2024-05-06T09:53:55.416Z"
   },
   {
    "duration": 14,
    "start_time": "2024-05-06T09:53:55.433Z"
   },
   {
    "duration": 11,
    "start_time": "2024-05-06T09:53:55.449Z"
   },
   {
    "duration": 82,
    "start_time": "2024-05-06T09:54:19.517Z"
   },
   {
    "duration": 816,
    "start_time": "2024-05-06T12:20:26.628Z"
   },
   {
    "duration": 780,
    "start_time": "2024-05-06T12:20:27.445Z"
   },
   {
    "duration": 11,
    "start_time": "2024-05-06T12:20:28.227Z"
   },
   {
    "duration": 16,
    "start_time": "2024-05-06T12:20:28.240Z"
   },
   {
    "duration": 8,
    "start_time": "2024-05-06T12:20:28.257Z"
   },
   {
    "duration": 6,
    "start_time": "2024-05-06T12:20:28.266Z"
   },
   {
    "duration": 58,
    "start_time": "2024-05-06T12:20:28.273Z"
   },
   {
    "duration": 11,
    "start_time": "2024-05-06T12:20:28.332Z"
   },
   {
    "duration": 23,
    "start_time": "2024-05-06T12:20:28.344Z"
   },
   {
    "duration": 87,
    "start_time": "2024-05-06T12:20:28.370Z"
   },
   {
    "duration": 94,
    "start_time": "2024-05-06T12:20:28.458Z"
   },
   {
    "duration": 77,
    "start_time": "2024-05-06T12:20:28.553Z"
   },
   {
    "duration": 15,
    "start_time": "2024-05-06T12:20:28.631Z"
   },
   {
    "duration": 5,
    "start_time": "2024-05-06T12:20:28.647Z"
   },
   {
    "duration": 34,
    "start_time": "2024-05-06T12:20:28.653Z"
   },
   {
    "duration": 10,
    "start_time": "2024-05-06T12:20:28.689Z"
   },
   {
    "duration": 25,
    "start_time": "2024-05-06T12:20:28.700Z"
   },
   {
    "duration": 6,
    "start_time": "2024-05-06T12:20:28.726Z"
   },
   {
    "duration": 16,
    "start_time": "2024-05-06T12:20:28.733Z"
   },
   {
    "duration": 35,
    "start_time": "2024-05-06T12:20:28.750Z"
   },
   {
    "duration": 22,
    "start_time": "2024-05-06T12:20:28.786Z"
   },
   {
    "duration": 68,
    "start_time": "2024-05-06T12:20:28.809Z"
   },
   {
    "duration": 578,
    "start_time": "2024-05-06T12:20:28.878Z"
   },
   {
    "duration": 31,
    "start_time": "2024-05-06T12:20:29.458Z"
   },
   {
    "duration": 219,
    "start_time": "2024-05-06T12:20:29.490Z"
   },
   {
    "duration": 23,
    "start_time": "2024-05-06T12:20:29.711Z"
   },
   {
    "duration": 27,
    "start_time": "2024-05-06T12:20:29.735Z"
   },
   {
    "duration": 29,
    "start_time": "2024-05-06T12:20:29.764Z"
   },
   {
    "duration": 12,
    "start_time": "2024-05-06T12:20:29.794Z"
   },
   {
    "duration": 27,
    "start_time": "2024-05-06T12:20:29.807Z"
   },
   {
    "duration": 17,
    "start_time": "2024-05-06T12:20:29.836Z"
   },
   {
    "duration": 148,
    "start_time": "2024-05-06T12:20:29.854Z"
   },
   {
    "duration": 66,
    "start_time": "2024-05-06T12:20:30.003Z"
   },
   {
    "duration": 36,
    "start_time": "2024-05-06T12:20:30.070Z"
   },
   {
    "duration": 74,
    "start_time": "2024-05-06T12:20:30.107Z"
   },
   {
    "duration": 42,
    "start_time": "2024-05-06T12:20:30.183Z"
   },
   {
    "duration": 655,
    "start_time": "2024-05-06T12:20:30.227Z"
   },
   {
    "duration": 4,
    "start_time": "2024-05-06T12:20:30.883Z"
   },
   {
    "duration": 68,
    "start_time": "2024-05-06T12:20:30.888Z"
   },
   {
    "duration": 43,
    "start_time": "2024-05-06T12:20:30.984Z"
   },
   {
    "duration": 49,
    "start_time": "2024-05-06T12:20:31.028Z"
   },
   {
    "duration": 113,
    "start_time": "2024-05-06T12:20:31.085Z"
   },
   {
    "duration": 4,
    "start_time": "2024-05-06T12:20:31.199Z"
   },
   {
    "duration": 57,
    "start_time": "2024-05-06T12:20:31.204Z"
   },
   {
    "duration": 54,
    "start_time": "2024-05-06T12:20:31.263Z"
   },
   {
    "duration": 26,
    "start_time": "2024-05-06T12:20:31.319Z"
   },
   {
    "duration": 15,
    "start_time": "2024-05-06T12:20:31.346Z"
   },
   {
    "duration": 18,
    "start_time": "2024-05-06T12:20:31.362Z"
   },
   {
    "duration": 31,
    "start_time": "2024-05-06T12:20:31.381Z"
   },
   {
    "duration": 31,
    "start_time": "2024-05-06T12:20:31.413Z"
   },
   {
    "duration": 19,
    "start_time": "2024-05-06T12:20:31.445Z"
   },
   {
    "duration": 17,
    "start_time": "2024-05-06T12:20:31.465Z"
   },
   {
    "duration": 38,
    "start_time": "2024-05-06T12:20:31.483Z"
   },
   {
    "duration": 23,
    "start_time": "2024-05-06T12:20:31.522Z"
   },
   {
    "duration": 34,
    "start_time": "2024-05-06T12:20:31.547Z"
   },
   {
    "duration": 18,
    "start_time": "2024-05-06T12:20:31.582Z"
   },
   {
    "duration": 12,
    "start_time": "2024-05-06T12:20:31.601Z"
   },
   {
    "duration": 13,
    "start_time": "2024-05-06T12:20:31.614Z"
   },
   {
    "duration": 16,
    "start_time": "2024-05-06T12:20:31.628Z"
   },
   {
    "duration": 35,
    "start_time": "2024-05-06T12:22:01.039Z"
   }
  ],
  "kernelspec": {
   "display_name": "Python 3 (ipykernel)",
   "language": "python",
   "name": "python3"
  },
  "language_info": {
   "codemirror_mode": {
    "name": "ipython",
    "version": 3
   },
   "file_extension": ".py",
   "mimetype": "text/x-python",
   "name": "python",
   "nbconvert_exporter": "python",
   "pygments_lexer": "ipython3",
   "version": "3.11.5"
  },
  "toc": {
   "base_numbering": 1,
   "nav_menu": {},
   "number_sections": true,
   "sideBar": true,
   "skip_h1_title": true,
   "title_cell": "Table of Contents",
   "title_sidebar": "Contents",
   "toc_cell": false,
   "toc_position": {
    "height": "calc(100% - 180px)",
    "left": "10px",
    "top": "150px",
    "width": "384px"
   },
   "toc_section_display": true,
   "toc_window_display": true
  }
 },
 "nbformat": 4,
 "nbformat_minor": 2
}
